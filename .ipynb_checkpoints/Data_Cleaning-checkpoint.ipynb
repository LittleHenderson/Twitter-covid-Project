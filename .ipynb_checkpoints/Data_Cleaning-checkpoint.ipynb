{
 "cells": [
  {
   "cell_type": "code",
   "execution_count": 1,
   "id": "8de8733b",
   "metadata": {},
   "outputs": [],
   "source": [
    "import pickle"
   ]
  },
  {
   "cell_type": "code",
   "execution_count": 2,
   "id": "282b42ee",
   "metadata": {},
   "outputs": [],
   "source": [
    "import pandas as pd"
   ]
  },
  {
   "cell_type": "markdown",
   "id": "95d9c85e",
   "metadata": {},
   "source": [
    "# Unpickled Covid Booster Twitter Query"
   ]
  },
  {
   "cell_type": "code",
   "execution_count": 3,
   "id": "cd28242c",
   "metadata": {},
   "outputs": [
    {
     "name": "stdout",
     "output_type": "stream",
     "text": [
      "                         Date  \\\n",
      "0    2022-04-17T23:55:00.000Z   \n",
      "1    2022-04-17T23:34:06.000Z   \n",
      "2    2022-04-17T23:32:34.000Z   \n",
      "3    2022-04-17T23:30:44.000Z   \n",
      "4    2022-04-17T23:28:27.000Z   \n",
      "..                        ...   \n",
      "995  2022-04-17T16:14:08.000Z   \n",
      "996  2022-04-17T16:09:44.000Z   \n",
      "997  2022-04-17T16:07:59.000Z   \n",
      "998  2022-04-17T16:06:07.000Z   \n",
      "999  2022-04-17T16:02:21.000Z   \n",
      "\n",
      "                                                 Tweet  \n",
      "0    RT @girls_can: ‘Learning to live’ with #COVID ...  \n",
      "1    Both Martin and Moroz say while the booster sh...  \n",
      "2    Children aged 12 to 17 in Manitoba are now eli...  \n",
      "3    RT @PhilippineStar: Health Undersecretary Myrn...  \n",
      "4    RT @OccupyMyGov: Anti vaxxers like to ask \"how...  \n",
      "..                                                 ...  \n",
      "995  Covid booster shots are effective up to a poin...  \n",
      "996  @PapaDaddy_ @byJulianMack We're not talking ab...  \n",
      "997  @rupasubramanya Also 2 shots + booster and got...  \n",
      "998  RT @girls_can: ‘Learning to live’ with #COVID ...  \n",
      "999  RT @Patrickwhiteh19: Booster shots for healthy...  \n",
      "\n",
      "[1000 rows x 2 columns]\n"
     ]
    }
   ],
   "source": [
    "shots = open(\"sentiment project/covid_booster_shots_04_18_2022.pkl\", \"rb\")\n",
    "shots_contents = pickle.load(shots)\n",
    "print(shots_contents)"
   ]
  },
  {
   "cell_type": "markdown",
   "id": "70100413",
   "metadata": {},
   "source": [
    "## Covid Booster Shots Tweets in Pandas Data Frame"
   ]
  },
  {
   "cell_type": "code",
   "execution_count": 4,
   "id": "40be548f",
   "metadata": {},
   "outputs": [
    {
     "data": {
      "text/html": [
       "<div>\n",
       "<style scoped>\n",
       "    .dataframe tbody tr th:only-of-type {\n",
       "        vertical-align: middle;\n",
       "    }\n",
       "\n",
       "    .dataframe tbody tr th {\n",
       "        vertical-align: top;\n",
       "    }\n",
       "\n",
       "    .dataframe thead th {\n",
       "        text-align: right;\n",
       "    }\n",
       "</style>\n",
       "<table border=\"1\" class=\"dataframe\">\n",
       "  <thead>\n",
       "    <tr style=\"text-align: right;\">\n",
       "      <th></th>\n",
       "      <th>Date</th>\n",
       "      <th>Tweet</th>\n",
       "    </tr>\n",
       "  </thead>\n",
       "  <tbody>\n",
       "    <tr>\n",
       "      <th>0</th>\n",
       "      <td>2022-04-17T23:55:00.000Z</td>\n",
       "      <td>RT @girls_can: ‘Learning to live’ with #COVID ...</td>\n",
       "    </tr>\n",
       "    <tr>\n",
       "      <th>1</th>\n",
       "      <td>2022-04-17T23:34:06.000Z</td>\n",
       "      <td>Both Martin and Moroz say while the booster sh...</td>\n",
       "    </tr>\n",
       "    <tr>\n",
       "      <th>2</th>\n",
       "      <td>2022-04-17T23:32:34.000Z</td>\n",
       "      <td>Children aged 12 to 17 in Manitoba are now eli...</td>\n",
       "    </tr>\n",
       "    <tr>\n",
       "      <th>3</th>\n",
       "      <td>2022-04-17T23:30:44.000Z</td>\n",
       "      <td>RT @PhilippineStar: Health Undersecretary Myrn...</td>\n",
       "    </tr>\n",
       "    <tr>\n",
       "      <th>4</th>\n",
       "      <td>2022-04-17T23:28:27.000Z</td>\n",
       "      <td>RT @OccupyMyGov: Anti vaxxers like to ask \"how...</td>\n",
       "    </tr>\n",
       "  </tbody>\n",
       "</table>\n",
       "</div>"
      ],
      "text/plain": [
       "                       Date                                              Tweet\n",
       "0  2022-04-17T23:55:00.000Z  RT @girls_can: ‘Learning to live’ with #COVID ...\n",
       "1  2022-04-17T23:34:06.000Z  Both Martin and Moroz say while the booster sh...\n",
       "2  2022-04-17T23:32:34.000Z  Children aged 12 to 17 in Manitoba are now eli...\n",
       "3  2022-04-17T23:30:44.000Z  RT @PhilippineStar: Health Undersecretary Myrn...\n",
       "4  2022-04-17T23:28:27.000Z  RT @OccupyMyGov: Anti vaxxers like to ask \"how..."
      ]
     },
     "execution_count": 4,
     "metadata": {},
     "output_type": "execute_result"
    }
   ],
   "source": [
    "shots_contents.head()"
   ]
  },
  {
   "cell_type": "markdown",
   "id": "ca86b1e1",
   "metadata": {},
   "source": [
    "# Vaccine Mandates Twitter Queries"
   ]
  },
  {
   "cell_type": "code",
   "execution_count": 5,
   "id": "aefa7440",
   "metadata": {},
   "outputs": [
    {
     "name": "stdout",
     "output_type": "stream",
     "text": [
      "                         Date  \\\n",
      "0    2022-04-15T23:59:37.000Z   \n",
      "1    2022-04-15T23:59:35.000Z   \n",
      "2    2022-04-15T23:59:24.000Z   \n",
      "3    2022-04-15T23:59:20.000Z   \n",
      "4    2022-04-15T23:59:20.000Z   \n",
      "..                        ...   \n",
      "995  2022-04-15T23:36:38.000Z   \n",
      "996  2022-04-15T23:36:28.000Z   \n",
      "997  2022-04-15T23:36:25.000Z   \n",
      "998  2022-04-15T23:36:22.000Z   \n",
      "999  2022-04-15T23:36:01.000Z   \n",
      "\n",
      "                                                 Tweet  \n",
      "0    RT @DrEricDing: New—FDA grants emergency use a...  \n",
      "1    RT @DrEricDing: New—FDA grants emergency use a...  \n",
      "2    RT @DrEricDing: New—FDA grants emergency use a...  \n",
      "3    RT @nytimes: The FDA granted emergency use aut...  \n",
      "4    RT @drmusanordin: Breathalyzer-Kaedah mengesan...  \n",
      "..                                                 ...  \n",
      "995  RT @DrEricDing: New—FDA grants emergency use a...  \n",
      "996  RT @starsmoonandsun: Let’s get it!!!!! Fuck an...  \n",
      "997  RT @DrEricDing: New—FDA grants emergency use a...  \n",
      "998  RT @DrEricDing: New—FDA grants emergency use a...  \n",
      "999  RT @FrankGrimes_Jr: What was your red line?\\n\\...  \n",
      "\n",
      "[1000 rows x 2 columns]\n"
     ]
    }
   ],
   "source": [
    "mandates = open(\"sentiment project/vaccine_mandate_04_16_2022.pkl\", \"rb\")\n",
    "mandates_contents = pickle.load(mandates)\n",
    "print(mandates_contents)"
   ]
  },
  {
   "cell_type": "markdown",
   "id": "a0e35846",
   "metadata": {},
   "source": [
    "## Vaccine Mandates Tweets in Pandas Data Frame"
   ]
  },
  {
   "cell_type": "code",
   "execution_count": 6,
   "id": "df213a6c",
   "metadata": {},
   "outputs": [
    {
     "data": {
      "text/html": [
       "<div>\n",
       "<style scoped>\n",
       "    .dataframe tbody tr th:only-of-type {\n",
       "        vertical-align: middle;\n",
       "    }\n",
       "\n",
       "    .dataframe tbody tr th {\n",
       "        vertical-align: top;\n",
       "    }\n",
       "\n",
       "    .dataframe thead th {\n",
       "        text-align: right;\n",
       "    }\n",
       "</style>\n",
       "<table border=\"1\" class=\"dataframe\">\n",
       "  <thead>\n",
       "    <tr style=\"text-align: right;\">\n",
       "      <th></th>\n",
       "      <th>Date</th>\n",
       "      <th>Tweet</th>\n",
       "    </tr>\n",
       "  </thead>\n",
       "  <tbody>\n",
       "    <tr>\n",
       "      <th>0</th>\n",
       "      <td>2022-04-15T23:59:37.000Z</td>\n",
       "      <td>RT @DrEricDing: New—FDA grants emergency use a...</td>\n",
       "    </tr>\n",
       "    <tr>\n",
       "      <th>1</th>\n",
       "      <td>2022-04-15T23:59:35.000Z</td>\n",
       "      <td>RT @DrEricDing: New—FDA grants emergency use a...</td>\n",
       "    </tr>\n",
       "    <tr>\n",
       "      <th>2</th>\n",
       "      <td>2022-04-15T23:59:24.000Z</td>\n",
       "      <td>RT @DrEricDing: New—FDA grants emergency use a...</td>\n",
       "    </tr>\n",
       "    <tr>\n",
       "      <th>3</th>\n",
       "      <td>2022-04-15T23:59:20.000Z</td>\n",
       "      <td>RT @nytimes: The FDA granted emergency use aut...</td>\n",
       "    </tr>\n",
       "    <tr>\n",
       "      <th>4</th>\n",
       "      <td>2022-04-15T23:59:20.000Z</td>\n",
       "      <td>RT @drmusanordin: Breathalyzer-Kaedah mengesan...</td>\n",
       "    </tr>\n",
       "  </tbody>\n",
       "</table>\n",
       "</div>"
      ],
      "text/plain": [
       "                       Date                                              Tweet\n",
       "0  2022-04-15T23:59:37.000Z  RT @DrEricDing: New—FDA grants emergency use a...\n",
       "1  2022-04-15T23:59:35.000Z  RT @DrEricDing: New—FDA grants emergency use a...\n",
       "2  2022-04-15T23:59:24.000Z  RT @DrEricDing: New—FDA grants emergency use a...\n",
       "3  2022-04-15T23:59:20.000Z  RT @nytimes: The FDA granted emergency use aut...\n",
       "4  2022-04-15T23:59:20.000Z  RT @drmusanordin: Breathalyzer-Kaedah mengesan..."
      ]
     },
     "execution_count": 6,
     "metadata": {},
     "output_type": "execute_result"
    }
   ],
   "source": [
    "mandates_contents.head()"
   ]
  },
  {
   "cell_type": "markdown",
   "id": "64e52546",
   "metadata": {},
   "source": [
    "# Vaccine Shots & Mandates queries concatenated"
   ]
  },
  {
   "cell_type": "code",
   "execution_count": 7,
   "id": "9e6090b8",
   "metadata": {},
   "outputs": [],
   "source": [
    "man_shots=pd.concat([shots_contents,mandates_contents])"
   ]
  },
  {
   "cell_type": "code",
   "execution_count": 8,
   "id": "81b714a4",
   "metadata": {},
   "outputs": [
    {
     "data": {
      "text/plain": [
       "2000"
      ]
     },
     "execution_count": 8,
     "metadata": {},
     "output_type": "execute_result"
    }
   ],
   "source": [
    "len(man_shots)"
   ]
  },
  {
   "cell_type": "markdown",
   "id": "c39c95e1",
   "metadata": {},
   "source": [
    "# Vaccine Shots & Mandates Deduplicated"
   ]
  },
  {
   "cell_type": "code",
   "execution_count": 9,
   "id": "5a472eff",
   "metadata": {},
   "outputs": [
    {
     "data": {
      "text/html": [
       "<div>\n",
       "<style scoped>\n",
       "    .dataframe tbody tr th:only-of-type {\n",
       "        vertical-align: middle;\n",
       "    }\n",
       "\n",
       "    .dataframe tbody tr th {\n",
       "        vertical-align: top;\n",
       "    }\n",
       "\n",
       "    .dataframe thead th {\n",
       "        text-align: right;\n",
       "    }\n",
       "</style>\n",
       "<table border=\"1\" class=\"dataframe\">\n",
       "  <thead>\n",
       "    <tr style=\"text-align: right;\">\n",
       "      <th></th>\n",
       "      <th>Date</th>\n",
       "      <th>Tweet</th>\n",
       "    </tr>\n",
       "  </thead>\n",
       "  <tbody>\n",
       "    <tr>\n",
       "      <th>0</th>\n",
       "      <td>2022-04-17T23:55:00.000Z</td>\n",
       "      <td>RT @girls_can: ‘Learning to live’ with #COVID ...</td>\n",
       "    </tr>\n",
       "    <tr>\n",
       "      <th>1</th>\n",
       "      <td>2022-04-17T23:34:06.000Z</td>\n",
       "      <td>Both Martin and Moroz say while the booster sh...</td>\n",
       "    </tr>\n",
       "    <tr>\n",
       "      <th>2</th>\n",
       "      <td>2022-04-17T23:32:34.000Z</td>\n",
       "      <td>Children aged 12 to 17 in Manitoba are now eli...</td>\n",
       "    </tr>\n",
       "    <tr>\n",
       "      <th>3</th>\n",
       "      <td>2022-04-17T23:30:44.000Z</td>\n",
       "      <td>RT @PhilippineStar: Health Undersecretary Myrn...</td>\n",
       "    </tr>\n",
       "    <tr>\n",
       "      <th>4</th>\n",
       "      <td>2022-04-17T23:28:27.000Z</td>\n",
       "      <td>RT @OccupyMyGov: Anti vaxxers like to ask \"how...</td>\n",
       "    </tr>\n",
       "    <tr>\n",
       "      <th>...</th>\n",
       "      <td>...</td>\n",
       "      <td>...</td>\n",
       "    </tr>\n",
       "    <tr>\n",
       "      <th>95</th>\n",
       "      <td>2022-04-15T23:36:38.000Z</td>\n",
       "      <td>RT @DrEricDing: New—FDA grants emergency use a...</td>\n",
       "    </tr>\n",
       "    <tr>\n",
       "      <th>96</th>\n",
       "      <td>2022-04-15T23:36:28.000Z</td>\n",
       "      <td>RT @starsmoonandsun: Let’s get it!!!!! Fuck an...</td>\n",
       "    </tr>\n",
       "    <tr>\n",
       "      <th>97</th>\n",
       "      <td>2022-04-15T23:36:25.000Z</td>\n",
       "      <td>RT @DrEricDing: New—FDA grants emergency use a...</td>\n",
       "    </tr>\n",
       "    <tr>\n",
       "      <th>98</th>\n",
       "      <td>2022-04-15T23:36:22.000Z</td>\n",
       "      <td>RT @DrEricDing: New—FDA grants emergency use a...</td>\n",
       "    </tr>\n",
       "    <tr>\n",
       "      <th>99</th>\n",
       "      <td>2022-04-15T23:36:01.000Z</td>\n",
       "      <td>RT @FrankGrimes_Jr: What was your red line?\\n\\...</td>\n",
       "    </tr>\n",
       "  </tbody>\n",
       "</table>\n",
       "<p>200 rows × 2 columns</p>\n",
       "</div>"
      ],
      "text/plain": [
       "                        Date  \\\n",
       "0   2022-04-17T23:55:00.000Z   \n",
       "1   2022-04-17T23:34:06.000Z   \n",
       "2   2022-04-17T23:32:34.000Z   \n",
       "3   2022-04-17T23:30:44.000Z   \n",
       "4   2022-04-17T23:28:27.000Z   \n",
       "..                       ...   \n",
       "95  2022-04-15T23:36:38.000Z   \n",
       "96  2022-04-15T23:36:28.000Z   \n",
       "97  2022-04-15T23:36:25.000Z   \n",
       "98  2022-04-15T23:36:22.000Z   \n",
       "99  2022-04-15T23:36:01.000Z   \n",
       "\n",
       "                                                Tweet  \n",
       "0   RT @girls_can: ‘Learning to live’ with #COVID ...  \n",
       "1   Both Martin and Moroz say while the booster sh...  \n",
       "2   Children aged 12 to 17 in Manitoba are now eli...  \n",
       "3   RT @PhilippineStar: Health Undersecretary Myrn...  \n",
       "4   RT @OccupyMyGov: Anti vaxxers like to ask \"how...  \n",
       "..                                                ...  \n",
       "95  RT @DrEricDing: New—FDA grants emergency use a...  \n",
       "96  RT @starsmoonandsun: Let’s get it!!!!! Fuck an...  \n",
       "97  RT @DrEricDing: New—FDA grants emergency use a...  \n",
       "98  RT @DrEricDing: New—FDA grants emergency use a...  \n",
       "99  RT @FrankGrimes_Jr: What was your red line?\\n\\...  \n",
       "\n",
       "[200 rows x 2 columns]"
      ]
     },
     "execution_count": 9,
     "metadata": {},
     "output_type": "execute_result"
    }
   ],
   "source": [
    "man_shots.drop_duplicates()"
   ]
  },
  {
   "cell_type": "code",
   "execution_count": 10,
   "id": "f9aadd0d",
   "metadata": {},
   "outputs": [],
   "source": [
    "man_shots_dedup=man_shots.drop_duplicates()"
   ]
  },
  {
   "cell_type": "code",
   "execution_count": 11,
   "id": "1876d637",
   "metadata": {},
   "outputs": [
    {
     "data": {
      "text/plain": [
       "200"
      ]
     },
     "execution_count": 11,
     "metadata": {},
     "output_type": "execute_result"
    }
   ],
   "source": [
    "len(man_shots_dedup)"
   ]
  },
  {
   "cell_type": "markdown",
   "id": "30908c77",
   "metadata": {},
   "source": [
    "# \"Vaccine Sentiment\" query unpickled"
   ]
  },
  {
   "cell_type": "code",
   "execution_count": 12,
   "id": "e3a2b615",
   "metadata": {},
   "outputs": [
    {
     "name": "stdout",
     "output_type": "stream",
     "text": [
      "                         Date  \\\n",
      "0    2022-04-15T22:30:19.000Z   \n",
      "1    2022-04-15T13:11:56.000Z   \n",
      "2    2022-04-15T12:33:21.000Z   \n",
      "3    2022-04-15T12:01:30.000Z   \n",
      "4    2022-04-15T11:50:44.000Z   \n",
      "..                        ...   \n",
      "625  2022-04-11T09:16:01.000Z   \n",
      "626  2022-04-11T08:03:28.000Z   \n",
      "627  2022-04-11T02:33:39.000Z   \n",
      "628  2022-04-11T01:45:11.000Z   \n",
      "629  2022-04-11T01:12:49.000Z   \n",
      "\n",
      "                                                 Tweet  \n",
      "0    @DFisman Someone has to tell @MarinaGlogovac t...  \n",
      "1    @cnni Lovely sentiment, @elonmusk, but  \"maxim...  \n",
      "2    RT @netshrink: The shenanigans of India's vacc...  \n",
      "3    RT @netshrink: The shenanigans of India's vacc...  \n",
      "4    The shenanigans of India's vaccine manufacture...  \n",
      "..                                                 ...  \n",
      "625  @sajidjavid Whilst the sentiment of your tweet...  \n",
      "626  @econ_lauren @Natsecjeff Yea I personally don’...  \n",
      "627  RT @traceyfutures: “The virtual pinboard servi...  \n",
      "628  I address a couple of things in this article, ...  \n",
      "629  RT @NLFD_org: 🧵 @oneunderscore__ is at the “De...  \n",
      "\n",
      "[630 rows x 2 columns]\n"
     ]
    }
   ],
   "source": [
    "vax_sent = open(\"sentiment project/vaccine_sentiment_04_16_2022.pkl\", \"rb\")\n",
    "vax_sent_contents = pickle.load(vax_sent)\n",
    "print(vax_sent_contents)"
   ]
  },
  {
   "cell_type": "markdown",
   "id": "279ef433",
   "metadata": {},
   "source": [
    "## Vaccine Sentiment in Pandas Data Frame"
   ]
  },
  {
   "cell_type": "code",
   "execution_count": 13,
   "id": "71e7abca",
   "metadata": {},
   "outputs": [
    {
     "data": {
      "text/html": [
       "<div>\n",
       "<style scoped>\n",
       "    .dataframe tbody tr th:only-of-type {\n",
       "        vertical-align: middle;\n",
       "    }\n",
       "\n",
       "    .dataframe tbody tr th {\n",
       "        vertical-align: top;\n",
       "    }\n",
       "\n",
       "    .dataframe thead th {\n",
       "        text-align: right;\n",
       "    }\n",
       "</style>\n",
       "<table border=\"1\" class=\"dataframe\">\n",
       "  <thead>\n",
       "    <tr style=\"text-align: right;\">\n",
       "      <th></th>\n",
       "      <th>Date</th>\n",
       "      <th>Tweet</th>\n",
       "    </tr>\n",
       "  </thead>\n",
       "  <tbody>\n",
       "    <tr>\n",
       "      <th>0</th>\n",
       "      <td>2022-04-15T22:30:19.000Z</td>\n",
       "      <td>@DFisman Someone has to tell @MarinaGlogovac t...</td>\n",
       "    </tr>\n",
       "    <tr>\n",
       "      <th>1</th>\n",
       "      <td>2022-04-15T13:11:56.000Z</td>\n",
       "      <td>@cnni Lovely sentiment, @elonmusk, but  \"maxim...</td>\n",
       "    </tr>\n",
       "    <tr>\n",
       "      <th>2</th>\n",
       "      <td>2022-04-15T12:33:21.000Z</td>\n",
       "      <td>RT @netshrink: The shenanigans of India's vacc...</td>\n",
       "    </tr>\n",
       "    <tr>\n",
       "      <th>3</th>\n",
       "      <td>2022-04-15T12:01:30.000Z</td>\n",
       "      <td>RT @netshrink: The shenanigans of India's vacc...</td>\n",
       "    </tr>\n",
       "    <tr>\n",
       "      <th>4</th>\n",
       "      <td>2022-04-15T11:50:44.000Z</td>\n",
       "      <td>The shenanigans of India's vaccine manufacture...</td>\n",
       "    </tr>\n",
       "  </tbody>\n",
       "</table>\n",
       "</div>"
      ],
      "text/plain": [
       "                       Date                                              Tweet\n",
       "0  2022-04-15T22:30:19.000Z  @DFisman Someone has to tell @MarinaGlogovac t...\n",
       "1  2022-04-15T13:11:56.000Z  @cnni Lovely sentiment, @elonmusk, but  \"maxim...\n",
       "2  2022-04-15T12:33:21.000Z  RT @netshrink: The shenanigans of India's vacc...\n",
       "3  2022-04-15T12:01:30.000Z  RT @netshrink: The shenanigans of India's vacc...\n",
       "4  2022-04-15T11:50:44.000Z  The shenanigans of India's vaccine manufacture..."
      ]
     },
     "execution_count": 13,
     "metadata": {},
     "output_type": "execute_result"
    }
   ],
   "source": [
    "vax_sent_contents.head()"
   ]
  },
  {
   "cell_type": "markdown",
   "id": "2c4cd911",
   "metadata": {},
   "source": [
    "# Vaccine Sentiment & Mandatory Shots Concatenated"
   ]
  },
  {
   "cell_type": "code",
   "execution_count": 14,
   "id": "0411d2ae",
   "metadata": {},
   "outputs": [],
   "source": [
    "shots_sent=pd.concat([man_shots_dedup,vax_sent_contents]) "
   ]
  },
  {
   "cell_type": "code",
   "execution_count": 15,
   "id": "e59cd061",
   "metadata": {},
   "outputs": [
    {
     "data": {
      "text/plain": [
       "830"
      ]
     },
     "execution_count": 15,
     "metadata": {},
     "output_type": "execute_result"
    }
   ],
   "source": [
    "len(shots_sent)"
   ]
  },
  {
   "cell_type": "markdown",
   "id": "935e71c0",
   "metadata": {},
   "source": [
    "## Concatenated Vax & Mans Deduplicated"
   ]
  },
  {
   "cell_type": "code",
   "execution_count": 16,
   "id": "d7721a60",
   "metadata": {},
   "outputs": [
    {
     "data": {
      "text/html": [
       "<div>\n",
       "<style scoped>\n",
       "    .dataframe tbody tr th:only-of-type {\n",
       "        vertical-align: middle;\n",
       "    }\n",
       "\n",
       "    .dataframe tbody tr th {\n",
       "        vertical-align: top;\n",
       "    }\n",
       "\n",
       "    .dataframe thead th {\n",
       "        text-align: right;\n",
       "    }\n",
       "</style>\n",
       "<table border=\"1\" class=\"dataframe\">\n",
       "  <thead>\n",
       "    <tr style=\"text-align: right;\">\n",
       "      <th></th>\n",
       "      <th>Date</th>\n",
       "      <th>Tweet</th>\n",
       "    </tr>\n",
       "  </thead>\n",
       "  <tbody>\n",
       "    <tr>\n",
       "      <th>0</th>\n",
       "      <td>2022-04-17T23:55:00.000Z</td>\n",
       "      <td>RT @girls_can: ‘Learning to live’ with #COVID ...</td>\n",
       "    </tr>\n",
       "    <tr>\n",
       "      <th>1</th>\n",
       "      <td>2022-04-17T23:34:06.000Z</td>\n",
       "      <td>Both Martin and Moroz say while the booster sh...</td>\n",
       "    </tr>\n",
       "    <tr>\n",
       "      <th>2</th>\n",
       "      <td>2022-04-17T23:32:34.000Z</td>\n",
       "      <td>Children aged 12 to 17 in Manitoba are now eli...</td>\n",
       "    </tr>\n",
       "    <tr>\n",
       "      <th>3</th>\n",
       "      <td>2022-04-17T23:30:44.000Z</td>\n",
       "      <td>RT @PhilippineStar: Health Undersecretary Myrn...</td>\n",
       "    </tr>\n",
       "    <tr>\n",
       "      <th>4</th>\n",
       "      <td>2022-04-17T23:28:27.000Z</td>\n",
       "      <td>RT @OccupyMyGov: Anti vaxxers like to ask \"how...</td>\n",
       "    </tr>\n",
       "    <tr>\n",
       "      <th>...</th>\n",
       "      <td>...</td>\n",
       "      <td>...</td>\n",
       "    </tr>\n",
       "    <tr>\n",
       "      <th>58</th>\n",
       "      <td>2022-04-11T09:16:01.000Z</td>\n",
       "      <td>@sajidjavid Whilst the sentiment of your tweet...</td>\n",
       "    </tr>\n",
       "    <tr>\n",
       "      <th>59</th>\n",
       "      <td>2022-04-11T08:03:28.000Z</td>\n",
       "      <td>@econ_lauren @Natsecjeff Yea I personally don’...</td>\n",
       "    </tr>\n",
       "    <tr>\n",
       "      <th>60</th>\n",
       "      <td>2022-04-11T02:33:39.000Z</td>\n",
       "      <td>RT @traceyfutures: “The virtual pinboard servi...</td>\n",
       "    </tr>\n",
       "    <tr>\n",
       "      <th>61</th>\n",
       "      <td>2022-04-11T01:45:11.000Z</td>\n",
       "      <td>I address a couple of things in this article, ...</td>\n",
       "    </tr>\n",
       "    <tr>\n",
       "      <th>62</th>\n",
       "      <td>2022-04-11T01:12:49.000Z</td>\n",
       "      <td>RT @NLFD_org: 🧵 @oneunderscore__ is at the “De...</td>\n",
       "    </tr>\n",
       "  </tbody>\n",
       "</table>\n",
       "<p>263 rows × 2 columns</p>\n",
       "</div>"
      ],
      "text/plain": [
       "                        Date  \\\n",
       "0   2022-04-17T23:55:00.000Z   \n",
       "1   2022-04-17T23:34:06.000Z   \n",
       "2   2022-04-17T23:32:34.000Z   \n",
       "3   2022-04-17T23:30:44.000Z   \n",
       "4   2022-04-17T23:28:27.000Z   \n",
       "..                       ...   \n",
       "58  2022-04-11T09:16:01.000Z   \n",
       "59  2022-04-11T08:03:28.000Z   \n",
       "60  2022-04-11T02:33:39.000Z   \n",
       "61  2022-04-11T01:45:11.000Z   \n",
       "62  2022-04-11T01:12:49.000Z   \n",
       "\n",
       "                                                Tweet  \n",
       "0   RT @girls_can: ‘Learning to live’ with #COVID ...  \n",
       "1   Both Martin and Moroz say while the booster sh...  \n",
       "2   Children aged 12 to 17 in Manitoba are now eli...  \n",
       "3   RT @PhilippineStar: Health Undersecretary Myrn...  \n",
       "4   RT @OccupyMyGov: Anti vaxxers like to ask \"how...  \n",
       "..                                                ...  \n",
       "58  @sajidjavid Whilst the sentiment of your tweet...  \n",
       "59  @econ_lauren @Natsecjeff Yea I personally don’...  \n",
       "60  RT @traceyfutures: “The virtual pinboard servi...  \n",
       "61  I address a couple of things in this article, ...  \n",
       "62  RT @NLFD_org: 🧵 @oneunderscore__ is at the “De...  \n",
       "\n",
       "[263 rows x 2 columns]"
      ]
     },
     "execution_count": 16,
     "metadata": {},
     "output_type": "execute_result"
    }
   ],
   "source": [
    "shots_sent.drop_duplicates()"
   ]
  },
  {
   "cell_type": "code",
   "execution_count": 17,
   "id": "59ab7270",
   "metadata": {},
   "outputs": [],
   "source": [
    "shots_sent_dedup = shots_sent.drop_duplicates()"
   ]
  },
  {
   "cell_type": "markdown",
   "id": "82d6de80",
   "metadata": {},
   "source": [
    "# "
   ]
  },
  {
   "cell_type": "code",
   "execution_count": 18,
   "id": "0b23245f",
   "metadata": {},
   "outputs": [
    {
     "name": "stdout",
     "output_type": "stream",
     "text": [
      "                         Date  \\\n",
      "0    2022-04-17T23:55:00.000Z   \n",
      "1    2022-04-17T23:34:06.000Z   \n",
      "2    2022-04-17T23:32:34.000Z   \n",
      "3    2022-04-17T23:30:44.000Z   \n",
      "4    2022-04-17T23:28:27.000Z   \n",
      "..                        ...   \n",
      "995  2022-04-17T16:14:08.000Z   \n",
      "996  2022-04-17T16:09:44.000Z   \n",
      "997  2022-04-17T16:07:59.000Z   \n",
      "998  2022-04-17T16:06:07.000Z   \n",
      "999  2022-04-17T16:02:21.000Z   \n",
      "\n",
      "                                                 Tweet  \n",
      "0    RT @girls_can: ‘Learning to live’ with #COVID ...  \n",
      "1    Both Martin and Moroz say while the booster sh...  \n",
      "2    Children aged 12 to 17 in Manitoba are now eli...  \n",
      "3    RT @PhilippineStar: Health Undersecretary Myrn...  \n",
      "4    RT @OccupyMyGov: Anti vaxxers like to ask \"how...  \n",
      "..                                                 ...  \n",
      "995  Covid booster shots are effective up to a poin...  \n",
      "996  @PapaDaddy_ @byJulianMack We're not talking ab...  \n",
      "997  @rupasubramanya Also 2 shots + booster and got...  \n",
      "998  RT @girls_can: ‘Learning to live’ with #COVID ...  \n",
      "999  RT @Patrickwhiteh19: Booster shots for healthy...  \n",
      "\n",
      "[1000 rows x 2 columns]\n"
     ]
    }
   ],
   "source": [
    "cov_bost = open(\"sentiment project/covid_booster_shots_04_18_2022.pkl\", \"rb\")\n",
    "cov_bost_contents = pickle.load(cov_bost)\n",
    "print(cov_bost_contents)"
   ]
  },
  {
   "cell_type": "code",
   "execution_count": 19,
   "id": "554afe97",
   "metadata": {},
   "outputs": [
    {
     "data": {
      "text/html": [
       "<div>\n",
       "<style scoped>\n",
       "    .dataframe tbody tr th:only-of-type {\n",
       "        vertical-align: middle;\n",
       "    }\n",
       "\n",
       "    .dataframe tbody tr th {\n",
       "        vertical-align: top;\n",
       "    }\n",
       "\n",
       "    .dataframe thead th {\n",
       "        text-align: right;\n",
       "    }\n",
       "</style>\n",
       "<table border=\"1\" class=\"dataframe\">\n",
       "  <thead>\n",
       "    <tr style=\"text-align: right;\">\n",
       "      <th></th>\n",
       "      <th>Date</th>\n",
       "      <th>Tweet</th>\n",
       "    </tr>\n",
       "  </thead>\n",
       "  <tbody>\n",
       "    <tr>\n",
       "      <th>0</th>\n",
       "      <td>2022-04-17T23:55:00.000Z</td>\n",
       "      <td>RT @girls_can: ‘Learning to live’ with #COVID ...</td>\n",
       "    </tr>\n",
       "    <tr>\n",
       "      <th>1</th>\n",
       "      <td>2022-04-17T23:34:06.000Z</td>\n",
       "      <td>Both Martin and Moroz say while the booster sh...</td>\n",
       "    </tr>\n",
       "    <tr>\n",
       "      <th>2</th>\n",
       "      <td>2022-04-17T23:32:34.000Z</td>\n",
       "      <td>Children aged 12 to 17 in Manitoba are now eli...</td>\n",
       "    </tr>\n",
       "    <tr>\n",
       "      <th>3</th>\n",
       "      <td>2022-04-17T23:30:44.000Z</td>\n",
       "      <td>RT @PhilippineStar: Health Undersecretary Myrn...</td>\n",
       "    </tr>\n",
       "    <tr>\n",
       "      <th>4</th>\n",
       "      <td>2022-04-17T23:28:27.000Z</td>\n",
       "      <td>RT @OccupyMyGov: Anti vaxxers like to ask \"how...</td>\n",
       "    </tr>\n",
       "  </tbody>\n",
       "</table>\n",
       "</div>"
      ],
      "text/plain": [
       "                       Date                                              Tweet\n",
       "0  2022-04-17T23:55:00.000Z  RT @girls_can: ‘Learning to live’ with #COVID ...\n",
       "1  2022-04-17T23:34:06.000Z  Both Martin and Moroz say while the booster sh...\n",
       "2  2022-04-17T23:32:34.000Z  Children aged 12 to 17 in Manitoba are now eli...\n",
       "3  2022-04-17T23:30:44.000Z  RT @PhilippineStar: Health Undersecretary Myrn...\n",
       "4  2022-04-17T23:28:27.000Z  RT @OccupyMyGov: Anti vaxxers like to ask \"how..."
      ]
     },
     "execution_count": 19,
     "metadata": {},
     "output_type": "execute_result"
    }
   ],
   "source": [
    "cov_bost_contents.head()"
   ]
  },
  {
   "cell_type": "markdown",
   "id": "479c98fe",
   "metadata": {},
   "source": [
    "## concatenating"
   ]
  },
  {
   "cell_type": "code",
   "execution_count": 20,
   "id": "6aeecf95",
   "metadata": {},
   "outputs": [],
   "source": [
    "cov_shts = pd.concat([shots_sent_dedup,cov_bost_contents])"
   ]
  },
  {
   "cell_type": "code",
   "execution_count": 21,
   "id": "8979a013",
   "metadata": {},
   "outputs": [
    {
     "data": {
      "text/plain": [
       "1263"
      ]
     },
     "execution_count": 21,
     "metadata": {},
     "output_type": "execute_result"
    }
   ],
   "source": [
    "len(cov_shts)"
   ]
  },
  {
   "cell_type": "code",
   "execution_count": 22,
   "id": "21ce195e",
   "metadata": {},
   "outputs": [
    {
     "data": {
      "text/plain": [
       "1263"
      ]
     },
     "execution_count": 22,
     "metadata": {},
     "output_type": "execute_result"
    }
   ],
   "source": [
    "len(cov_shts)"
   ]
  },
  {
   "cell_type": "code",
   "execution_count": 23,
   "id": "60e23ce5",
   "metadata": {},
   "outputs": [],
   "source": [
    "cov_shts=cov_shts.drop_duplicates()"
   ]
  },
  {
   "cell_type": "code",
   "execution_count": 24,
   "id": "02b18970",
   "metadata": {},
   "outputs": [
    {
     "data": {
      "text/plain": [
       "263"
      ]
     },
     "execution_count": 24,
     "metadata": {},
     "output_type": "execute_result"
    }
   ],
   "source": [
    "len(cov_shts)"
   ]
  },
  {
   "cell_type": "code",
   "execution_count": 25,
   "id": "c43c9671",
   "metadata": {},
   "outputs": [
    {
     "data": {
      "text/html": [
       "<div>\n",
       "<style scoped>\n",
       "    .dataframe tbody tr th:only-of-type {\n",
       "        vertical-align: middle;\n",
       "    }\n",
       "\n",
       "    .dataframe tbody tr th {\n",
       "        vertical-align: top;\n",
       "    }\n",
       "\n",
       "    .dataframe thead th {\n",
       "        text-align: right;\n",
       "    }\n",
       "</style>\n",
       "<table border=\"1\" class=\"dataframe\">\n",
       "  <thead>\n",
       "    <tr style=\"text-align: right;\">\n",
       "      <th></th>\n",
       "      <th>Date</th>\n",
       "      <th>Tweet</th>\n",
       "    </tr>\n",
       "  </thead>\n",
       "  <tbody>\n",
       "    <tr>\n",
       "      <th>0</th>\n",
       "      <td>2022-04-17T23:55:00.000Z</td>\n",
       "      <td>RT @girls_can: ‘Learning to live’ with #COVID ...</td>\n",
       "    </tr>\n",
       "    <tr>\n",
       "      <th>1</th>\n",
       "      <td>2022-04-17T23:34:06.000Z</td>\n",
       "      <td>Both Martin and Moroz say while the booster sh...</td>\n",
       "    </tr>\n",
       "    <tr>\n",
       "      <th>2</th>\n",
       "      <td>2022-04-17T23:32:34.000Z</td>\n",
       "      <td>Children aged 12 to 17 in Manitoba are now eli...</td>\n",
       "    </tr>\n",
       "    <tr>\n",
       "      <th>3</th>\n",
       "      <td>2022-04-17T23:30:44.000Z</td>\n",
       "      <td>RT @PhilippineStar: Health Undersecretary Myrn...</td>\n",
       "    </tr>\n",
       "    <tr>\n",
       "      <th>4</th>\n",
       "      <td>2022-04-17T23:28:27.000Z</td>\n",
       "      <td>RT @OccupyMyGov: Anti vaxxers like to ask \"how...</td>\n",
       "    </tr>\n",
       "    <tr>\n",
       "      <th>...</th>\n",
       "      <td>...</td>\n",
       "      <td>...</td>\n",
       "    </tr>\n",
       "    <tr>\n",
       "      <th>58</th>\n",
       "      <td>2022-04-11T09:16:01.000Z</td>\n",
       "      <td>@sajidjavid Whilst the sentiment of your tweet...</td>\n",
       "    </tr>\n",
       "    <tr>\n",
       "      <th>59</th>\n",
       "      <td>2022-04-11T08:03:28.000Z</td>\n",
       "      <td>@econ_lauren @Natsecjeff Yea I personally don’...</td>\n",
       "    </tr>\n",
       "    <tr>\n",
       "      <th>60</th>\n",
       "      <td>2022-04-11T02:33:39.000Z</td>\n",
       "      <td>RT @traceyfutures: “The virtual pinboard servi...</td>\n",
       "    </tr>\n",
       "    <tr>\n",
       "      <th>61</th>\n",
       "      <td>2022-04-11T01:45:11.000Z</td>\n",
       "      <td>I address a couple of things in this article, ...</td>\n",
       "    </tr>\n",
       "    <tr>\n",
       "      <th>62</th>\n",
       "      <td>2022-04-11T01:12:49.000Z</td>\n",
       "      <td>RT @NLFD_org: 🧵 @oneunderscore__ is at the “De...</td>\n",
       "    </tr>\n",
       "  </tbody>\n",
       "</table>\n",
       "<p>263 rows × 2 columns</p>\n",
       "</div>"
      ],
      "text/plain": [
       "                        Date  \\\n",
       "0   2022-04-17T23:55:00.000Z   \n",
       "1   2022-04-17T23:34:06.000Z   \n",
       "2   2022-04-17T23:32:34.000Z   \n",
       "3   2022-04-17T23:30:44.000Z   \n",
       "4   2022-04-17T23:28:27.000Z   \n",
       "..                       ...   \n",
       "58  2022-04-11T09:16:01.000Z   \n",
       "59  2022-04-11T08:03:28.000Z   \n",
       "60  2022-04-11T02:33:39.000Z   \n",
       "61  2022-04-11T01:45:11.000Z   \n",
       "62  2022-04-11T01:12:49.000Z   \n",
       "\n",
       "                                                Tweet  \n",
       "0   RT @girls_can: ‘Learning to live’ with #COVID ...  \n",
       "1   Both Martin and Moroz say while the booster sh...  \n",
       "2   Children aged 12 to 17 in Manitoba are now eli...  \n",
       "3   RT @PhilippineStar: Health Undersecretary Myrn...  \n",
       "4   RT @OccupyMyGov: Anti vaxxers like to ask \"how...  \n",
       "..                                                ...  \n",
       "58  @sajidjavid Whilst the sentiment of your tweet...  \n",
       "59  @econ_lauren @Natsecjeff Yea I personally don’...  \n",
       "60  RT @traceyfutures: “The virtual pinboard servi...  \n",
       "61  I address a couple of things in this article, ...  \n",
       "62  RT @NLFD_org: 🧵 @oneunderscore__ is at the “De...  \n",
       "\n",
       "[263 rows x 2 columns]"
      ]
     },
     "execution_count": 25,
     "metadata": {},
     "output_type": "execute_result"
    }
   ],
   "source": [
    "cov_shts.head(263)"
   ]
  },
  {
   "cell_type": "code",
   "execution_count": 26,
   "id": "eb155925",
   "metadata": {},
   "outputs": [
    {
     "name": "stdout",
     "output_type": "stream",
     "text": [
      "                         Date  \\\n",
      "0    2022-04-15T22:30:19.000Z   \n",
      "1    2022-04-15T13:11:56.000Z   \n",
      "2    2022-04-15T12:33:21.000Z   \n",
      "3    2022-04-15T12:01:30.000Z   \n",
      "4    2022-04-15T11:50:44.000Z   \n",
      "..                        ...   \n",
      "625  2022-04-11T09:16:01.000Z   \n",
      "626  2022-04-11T08:03:28.000Z   \n",
      "627  2022-04-11T02:33:39.000Z   \n",
      "628  2022-04-11T01:45:11.000Z   \n",
      "629  2022-04-11T01:12:49.000Z   \n",
      "\n",
      "                                                 Tweet  \n",
      "0    @DFisman Someone has to tell @MarinaGlogovac t...  \n",
      "1    @cnni Lovely sentiment, @elonmusk, but  \"maxim...  \n",
      "2    RT @netshrink: The shenanigans of India's vacc...  \n",
      "3    RT @netshrink: The shenanigans of India's vacc...  \n",
      "4    The shenanigans of India's vaccine manufacture...  \n",
      "..                                                 ...  \n",
      "625  @sajidjavid Whilst the sentiment of your tweet...  \n",
      "626  @econ_lauren @Natsecjeff Yea I personally don’...  \n",
      "627  RT @traceyfutures: “The virtual pinboard servi...  \n",
      "628  I address a couple of things in this article, ...  \n",
      "629  RT @NLFD_org: 🧵 @oneunderscore__ is at the “De...  \n",
      "\n",
      "[630 rows x 2 columns]\n"
     ]
    }
   ],
   "source": [
    "anti_masks = open(\"sentiment project/anti_masks_03_13_2022.pkl\", \"rb\")\n",
    "anti_masks_contents = pickle.load(anti_masks)\n",
    "print(anti_masks_contents)"
   ]
  },
  {
   "cell_type": "code",
   "execution_count": 27,
   "id": "7b7e1bb1",
   "metadata": {},
   "outputs": [
    {
     "data": {
      "text/html": [
       "<div>\n",
       "<style scoped>\n",
       "    .dataframe tbody tr th:only-of-type {\n",
       "        vertical-align: middle;\n",
       "    }\n",
       "\n",
       "    .dataframe tbody tr th {\n",
       "        vertical-align: top;\n",
       "    }\n",
       "\n",
       "    .dataframe thead th {\n",
       "        text-align: right;\n",
       "    }\n",
       "</style>\n",
       "<table border=\"1\" class=\"dataframe\">\n",
       "  <thead>\n",
       "    <tr style=\"text-align: right;\">\n",
       "      <th></th>\n",
       "      <th>Date</th>\n",
       "      <th>Tweet</th>\n",
       "    </tr>\n",
       "  </thead>\n",
       "  <tbody>\n",
       "    <tr>\n",
       "      <th>0</th>\n",
       "      <td>2022-04-15T22:30:19.000Z</td>\n",
       "      <td>@DFisman Someone has to tell @MarinaGlogovac t...</td>\n",
       "    </tr>\n",
       "    <tr>\n",
       "      <th>1</th>\n",
       "      <td>2022-04-15T13:11:56.000Z</td>\n",
       "      <td>@cnni Lovely sentiment, @elonmusk, but  \"maxim...</td>\n",
       "    </tr>\n",
       "    <tr>\n",
       "      <th>2</th>\n",
       "      <td>2022-04-15T12:33:21.000Z</td>\n",
       "      <td>RT @netshrink: The shenanigans of India's vacc...</td>\n",
       "    </tr>\n",
       "    <tr>\n",
       "      <th>3</th>\n",
       "      <td>2022-04-15T12:01:30.000Z</td>\n",
       "      <td>RT @netshrink: The shenanigans of India's vacc...</td>\n",
       "    </tr>\n",
       "    <tr>\n",
       "      <th>4</th>\n",
       "      <td>2022-04-15T11:50:44.000Z</td>\n",
       "      <td>The shenanigans of India's vaccine manufacture...</td>\n",
       "    </tr>\n",
       "    <tr>\n",
       "      <th>5</th>\n",
       "      <td>2022-04-14T19:12:34.000Z</td>\n",
       "      <td>@JeanBottari On se réveille ici. Les plus vacc...</td>\n",
       "    </tr>\n",
       "    <tr>\n",
       "      <th>6</th>\n",
       "      <td>2022-04-14T16:40:51.000Z</td>\n",
       "      <td>@Kristin64964637 Maybe it was the way I was sa...</td>\n",
       "    </tr>\n",
       "    <tr>\n",
       "      <th>7</th>\n",
       "      <td>2022-04-14T16:02:41.000Z</td>\n",
       "      <td>@CharonMG @JustinGTanner Why the anti-vax sent...</td>\n",
       "    </tr>\n",
       "    <tr>\n",
       "      <th>8</th>\n",
       "      <td>2022-04-14T14:20:16.000Z</td>\n",
       "      <td>@DocEMurray I agree with the sentiment but it’...</td>\n",
       "    </tr>\n",
       "    <tr>\n",
       "      <th>9</th>\n",
       "      <td>2022-04-14T14:13:16.000Z</td>\n",
       "      <td>@theJagmeetSingh I am deeply concerned about i...</td>\n",
       "    </tr>\n",
       "  </tbody>\n",
       "</table>\n",
       "</div>"
      ],
      "text/plain": [
       "                       Date                                              Tweet\n",
       "0  2022-04-15T22:30:19.000Z  @DFisman Someone has to tell @MarinaGlogovac t...\n",
       "1  2022-04-15T13:11:56.000Z  @cnni Lovely sentiment, @elonmusk, but  \"maxim...\n",
       "2  2022-04-15T12:33:21.000Z  RT @netshrink: The shenanigans of India's vacc...\n",
       "3  2022-04-15T12:01:30.000Z  RT @netshrink: The shenanigans of India's vacc...\n",
       "4  2022-04-15T11:50:44.000Z  The shenanigans of India's vaccine manufacture...\n",
       "5  2022-04-14T19:12:34.000Z  @JeanBottari On se réveille ici. Les plus vacc...\n",
       "6  2022-04-14T16:40:51.000Z  @Kristin64964637 Maybe it was the way I was sa...\n",
       "7  2022-04-14T16:02:41.000Z  @CharonMG @JustinGTanner Why the anti-vax sent...\n",
       "8  2022-04-14T14:20:16.000Z  @DocEMurray I agree with the sentiment but it’...\n",
       "9  2022-04-14T14:13:16.000Z  @theJagmeetSingh I am deeply concerned about i..."
      ]
     },
     "execution_count": 27,
     "metadata": {},
     "output_type": "execute_result"
    }
   ],
   "source": [
    "anti_masks_contents.head(10)"
   ]
  },
  {
   "cell_type": "code",
   "execution_count": 29,
   "id": "38c19ea4",
   "metadata": {},
   "outputs": [
    {
     "data": {
      "text/plain": [
       "630"
      ]
     },
     "execution_count": 29,
     "metadata": {},
     "output_type": "execute_result"
    }
   ],
   "source": [
    "len(anti_masks_contents)"
   ]
  },
  {
   "cell_type": "code",
   "execution_count": 30,
   "id": "59d67b74",
   "metadata": {},
   "outputs": [],
   "source": [
    "anti_cov = pd.concat([cov_shts,anti_masks_contents])"
   ]
  },
  {
   "cell_type": "code",
   "execution_count": 31,
   "id": "05b58c9e",
   "metadata": {},
   "outputs": [
    {
     "data": {
      "text/plain": [
       "893"
      ]
     },
     "execution_count": 31,
     "metadata": {},
     "output_type": "execute_result"
    }
   ],
   "source": [
    "len(anti_cov)"
   ]
  },
  {
   "cell_type": "code",
   "execution_count": 32,
   "id": "db89df5e",
   "metadata": {},
   "outputs": [
    {
     "data": {
      "text/html": [
       "<div>\n",
       "<style scoped>\n",
       "    .dataframe tbody tr th:only-of-type {\n",
       "        vertical-align: middle;\n",
       "    }\n",
       "\n",
       "    .dataframe tbody tr th {\n",
       "        vertical-align: top;\n",
       "    }\n",
       "\n",
       "    .dataframe thead th {\n",
       "        text-align: right;\n",
       "    }\n",
       "</style>\n",
       "<table border=\"1\" class=\"dataframe\">\n",
       "  <thead>\n",
       "    <tr style=\"text-align: right;\">\n",
       "      <th></th>\n",
       "      <th>Date</th>\n",
       "      <th>Tweet</th>\n",
       "    </tr>\n",
       "  </thead>\n",
       "  <tbody>\n",
       "    <tr>\n",
       "      <th>0</th>\n",
       "      <td>2022-04-17T23:55:00.000Z</td>\n",
       "      <td>RT @girls_can: ‘Learning to live’ with #COVID ...</td>\n",
       "    </tr>\n",
       "    <tr>\n",
       "      <th>1</th>\n",
       "      <td>2022-04-17T23:34:06.000Z</td>\n",
       "      <td>Both Martin and Moroz say while the booster sh...</td>\n",
       "    </tr>\n",
       "    <tr>\n",
       "      <th>2</th>\n",
       "      <td>2022-04-17T23:32:34.000Z</td>\n",
       "      <td>Children aged 12 to 17 in Manitoba are now eli...</td>\n",
       "    </tr>\n",
       "    <tr>\n",
       "      <th>3</th>\n",
       "      <td>2022-04-17T23:30:44.000Z</td>\n",
       "      <td>RT @PhilippineStar: Health Undersecretary Myrn...</td>\n",
       "    </tr>\n",
       "    <tr>\n",
       "      <th>4</th>\n",
       "      <td>2022-04-17T23:28:27.000Z</td>\n",
       "      <td>RT @OccupyMyGov: Anti vaxxers like to ask \"how...</td>\n",
       "    </tr>\n",
       "    <tr>\n",
       "      <th>...</th>\n",
       "      <td>...</td>\n",
       "      <td>...</td>\n",
       "    </tr>\n",
       "    <tr>\n",
       "      <th>58</th>\n",
       "      <td>2022-04-11T09:16:01.000Z</td>\n",
       "      <td>@sajidjavid Whilst the sentiment of your tweet...</td>\n",
       "    </tr>\n",
       "    <tr>\n",
       "      <th>59</th>\n",
       "      <td>2022-04-11T08:03:28.000Z</td>\n",
       "      <td>@econ_lauren @Natsecjeff Yea I personally don’...</td>\n",
       "    </tr>\n",
       "    <tr>\n",
       "      <th>60</th>\n",
       "      <td>2022-04-11T02:33:39.000Z</td>\n",
       "      <td>RT @traceyfutures: “The virtual pinboard servi...</td>\n",
       "    </tr>\n",
       "    <tr>\n",
       "      <th>61</th>\n",
       "      <td>2022-04-11T01:45:11.000Z</td>\n",
       "      <td>I address a couple of things in this article, ...</td>\n",
       "    </tr>\n",
       "    <tr>\n",
       "      <th>62</th>\n",
       "      <td>2022-04-11T01:12:49.000Z</td>\n",
       "      <td>RT @NLFD_org: 🧵 @oneunderscore__ is at the “De...</td>\n",
       "    </tr>\n",
       "  </tbody>\n",
       "</table>\n",
       "<p>263 rows × 2 columns</p>\n",
       "</div>"
      ],
      "text/plain": [
       "                        Date  \\\n",
       "0   2022-04-17T23:55:00.000Z   \n",
       "1   2022-04-17T23:34:06.000Z   \n",
       "2   2022-04-17T23:32:34.000Z   \n",
       "3   2022-04-17T23:30:44.000Z   \n",
       "4   2022-04-17T23:28:27.000Z   \n",
       "..                       ...   \n",
       "58  2022-04-11T09:16:01.000Z   \n",
       "59  2022-04-11T08:03:28.000Z   \n",
       "60  2022-04-11T02:33:39.000Z   \n",
       "61  2022-04-11T01:45:11.000Z   \n",
       "62  2022-04-11T01:12:49.000Z   \n",
       "\n",
       "                                                Tweet  \n",
       "0   RT @girls_can: ‘Learning to live’ with #COVID ...  \n",
       "1   Both Martin and Moroz say while the booster sh...  \n",
       "2   Children aged 12 to 17 in Manitoba are now eli...  \n",
       "3   RT @PhilippineStar: Health Undersecretary Myrn...  \n",
       "4   RT @OccupyMyGov: Anti vaxxers like to ask \"how...  \n",
       "..                                                ...  \n",
       "58  @sajidjavid Whilst the sentiment of your tweet...  \n",
       "59  @econ_lauren @Natsecjeff Yea I personally don’...  \n",
       "60  RT @traceyfutures: “The virtual pinboard servi...  \n",
       "61  I address a couple of things in this article, ...  \n",
       "62  RT @NLFD_org: 🧵 @oneunderscore__ is at the “De...  \n",
       "\n",
       "[263 rows x 2 columns]"
      ]
     },
     "execution_count": 32,
     "metadata": {},
     "output_type": "execute_result"
    }
   ],
   "source": [
    "anti_cov.drop_duplicates()"
   ]
  },
  {
   "cell_type": "code",
   "execution_count": 33,
   "id": "7ce460d6",
   "metadata": {},
   "outputs": [
    {
     "data": {
      "text/plain": [
       "(893, 2)"
      ]
     },
     "execution_count": 33,
     "metadata": {},
     "output_type": "execute_result"
    }
   ],
   "source": [
    "anti_cov.shape"
   ]
  },
  {
   "cell_type": "markdown",
   "id": "81dce167",
   "metadata": {},
   "source": [
    "# pip installed Vader Sentiment"
   ]
  },
  {
   "cell_type": "code",
   "execution_count": 35,
   "id": "b1199a59",
   "metadata": {},
   "outputs": [],
   "source": [
    "from vaderSentiment.vaderSentiment import SentimentIntensityAnalyzer"
   ]
  },
  {
   "cell_type": "code",
   "execution_count": 36,
   "id": "60f7d10e",
   "metadata": {},
   "outputs": [],
   "source": [
    "sia = SentimentIntensityAnalyzer()"
   ]
  },
  {
   "cell_type": "code",
   "execution_count": 47,
   "id": "ca89e50f",
   "metadata": {},
   "outputs": [],
   "source": [
    "def get_polarity(tweet):\n",
    "    return sia.polarity_scores(tweet)"
   ]
  },
  {
   "cell_type": "code",
   "execution_count": 48,
   "id": "a7620f6b",
   "metadata": {},
   "outputs": [
    {
     "data": {
      "text/plain": [
       "0      {'neg': 0.0, 'neu': 1.0, 'pos': 0.0, 'compound...\n",
       "1      {'neg': 0.0, 'neu': 0.833, 'pos': 0.167, 'comp...\n",
       "2      {'neg': 0.078, 'neu': 0.922, 'pos': 0.0, 'comp...\n",
       "3      {'neg': 0.0, 'neu': 1.0, 'pos': 0.0, 'compound...\n",
       "4      {'neg': 0.086, 'neu': 0.821, 'pos': 0.093, 'co...\n",
       "                             ...                        \n",
       "625    {'neg': 0.167, 'neu': 0.708, 'pos': 0.124, 'co...\n",
       "626    {'neg': 0.192, 'neu': 0.692, 'pos': 0.116, 'co...\n",
       "627    {'neg': 0.231, 'neu': 0.769, 'pos': 0.0, 'comp...\n",
       "628    {'neg': 0.073, 'neu': 0.873, 'pos': 0.054, 'co...\n",
       "629    {'neg': 0.0, 'neu': 1.0, 'pos': 0.0, 'compound...\n",
       "Name: Tweet, Length: 893, dtype: object"
      ]
     },
     "execution_count": 48,
     "metadata": {},
     "output_type": "execute_result"
    }
   ],
   "source": [
    "anti_cov[\"Tweet\"].apply(get_polarity)"
   ]
  },
  {
   "cell_type": "code",
   "execution_count": 55,
   "id": "2827fc53",
   "metadata": {},
   "outputs": [],
   "source": [
    "anti_cov['Polarity Scores'] = anti_cov[\"Tweet\"].apply(get_polarity)"
   ]
  },
  {
   "cell_type": "code",
   "execution_count": 56,
   "id": "17bdfe62",
   "metadata": {},
   "outputs": [
    {
     "data": {
      "text/html": [
       "<div>\n",
       "<style scoped>\n",
       "    .dataframe tbody tr th:only-of-type {\n",
       "        vertical-align: middle;\n",
       "    }\n",
       "\n",
       "    .dataframe tbody tr th {\n",
       "        vertical-align: top;\n",
       "    }\n",
       "\n",
       "    .dataframe thead th {\n",
       "        text-align: right;\n",
       "    }\n",
       "</style>\n",
       "<table border=\"1\" class=\"dataframe\">\n",
       "  <thead>\n",
       "    <tr style=\"text-align: right;\">\n",
       "      <th></th>\n",
       "      <th>Date</th>\n",
       "      <th>Tweet</th>\n",
       "      <th>Polarity Scores</th>\n",
       "    </tr>\n",
       "  </thead>\n",
       "  <tbody>\n",
       "    <tr>\n",
       "      <th>0</th>\n",
       "      <td>2022-04-17T23:55:00.000Z</td>\n",
       "      <td>RT @girls_can: ‘Learning to live’ with #COVID ...</td>\n",
       "      <td>{'neg': 0.0, 'neu': 1.0, 'pos': 0.0, 'compound...</td>\n",
       "    </tr>\n",
       "    <tr>\n",
       "      <th>1</th>\n",
       "      <td>2022-04-17T23:34:06.000Z</td>\n",
       "      <td>Both Martin and Moroz say while the booster sh...</td>\n",
       "      <td>{'neg': 0.0, 'neu': 0.833, 'pos': 0.167, 'comp...</td>\n",
       "    </tr>\n",
       "    <tr>\n",
       "      <th>2</th>\n",
       "      <td>2022-04-17T23:32:34.000Z</td>\n",
       "      <td>Children aged 12 to 17 in Manitoba are now eli...</td>\n",
       "      <td>{'neg': 0.078, 'neu': 0.922, 'pos': 0.0, 'comp...</td>\n",
       "    </tr>\n",
       "    <tr>\n",
       "      <th>3</th>\n",
       "      <td>2022-04-17T23:30:44.000Z</td>\n",
       "      <td>RT @PhilippineStar: Health Undersecretary Myrn...</td>\n",
       "      <td>{'neg': 0.0, 'neu': 1.0, 'pos': 0.0, 'compound...</td>\n",
       "    </tr>\n",
       "    <tr>\n",
       "      <th>4</th>\n",
       "      <td>2022-04-17T23:28:27.000Z</td>\n",
       "      <td>RT @OccupyMyGov: Anti vaxxers like to ask \"how...</td>\n",
       "      <td>{'neg': 0.086, 'neu': 0.821, 'pos': 0.093, 'co...</td>\n",
       "    </tr>\n",
       "  </tbody>\n",
       "</table>\n",
       "</div>"
      ],
      "text/plain": [
       "                       Date  \\\n",
       "0  2022-04-17T23:55:00.000Z   \n",
       "1  2022-04-17T23:34:06.000Z   \n",
       "2  2022-04-17T23:32:34.000Z   \n",
       "3  2022-04-17T23:30:44.000Z   \n",
       "4  2022-04-17T23:28:27.000Z   \n",
       "\n",
       "                                               Tweet  \\\n",
       "0  RT @girls_can: ‘Learning to live’ with #COVID ...   \n",
       "1  Both Martin and Moroz say while the booster sh...   \n",
       "2  Children aged 12 to 17 in Manitoba are now eli...   \n",
       "3  RT @PhilippineStar: Health Undersecretary Myrn...   \n",
       "4  RT @OccupyMyGov: Anti vaxxers like to ask \"how...   \n",
       "\n",
       "                                     Polarity Scores  \n",
       "0  {'neg': 0.0, 'neu': 1.0, 'pos': 0.0, 'compound...  \n",
       "1  {'neg': 0.0, 'neu': 0.833, 'pos': 0.167, 'comp...  \n",
       "2  {'neg': 0.078, 'neu': 0.922, 'pos': 0.0, 'comp...  \n",
       "3  {'neg': 0.0, 'neu': 1.0, 'pos': 0.0, 'compound...  \n",
       "4  {'neg': 0.086, 'neu': 0.821, 'pos': 0.093, 'co...  "
      ]
     },
     "execution_count": 56,
     "metadata": {},
     "output_type": "execute_result"
    }
   ],
   "source": [
    "anti_cov.head()"
   ]
  },
  {
   "cell_type": "code",
   "execution_count": null,
   "id": "89203c45",
   "metadata": {},
   "outputs": [],
   "source": []
  }
 ],
 "metadata": {
  "kernelspec": {
   "display_name": "Python 3 (ipykernel)",
   "language": "python",
   "name": "python3"
  },
  "language_info": {
   "codemirror_mode": {
    "name": "ipython",
    "version": 3
   },
   "file_extension": ".py",
   "mimetype": "text/x-python",
   "name": "python",
   "nbconvert_exporter": "python",
   "pygments_lexer": "ipython3",
   "version": "3.9.7"
  }
 },
 "nbformat": 4,
 "nbformat_minor": 5
}
