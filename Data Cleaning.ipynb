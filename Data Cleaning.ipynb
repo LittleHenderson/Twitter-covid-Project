{
 "cells": [
  {
   "cell_type": "code",
   "execution_count": 8,
   "id": "8de8733b",
   "metadata": {},
   "outputs": [],
   "source": [
    "import pickle"
   ]
  },
  {
   "cell_type": "code",
   "execution_count": 9,
   "id": "282b42ee",
   "metadata": {},
   "outputs": [],
   "source": [
    "import pandas as pd"
   ]
  },
  {
   "cell_type": "markdown",
   "id": "95d9c85e",
   "metadata": {},
   "source": [
    "# Unpickled Covid Booster Twitter Query"
   ]
  },
  {
   "cell_type": "code",
   "execution_count": 10,
   "id": "cd28242c",
   "metadata": {},
   "outputs": [
    {
     "name": "stdout",
     "output_type": "stream",
     "text": [
      "                         Date  \\\n",
      "0    2022-04-17T23:55:00.000Z   \n",
      "1    2022-04-17T23:34:06.000Z   \n",
      "2    2022-04-17T23:32:34.000Z   \n",
      "3    2022-04-17T23:30:44.000Z   \n",
      "4    2022-04-17T23:28:27.000Z   \n",
      "..                        ...   \n",
      "995  2022-04-17T16:14:08.000Z   \n",
      "996  2022-04-17T16:09:44.000Z   \n",
      "997  2022-04-17T16:07:59.000Z   \n",
      "998  2022-04-17T16:06:07.000Z   \n",
      "999  2022-04-17T16:02:21.000Z   \n",
      "\n",
      "                                                 Tweet  \n",
      "0    RT @girls_can: ‘Learning to live’ with #COVID ...  \n",
      "1    Both Martin and Moroz say while the booster sh...  \n",
      "2    Children aged 12 to 17 in Manitoba are now eli...  \n",
      "3    RT @PhilippineStar: Health Undersecretary Myrn...  \n",
      "4    RT @OccupyMyGov: Anti vaxxers like to ask \"how...  \n",
      "..                                                 ...  \n",
      "995  Covid booster shots are effective up to a poin...  \n",
      "996  @PapaDaddy_ @byJulianMack We're not talking ab...  \n",
      "997  @rupasubramanya Also 2 shots + booster and got...  \n",
      "998  RT @girls_can: ‘Learning to live’ with #COVID ...  \n",
      "999  RT @Patrickwhiteh19: Booster shots for healthy...  \n",
      "\n",
      "[1000 rows x 2 columns]\n"
     ]
    }
   ],
   "source": [
    "shots = open(\"sentiment project/covid_booster_shots_04_18_2022.pkl\", \"rb\")\n",
    "shots_contents = pickle.load(shots)\n",
    "print(shots_contents)"
   ]
  },
  {
   "cell_type": "markdown",
   "id": "70100413",
   "metadata": {},
   "source": [
    "## Covid Booster Shots Tweets in Pandas Data Frame"
   ]
  },
  {
   "cell_type": "code",
   "execution_count": 11,
   "id": "40be548f",
   "metadata": {},
   "outputs": [
    {
     "data": {
      "text/html": [
       "<div>\n",
       "<style scoped>\n",
       "    .dataframe tbody tr th:only-of-type {\n",
       "        vertical-align: middle;\n",
       "    }\n",
       "\n",
       "    .dataframe tbody tr th {\n",
       "        vertical-align: top;\n",
       "    }\n",
       "\n",
       "    .dataframe thead th {\n",
       "        text-align: right;\n",
       "    }\n",
       "</style>\n",
       "<table border=\"1\" class=\"dataframe\">\n",
       "  <thead>\n",
       "    <tr style=\"text-align: right;\">\n",
       "      <th></th>\n",
       "      <th>Date</th>\n",
       "      <th>Tweet</th>\n",
       "    </tr>\n",
       "  </thead>\n",
       "  <tbody>\n",
       "    <tr>\n",
       "      <th>0</th>\n",
       "      <td>2022-04-17T23:55:00.000Z</td>\n",
       "      <td>RT @girls_can: ‘Learning to live’ with #COVID ...</td>\n",
       "    </tr>\n",
       "    <tr>\n",
       "      <th>1</th>\n",
       "      <td>2022-04-17T23:34:06.000Z</td>\n",
       "      <td>Both Martin and Moroz say while the booster sh...</td>\n",
       "    </tr>\n",
       "    <tr>\n",
       "      <th>2</th>\n",
       "      <td>2022-04-17T23:32:34.000Z</td>\n",
       "      <td>Children aged 12 to 17 in Manitoba are now eli...</td>\n",
       "    </tr>\n",
       "    <tr>\n",
       "      <th>3</th>\n",
       "      <td>2022-04-17T23:30:44.000Z</td>\n",
       "      <td>RT @PhilippineStar: Health Undersecretary Myrn...</td>\n",
       "    </tr>\n",
       "    <tr>\n",
       "      <th>4</th>\n",
       "      <td>2022-04-17T23:28:27.000Z</td>\n",
       "      <td>RT @OccupyMyGov: Anti vaxxers like to ask \"how...</td>\n",
       "    </tr>\n",
       "  </tbody>\n",
       "</table>\n",
       "</div>"
      ],
      "text/plain": [
       "                       Date                                              Tweet\n",
       "0  2022-04-17T23:55:00.000Z  RT @girls_can: ‘Learning to live’ with #COVID ...\n",
       "1  2022-04-17T23:34:06.000Z  Both Martin and Moroz say while the booster sh...\n",
       "2  2022-04-17T23:32:34.000Z  Children aged 12 to 17 in Manitoba are now eli...\n",
       "3  2022-04-17T23:30:44.000Z  RT @PhilippineStar: Health Undersecretary Myrn...\n",
       "4  2022-04-17T23:28:27.000Z  RT @OccupyMyGov: Anti vaxxers like to ask \"how..."
      ]
     },
     "execution_count": 11,
     "metadata": {},
     "output_type": "execute_result"
    }
   ],
   "source": [
    "shots_contents.head()"
   ]
  },
  {
   "cell_type": "markdown",
   "id": "ca86b1e1",
   "metadata": {},
   "source": [
    "# Vaccine Mandates Twitter Queries"
   ]
  },
  {
   "cell_type": "code",
   "execution_count": 12,
   "id": "aefa7440",
   "metadata": {},
   "outputs": [
    {
     "name": "stdout",
     "output_type": "stream",
     "text": [
      "                         Date  \\\n",
      "0    2022-04-15T23:59:37.000Z   \n",
      "1    2022-04-15T23:59:35.000Z   \n",
      "2    2022-04-15T23:59:24.000Z   \n",
      "3    2022-04-15T23:59:20.000Z   \n",
      "4    2022-04-15T23:59:20.000Z   \n",
      "..                        ...   \n",
      "995  2022-04-15T23:36:38.000Z   \n",
      "996  2022-04-15T23:36:28.000Z   \n",
      "997  2022-04-15T23:36:25.000Z   \n",
      "998  2022-04-15T23:36:22.000Z   \n",
      "999  2022-04-15T23:36:01.000Z   \n",
      "\n",
      "                                                 Tweet  \n",
      "0    RT @DrEricDing: New—FDA grants emergency use a...  \n",
      "1    RT @DrEricDing: New—FDA grants emergency use a...  \n",
      "2    RT @DrEricDing: New—FDA grants emergency use a...  \n",
      "3    RT @nytimes: The FDA granted emergency use aut...  \n",
      "4    RT @drmusanordin: Breathalyzer-Kaedah mengesan...  \n",
      "..                                                 ...  \n",
      "995  RT @DrEricDing: New—FDA grants emergency use a...  \n",
      "996  RT @starsmoonandsun: Let’s get it!!!!! Fuck an...  \n",
      "997  RT @DrEricDing: New—FDA grants emergency use a...  \n",
      "998  RT @DrEricDing: New—FDA grants emergency use a...  \n",
      "999  RT @FrankGrimes_Jr: What was your red line?\\n\\...  \n",
      "\n",
      "[1000 rows x 2 columns]\n"
     ]
    }
   ],
   "source": [
    "mandates = open(\"sentiment project/vaccine_mandate_04_16_2022.pkl\", \"rb\")\n",
    "mandates_contents = pickle.load(mandates)\n",
    "print(mandates_contents)"
   ]
  },
  {
   "cell_type": "markdown",
   "id": "a0e35846",
   "metadata": {},
   "source": [
    "## Vaccine Mandates Tweets in Pandas Data Frame"
   ]
  },
  {
   "cell_type": "code",
   "execution_count": 13,
   "id": "df213a6c",
   "metadata": {},
   "outputs": [
    {
     "data": {
      "text/html": [
       "<div>\n",
       "<style scoped>\n",
       "    .dataframe tbody tr th:only-of-type {\n",
       "        vertical-align: middle;\n",
       "    }\n",
       "\n",
       "    .dataframe tbody tr th {\n",
       "        vertical-align: top;\n",
       "    }\n",
       "\n",
       "    .dataframe thead th {\n",
       "        text-align: right;\n",
       "    }\n",
       "</style>\n",
       "<table border=\"1\" class=\"dataframe\">\n",
       "  <thead>\n",
       "    <tr style=\"text-align: right;\">\n",
       "      <th></th>\n",
       "      <th>Date</th>\n",
       "      <th>Tweet</th>\n",
       "    </tr>\n",
       "  </thead>\n",
       "  <tbody>\n",
       "    <tr>\n",
       "      <th>0</th>\n",
       "      <td>2022-04-15T23:59:37.000Z</td>\n",
       "      <td>RT @DrEricDing: New—FDA grants emergency use a...</td>\n",
       "    </tr>\n",
       "    <tr>\n",
       "      <th>1</th>\n",
       "      <td>2022-04-15T23:59:35.000Z</td>\n",
       "      <td>RT @DrEricDing: New—FDA grants emergency use a...</td>\n",
       "    </tr>\n",
       "    <tr>\n",
       "      <th>2</th>\n",
       "      <td>2022-04-15T23:59:24.000Z</td>\n",
       "      <td>RT @DrEricDing: New—FDA grants emergency use a...</td>\n",
       "    </tr>\n",
       "    <tr>\n",
       "      <th>3</th>\n",
       "      <td>2022-04-15T23:59:20.000Z</td>\n",
       "      <td>RT @nytimes: The FDA granted emergency use aut...</td>\n",
       "    </tr>\n",
       "    <tr>\n",
       "      <th>4</th>\n",
       "      <td>2022-04-15T23:59:20.000Z</td>\n",
       "      <td>RT @drmusanordin: Breathalyzer-Kaedah mengesan...</td>\n",
       "    </tr>\n",
       "  </tbody>\n",
       "</table>\n",
       "</div>"
      ],
      "text/plain": [
       "                       Date                                              Tweet\n",
       "0  2022-04-15T23:59:37.000Z  RT @DrEricDing: New—FDA grants emergency use a...\n",
       "1  2022-04-15T23:59:35.000Z  RT @DrEricDing: New—FDA grants emergency use a...\n",
       "2  2022-04-15T23:59:24.000Z  RT @DrEricDing: New—FDA grants emergency use a...\n",
       "3  2022-04-15T23:59:20.000Z  RT @nytimes: The FDA granted emergency use aut...\n",
       "4  2022-04-15T23:59:20.000Z  RT @drmusanordin: Breathalyzer-Kaedah mengesan..."
      ]
     },
     "execution_count": 13,
     "metadata": {},
     "output_type": "execute_result"
    }
   ],
   "source": [
    "mandates_contents.head()"
   ]
  },
  {
   "cell_type": "markdown",
   "id": "64e52546",
   "metadata": {},
   "source": [
    "# Vaccine Shots & Mandates queries concatenated"
   ]
  },
  {
   "cell_type": "code",
   "execution_count": 14,
   "id": "9e6090b8",
   "metadata": {},
   "outputs": [],
   "source": [
    "man_shots=pd.concat([shots_contents,mandates_contents])"
   ]
  },
  {
   "cell_type": "code",
   "execution_count": 15,
   "id": "81b714a4",
   "metadata": {},
   "outputs": [
    {
     "data": {
      "text/plain": [
       "2000"
      ]
     },
     "execution_count": 15,
     "metadata": {},
     "output_type": "execute_result"
    }
   ],
   "source": [
    "len(man_shots)"
   ]
  },
  {
   "cell_type": "markdown",
   "id": "c39c95e1",
   "metadata": {},
   "source": [
    "# Vaccine Shots & Mandates Deduplicated"
   ]
  },
  {
   "cell_type": "code",
   "execution_count": 16,
   "id": "5a472eff",
   "metadata": {},
   "outputs": [
    {
     "data": {
      "text/html": [
       "<div>\n",
       "<style scoped>\n",
       "    .dataframe tbody tr th:only-of-type {\n",
       "        vertical-align: middle;\n",
       "    }\n",
       "\n",
       "    .dataframe tbody tr th {\n",
       "        vertical-align: top;\n",
       "    }\n",
       "\n",
       "    .dataframe thead th {\n",
       "        text-align: right;\n",
       "    }\n",
       "</style>\n",
       "<table border=\"1\" class=\"dataframe\">\n",
       "  <thead>\n",
       "    <tr style=\"text-align: right;\">\n",
       "      <th></th>\n",
       "      <th>Date</th>\n",
       "      <th>Tweet</th>\n",
       "    </tr>\n",
       "  </thead>\n",
       "  <tbody>\n",
       "    <tr>\n",
       "      <th>0</th>\n",
       "      <td>2022-04-17T23:55:00.000Z</td>\n",
       "      <td>RT @girls_can: ‘Learning to live’ with #COVID ...</td>\n",
       "    </tr>\n",
       "    <tr>\n",
       "      <th>1</th>\n",
       "      <td>2022-04-17T23:34:06.000Z</td>\n",
       "      <td>Both Martin and Moroz say while the booster sh...</td>\n",
       "    </tr>\n",
       "    <tr>\n",
       "      <th>2</th>\n",
       "      <td>2022-04-17T23:32:34.000Z</td>\n",
       "      <td>Children aged 12 to 17 in Manitoba are now eli...</td>\n",
       "    </tr>\n",
       "    <tr>\n",
       "      <th>3</th>\n",
       "      <td>2022-04-17T23:30:44.000Z</td>\n",
       "      <td>RT @PhilippineStar: Health Undersecretary Myrn...</td>\n",
       "    </tr>\n",
       "    <tr>\n",
       "      <th>4</th>\n",
       "      <td>2022-04-17T23:28:27.000Z</td>\n",
       "      <td>RT @OccupyMyGov: Anti vaxxers like to ask \"how...</td>\n",
       "    </tr>\n",
       "    <tr>\n",
       "      <th>...</th>\n",
       "      <td>...</td>\n",
       "      <td>...</td>\n",
       "    </tr>\n",
       "    <tr>\n",
       "      <th>95</th>\n",
       "      <td>2022-04-15T23:36:38.000Z</td>\n",
       "      <td>RT @DrEricDing: New—FDA grants emergency use a...</td>\n",
       "    </tr>\n",
       "    <tr>\n",
       "      <th>96</th>\n",
       "      <td>2022-04-15T23:36:28.000Z</td>\n",
       "      <td>RT @starsmoonandsun: Let’s get it!!!!! Fuck an...</td>\n",
       "    </tr>\n",
       "    <tr>\n",
       "      <th>97</th>\n",
       "      <td>2022-04-15T23:36:25.000Z</td>\n",
       "      <td>RT @DrEricDing: New—FDA grants emergency use a...</td>\n",
       "    </tr>\n",
       "    <tr>\n",
       "      <th>98</th>\n",
       "      <td>2022-04-15T23:36:22.000Z</td>\n",
       "      <td>RT @DrEricDing: New—FDA grants emergency use a...</td>\n",
       "    </tr>\n",
       "    <tr>\n",
       "      <th>99</th>\n",
       "      <td>2022-04-15T23:36:01.000Z</td>\n",
       "      <td>RT @FrankGrimes_Jr: What was your red line?\\n\\...</td>\n",
       "    </tr>\n",
       "  </tbody>\n",
       "</table>\n",
       "<p>200 rows × 2 columns</p>\n",
       "</div>"
      ],
      "text/plain": [
       "                        Date  \\\n",
       "0   2022-04-17T23:55:00.000Z   \n",
       "1   2022-04-17T23:34:06.000Z   \n",
       "2   2022-04-17T23:32:34.000Z   \n",
       "3   2022-04-17T23:30:44.000Z   \n",
       "4   2022-04-17T23:28:27.000Z   \n",
       "..                       ...   \n",
       "95  2022-04-15T23:36:38.000Z   \n",
       "96  2022-04-15T23:36:28.000Z   \n",
       "97  2022-04-15T23:36:25.000Z   \n",
       "98  2022-04-15T23:36:22.000Z   \n",
       "99  2022-04-15T23:36:01.000Z   \n",
       "\n",
       "                                                Tweet  \n",
       "0   RT @girls_can: ‘Learning to live’ with #COVID ...  \n",
       "1   Both Martin and Moroz say while the booster sh...  \n",
       "2   Children aged 12 to 17 in Manitoba are now eli...  \n",
       "3   RT @PhilippineStar: Health Undersecretary Myrn...  \n",
       "4   RT @OccupyMyGov: Anti vaxxers like to ask \"how...  \n",
       "..                                                ...  \n",
       "95  RT @DrEricDing: New—FDA grants emergency use a...  \n",
       "96  RT @starsmoonandsun: Let’s get it!!!!! Fuck an...  \n",
       "97  RT @DrEricDing: New—FDA grants emergency use a...  \n",
       "98  RT @DrEricDing: New—FDA grants emergency use a...  \n",
       "99  RT @FrankGrimes_Jr: What was your red line?\\n\\...  \n",
       "\n",
       "[200 rows x 2 columns]"
      ]
     },
     "execution_count": 16,
     "metadata": {},
     "output_type": "execute_result"
    }
   ],
   "source": [
    "man_shots.drop_duplicates()"
   ]
  },
  {
   "cell_type": "code",
   "execution_count": 17,
   "id": "f9aadd0d",
   "metadata": {},
   "outputs": [],
   "source": [
    "man_shots_dedup=man_shots.drop_duplicates()"
   ]
  },
  {
   "cell_type": "code",
   "execution_count": 18,
   "id": "1876d637",
   "metadata": {},
   "outputs": [
    {
     "data": {
      "text/plain": [
       "200"
      ]
     },
     "execution_count": 18,
     "metadata": {},
     "output_type": "execute_result"
    }
   ],
   "source": [
    "len(man_shots_dedup)"
   ]
  },
  {
   "cell_type": "markdown",
   "id": "30908c77",
   "metadata": {},
   "source": [
    "# \"Vaccine Sentiment\" query unpickled"
   ]
  },
  {
   "cell_type": "code",
   "execution_count": 19,
   "id": "e3a2b615",
   "metadata": {},
   "outputs": [
    {
     "name": "stdout",
     "output_type": "stream",
     "text": [
      "                         Date  \\\n",
      "0    2022-04-15T22:30:19.000Z   \n",
      "1    2022-04-15T13:11:56.000Z   \n",
      "2    2022-04-15T12:33:21.000Z   \n",
      "3    2022-04-15T12:01:30.000Z   \n",
      "4    2022-04-15T11:50:44.000Z   \n",
      "..                        ...   \n",
      "625  2022-04-11T09:16:01.000Z   \n",
      "626  2022-04-11T08:03:28.000Z   \n",
      "627  2022-04-11T02:33:39.000Z   \n",
      "628  2022-04-11T01:45:11.000Z   \n",
      "629  2022-04-11T01:12:49.000Z   \n",
      "\n",
      "                                                 Tweet  \n",
      "0    @DFisman Someone has to tell @MarinaGlogovac t...  \n",
      "1    @cnni Lovely sentiment, @elonmusk, but  \"maxim...  \n",
      "2    RT @netshrink: The shenanigans of India's vacc...  \n",
      "3    RT @netshrink: The shenanigans of India's vacc...  \n",
      "4    The shenanigans of India's vaccine manufacture...  \n",
      "..                                                 ...  \n",
      "625  @sajidjavid Whilst the sentiment of your tweet...  \n",
      "626  @econ_lauren @Natsecjeff Yea I personally don’...  \n",
      "627  RT @traceyfutures: “The virtual pinboard servi...  \n",
      "628  I address a couple of things in this article, ...  \n",
      "629  RT @NLFD_org: 🧵 @oneunderscore__ is at the “De...  \n",
      "\n",
      "[630 rows x 2 columns]\n"
     ]
    }
   ],
   "source": [
    "vax_sent = open(\"sentiment project/vaccine_sentiment_04_16_2022.pkl\", \"rb\")\n",
    "vax_sent_contents = pickle.load(vax_sent)\n",
    "print(vax_sent_contents)"
   ]
  },
  {
   "cell_type": "markdown",
   "id": "279ef433",
   "metadata": {},
   "source": [
    "## Vaccine Sentiment in Pandas Data Frame"
   ]
  },
  {
   "cell_type": "code",
   "execution_count": 20,
   "id": "71e7abca",
   "metadata": {},
   "outputs": [
    {
     "data": {
      "text/html": [
       "<div>\n",
       "<style scoped>\n",
       "    .dataframe tbody tr th:only-of-type {\n",
       "        vertical-align: middle;\n",
       "    }\n",
       "\n",
       "    .dataframe tbody tr th {\n",
       "        vertical-align: top;\n",
       "    }\n",
       "\n",
       "    .dataframe thead th {\n",
       "        text-align: right;\n",
       "    }\n",
       "</style>\n",
       "<table border=\"1\" class=\"dataframe\">\n",
       "  <thead>\n",
       "    <tr style=\"text-align: right;\">\n",
       "      <th></th>\n",
       "      <th>Date</th>\n",
       "      <th>Tweet</th>\n",
       "    </tr>\n",
       "  </thead>\n",
       "  <tbody>\n",
       "    <tr>\n",
       "      <th>0</th>\n",
       "      <td>2022-04-15T22:30:19.000Z</td>\n",
       "      <td>@DFisman Someone has to tell @MarinaGlogovac t...</td>\n",
       "    </tr>\n",
       "    <tr>\n",
       "      <th>1</th>\n",
       "      <td>2022-04-15T13:11:56.000Z</td>\n",
       "      <td>@cnni Lovely sentiment, @elonmusk, but  \"maxim...</td>\n",
       "    </tr>\n",
       "    <tr>\n",
       "      <th>2</th>\n",
       "      <td>2022-04-15T12:33:21.000Z</td>\n",
       "      <td>RT @netshrink: The shenanigans of India's vacc...</td>\n",
       "    </tr>\n",
       "    <tr>\n",
       "      <th>3</th>\n",
       "      <td>2022-04-15T12:01:30.000Z</td>\n",
       "      <td>RT @netshrink: The shenanigans of India's vacc...</td>\n",
       "    </tr>\n",
       "    <tr>\n",
       "      <th>4</th>\n",
       "      <td>2022-04-15T11:50:44.000Z</td>\n",
       "      <td>The shenanigans of India's vaccine manufacture...</td>\n",
       "    </tr>\n",
       "  </tbody>\n",
       "</table>\n",
       "</div>"
      ],
      "text/plain": [
       "                       Date                                              Tweet\n",
       "0  2022-04-15T22:30:19.000Z  @DFisman Someone has to tell @MarinaGlogovac t...\n",
       "1  2022-04-15T13:11:56.000Z  @cnni Lovely sentiment, @elonmusk, but  \"maxim...\n",
       "2  2022-04-15T12:33:21.000Z  RT @netshrink: The shenanigans of India's vacc...\n",
       "3  2022-04-15T12:01:30.000Z  RT @netshrink: The shenanigans of India's vacc...\n",
       "4  2022-04-15T11:50:44.000Z  The shenanigans of India's vaccine manufacture..."
      ]
     },
     "execution_count": 20,
     "metadata": {},
     "output_type": "execute_result"
    }
   ],
   "source": [
    "vax_sent_contents.head()"
   ]
  },
  {
   "cell_type": "markdown",
   "id": "2c4cd911",
   "metadata": {},
   "source": [
    "# Vaccine Sentiment & Mandatory Shots Concatenated"
   ]
  },
  {
   "cell_type": "code",
   "execution_count": 21,
   "id": "0411d2ae",
   "metadata": {},
   "outputs": [],
   "source": [
    "shots_sent=pd.concat([man_shots_dedup,vax_sent_contents]) "
   ]
  },
  {
   "cell_type": "code",
   "execution_count": 22,
   "id": "e59cd061",
   "metadata": {},
   "outputs": [
    {
     "data": {
      "text/plain": [
       "830"
      ]
     },
     "execution_count": 22,
     "metadata": {},
     "output_type": "execute_result"
    }
   ],
   "source": [
    "len(shots_sent)"
   ]
  },
  {
   "cell_type": "markdown",
   "id": "935e71c0",
   "metadata": {},
   "source": [
    "## Concatenated Vax & Mans Deduplicated"
   ]
  },
  {
   "cell_type": "code",
   "execution_count": 23,
   "id": "d7721a60",
   "metadata": {},
   "outputs": [
    {
     "data": {
      "text/html": [
       "<div>\n",
       "<style scoped>\n",
       "    .dataframe tbody tr th:only-of-type {\n",
       "        vertical-align: middle;\n",
       "    }\n",
       "\n",
       "    .dataframe tbody tr th {\n",
       "        vertical-align: top;\n",
       "    }\n",
       "\n",
       "    .dataframe thead th {\n",
       "        text-align: right;\n",
       "    }\n",
       "</style>\n",
       "<table border=\"1\" class=\"dataframe\">\n",
       "  <thead>\n",
       "    <tr style=\"text-align: right;\">\n",
       "      <th></th>\n",
       "      <th>Date</th>\n",
       "      <th>Tweet</th>\n",
       "    </tr>\n",
       "  </thead>\n",
       "  <tbody>\n",
       "    <tr>\n",
       "      <th>0</th>\n",
       "      <td>2022-04-17T23:55:00.000Z</td>\n",
       "      <td>RT @girls_can: ‘Learning to live’ with #COVID ...</td>\n",
       "    </tr>\n",
       "    <tr>\n",
       "      <th>1</th>\n",
       "      <td>2022-04-17T23:34:06.000Z</td>\n",
       "      <td>Both Martin and Moroz say while the booster sh...</td>\n",
       "    </tr>\n",
       "    <tr>\n",
       "      <th>2</th>\n",
       "      <td>2022-04-17T23:32:34.000Z</td>\n",
       "      <td>Children aged 12 to 17 in Manitoba are now eli...</td>\n",
       "    </tr>\n",
       "    <tr>\n",
       "      <th>3</th>\n",
       "      <td>2022-04-17T23:30:44.000Z</td>\n",
       "      <td>RT @PhilippineStar: Health Undersecretary Myrn...</td>\n",
       "    </tr>\n",
       "    <tr>\n",
       "      <th>4</th>\n",
       "      <td>2022-04-17T23:28:27.000Z</td>\n",
       "      <td>RT @OccupyMyGov: Anti vaxxers like to ask \"how...</td>\n",
       "    </tr>\n",
       "    <tr>\n",
       "      <th>...</th>\n",
       "      <td>...</td>\n",
       "      <td>...</td>\n",
       "    </tr>\n",
       "    <tr>\n",
       "      <th>58</th>\n",
       "      <td>2022-04-11T09:16:01.000Z</td>\n",
       "      <td>@sajidjavid Whilst the sentiment of your tweet...</td>\n",
       "    </tr>\n",
       "    <tr>\n",
       "      <th>59</th>\n",
       "      <td>2022-04-11T08:03:28.000Z</td>\n",
       "      <td>@econ_lauren @Natsecjeff Yea I personally don’...</td>\n",
       "    </tr>\n",
       "    <tr>\n",
       "      <th>60</th>\n",
       "      <td>2022-04-11T02:33:39.000Z</td>\n",
       "      <td>RT @traceyfutures: “The virtual pinboard servi...</td>\n",
       "    </tr>\n",
       "    <tr>\n",
       "      <th>61</th>\n",
       "      <td>2022-04-11T01:45:11.000Z</td>\n",
       "      <td>I address a couple of things in this article, ...</td>\n",
       "    </tr>\n",
       "    <tr>\n",
       "      <th>62</th>\n",
       "      <td>2022-04-11T01:12:49.000Z</td>\n",
       "      <td>RT @NLFD_org: 🧵 @oneunderscore__ is at the “De...</td>\n",
       "    </tr>\n",
       "  </tbody>\n",
       "</table>\n",
       "<p>263 rows × 2 columns</p>\n",
       "</div>"
      ],
      "text/plain": [
       "                        Date  \\\n",
       "0   2022-04-17T23:55:00.000Z   \n",
       "1   2022-04-17T23:34:06.000Z   \n",
       "2   2022-04-17T23:32:34.000Z   \n",
       "3   2022-04-17T23:30:44.000Z   \n",
       "4   2022-04-17T23:28:27.000Z   \n",
       "..                       ...   \n",
       "58  2022-04-11T09:16:01.000Z   \n",
       "59  2022-04-11T08:03:28.000Z   \n",
       "60  2022-04-11T02:33:39.000Z   \n",
       "61  2022-04-11T01:45:11.000Z   \n",
       "62  2022-04-11T01:12:49.000Z   \n",
       "\n",
       "                                                Tweet  \n",
       "0   RT @girls_can: ‘Learning to live’ with #COVID ...  \n",
       "1   Both Martin and Moroz say while the booster sh...  \n",
       "2   Children aged 12 to 17 in Manitoba are now eli...  \n",
       "3   RT @PhilippineStar: Health Undersecretary Myrn...  \n",
       "4   RT @OccupyMyGov: Anti vaxxers like to ask \"how...  \n",
       "..                                                ...  \n",
       "58  @sajidjavid Whilst the sentiment of your tweet...  \n",
       "59  @econ_lauren @Natsecjeff Yea I personally don’...  \n",
       "60  RT @traceyfutures: “The virtual pinboard servi...  \n",
       "61  I address a couple of things in this article, ...  \n",
       "62  RT @NLFD_org: 🧵 @oneunderscore__ is at the “De...  \n",
       "\n",
       "[263 rows x 2 columns]"
      ]
     },
     "execution_count": 23,
     "metadata": {},
     "output_type": "execute_result"
    }
   ],
   "source": [
    "shots_sent.drop_duplicates()"
   ]
  },
  {
   "cell_type": "code",
   "execution_count": 24,
   "id": "59ab7270",
   "metadata": {},
   "outputs": [],
   "source": [
    "shots_sent_dedup = shots_sent.drop_duplicates()"
   ]
  },
  {
   "cell_type": "code",
   "execution_count": 25,
   "id": "0b23245f",
   "metadata": {},
   "outputs": [
    {
     "name": "stdout",
     "output_type": "stream",
     "text": [
      "                         Date  \\\n",
      "0    2022-04-17T23:55:00.000Z   \n",
      "1    2022-04-17T23:34:06.000Z   \n",
      "2    2022-04-17T23:32:34.000Z   \n",
      "3    2022-04-17T23:30:44.000Z   \n",
      "4    2022-04-17T23:28:27.000Z   \n",
      "..                        ...   \n",
      "995  2022-04-17T16:14:08.000Z   \n",
      "996  2022-04-17T16:09:44.000Z   \n",
      "997  2022-04-17T16:07:59.000Z   \n",
      "998  2022-04-17T16:06:07.000Z   \n",
      "999  2022-04-17T16:02:21.000Z   \n",
      "\n",
      "                                                 Tweet  \n",
      "0    RT @girls_can: ‘Learning to live’ with #COVID ...  \n",
      "1    Both Martin and Moroz say while the booster sh...  \n",
      "2    Children aged 12 to 17 in Manitoba are now eli...  \n",
      "3    RT @PhilippineStar: Health Undersecretary Myrn...  \n",
      "4    RT @OccupyMyGov: Anti vaxxers like to ask \"how...  \n",
      "..                                                 ...  \n",
      "995  Covid booster shots are effective up to a poin...  \n",
      "996  @PapaDaddy_ @byJulianMack We're not talking ab...  \n",
      "997  @rupasubramanya Also 2 shots + booster and got...  \n",
      "998  RT @girls_can: ‘Learning to live’ with #COVID ...  \n",
      "999  RT @Patrickwhiteh19: Booster shots for healthy...  \n",
      "\n",
      "[1000 rows x 2 columns]\n"
     ]
    }
   ],
   "source": [
    "cov_bost = open(\"sentiment project/covid_booster_shots_04_18_2022.pkl\", \"rb\")\n",
    "cov_bost_contents = pickle.load(cov_bost)\n",
    "print(cov_bost_contents)"
   ]
  },
  {
   "cell_type": "code",
   "execution_count": 26,
   "id": "554afe97",
   "metadata": {},
   "outputs": [
    {
     "data": {
      "text/html": [
       "<div>\n",
       "<style scoped>\n",
       "    .dataframe tbody tr th:only-of-type {\n",
       "        vertical-align: middle;\n",
       "    }\n",
       "\n",
       "    .dataframe tbody tr th {\n",
       "        vertical-align: top;\n",
       "    }\n",
       "\n",
       "    .dataframe thead th {\n",
       "        text-align: right;\n",
       "    }\n",
       "</style>\n",
       "<table border=\"1\" class=\"dataframe\">\n",
       "  <thead>\n",
       "    <tr style=\"text-align: right;\">\n",
       "      <th></th>\n",
       "      <th>Date</th>\n",
       "      <th>Tweet</th>\n",
       "    </tr>\n",
       "  </thead>\n",
       "  <tbody>\n",
       "    <tr>\n",
       "      <th>0</th>\n",
       "      <td>2022-04-17T23:55:00.000Z</td>\n",
       "      <td>RT @girls_can: ‘Learning to live’ with #COVID ...</td>\n",
       "    </tr>\n",
       "    <tr>\n",
       "      <th>1</th>\n",
       "      <td>2022-04-17T23:34:06.000Z</td>\n",
       "      <td>Both Martin and Moroz say while the booster sh...</td>\n",
       "    </tr>\n",
       "    <tr>\n",
       "      <th>2</th>\n",
       "      <td>2022-04-17T23:32:34.000Z</td>\n",
       "      <td>Children aged 12 to 17 in Manitoba are now eli...</td>\n",
       "    </tr>\n",
       "    <tr>\n",
       "      <th>3</th>\n",
       "      <td>2022-04-17T23:30:44.000Z</td>\n",
       "      <td>RT @PhilippineStar: Health Undersecretary Myrn...</td>\n",
       "    </tr>\n",
       "    <tr>\n",
       "      <th>4</th>\n",
       "      <td>2022-04-17T23:28:27.000Z</td>\n",
       "      <td>RT @OccupyMyGov: Anti vaxxers like to ask \"how...</td>\n",
       "    </tr>\n",
       "  </tbody>\n",
       "</table>\n",
       "</div>"
      ],
      "text/plain": [
       "                       Date                                              Tweet\n",
       "0  2022-04-17T23:55:00.000Z  RT @girls_can: ‘Learning to live’ with #COVID ...\n",
       "1  2022-04-17T23:34:06.000Z  Both Martin and Moroz say while the booster sh...\n",
       "2  2022-04-17T23:32:34.000Z  Children aged 12 to 17 in Manitoba are now eli...\n",
       "3  2022-04-17T23:30:44.000Z  RT @PhilippineStar: Health Undersecretary Myrn...\n",
       "4  2022-04-17T23:28:27.000Z  RT @OccupyMyGov: Anti vaxxers like to ask \"how..."
      ]
     },
     "execution_count": 26,
     "metadata": {},
     "output_type": "execute_result"
    }
   ],
   "source": [
    "cov_bost_contents.head()"
   ]
  },
  {
   "cell_type": "markdown",
   "id": "479c98fe",
   "metadata": {},
   "source": [
    "## concatenating"
   ]
  },
  {
   "cell_type": "code",
   "execution_count": 27,
   "id": "6aeecf95",
   "metadata": {},
   "outputs": [],
   "source": [
    "cov_shts = pd.concat([shots_sent_dedup,cov_bost_contents])"
   ]
  },
  {
   "cell_type": "code",
   "execution_count": 28,
   "id": "8979a013",
   "metadata": {},
   "outputs": [
    {
     "data": {
      "text/plain": [
       "1263"
      ]
     },
     "execution_count": 28,
     "metadata": {},
     "output_type": "execute_result"
    }
   ],
   "source": [
    "len(cov_shts)"
   ]
  },
  {
   "cell_type": "code",
   "execution_count": 29,
   "id": "21ce195e",
   "metadata": {},
   "outputs": [
    {
     "data": {
      "text/plain": [
       "1263"
      ]
     },
     "execution_count": 29,
     "metadata": {},
     "output_type": "execute_result"
    }
   ],
   "source": [
    "len(cov_shts)"
   ]
  },
  {
   "cell_type": "code",
   "execution_count": 30,
   "id": "60e23ce5",
   "metadata": {},
   "outputs": [],
   "source": [
    "cov_shts=cov_shts.drop_duplicates()"
   ]
  },
  {
   "cell_type": "code",
   "execution_count": 31,
   "id": "02b18970",
   "metadata": {},
   "outputs": [
    {
     "data": {
      "text/plain": [
       "263"
      ]
     },
     "execution_count": 31,
     "metadata": {},
     "output_type": "execute_result"
    }
   ],
   "source": [
    "len(cov_shts)"
   ]
  },
  {
   "cell_type": "code",
   "execution_count": 32,
   "id": "c43c9671",
   "metadata": {},
   "outputs": [
    {
     "data": {
      "text/html": [
       "<div>\n",
       "<style scoped>\n",
       "    .dataframe tbody tr th:only-of-type {\n",
       "        vertical-align: middle;\n",
       "    }\n",
       "\n",
       "    .dataframe tbody tr th {\n",
       "        vertical-align: top;\n",
       "    }\n",
       "\n",
       "    .dataframe thead th {\n",
       "        text-align: right;\n",
       "    }\n",
       "</style>\n",
       "<table border=\"1\" class=\"dataframe\">\n",
       "  <thead>\n",
       "    <tr style=\"text-align: right;\">\n",
       "      <th></th>\n",
       "      <th>Date</th>\n",
       "      <th>Tweet</th>\n",
       "    </tr>\n",
       "  </thead>\n",
       "  <tbody>\n",
       "    <tr>\n",
       "      <th>0</th>\n",
       "      <td>2022-04-17T23:55:00.000Z</td>\n",
       "      <td>RT @girls_can: ‘Learning to live’ with #COVID ...</td>\n",
       "    </tr>\n",
       "    <tr>\n",
       "      <th>1</th>\n",
       "      <td>2022-04-17T23:34:06.000Z</td>\n",
       "      <td>Both Martin and Moroz say while the booster sh...</td>\n",
       "    </tr>\n",
       "    <tr>\n",
       "      <th>2</th>\n",
       "      <td>2022-04-17T23:32:34.000Z</td>\n",
       "      <td>Children aged 12 to 17 in Manitoba are now eli...</td>\n",
       "    </tr>\n",
       "    <tr>\n",
       "      <th>3</th>\n",
       "      <td>2022-04-17T23:30:44.000Z</td>\n",
       "      <td>RT @PhilippineStar: Health Undersecretary Myrn...</td>\n",
       "    </tr>\n",
       "    <tr>\n",
       "      <th>4</th>\n",
       "      <td>2022-04-17T23:28:27.000Z</td>\n",
       "      <td>RT @OccupyMyGov: Anti vaxxers like to ask \"how...</td>\n",
       "    </tr>\n",
       "    <tr>\n",
       "      <th>...</th>\n",
       "      <td>...</td>\n",
       "      <td>...</td>\n",
       "    </tr>\n",
       "    <tr>\n",
       "      <th>58</th>\n",
       "      <td>2022-04-11T09:16:01.000Z</td>\n",
       "      <td>@sajidjavid Whilst the sentiment of your tweet...</td>\n",
       "    </tr>\n",
       "    <tr>\n",
       "      <th>59</th>\n",
       "      <td>2022-04-11T08:03:28.000Z</td>\n",
       "      <td>@econ_lauren @Natsecjeff Yea I personally don’...</td>\n",
       "    </tr>\n",
       "    <tr>\n",
       "      <th>60</th>\n",
       "      <td>2022-04-11T02:33:39.000Z</td>\n",
       "      <td>RT @traceyfutures: “The virtual pinboard servi...</td>\n",
       "    </tr>\n",
       "    <tr>\n",
       "      <th>61</th>\n",
       "      <td>2022-04-11T01:45:11.000Z</td>\n",
       "      <td>I address a couple of things in this article, ...</td>\n",
       "    </tr>\n",
       "    <tr>\n",
       "      <th>62</th>\n",
       "      <td>2022-04-11T01:12:49.000Z</td>\n",
       "      <td>RT @NLFD_org: 🧵 @oneunderscore__ is at the “De...</td>\n",
       "    </tr>\n",
       "  </tbody>\n",
       "</table>\n",
       "<p>263 rows × 2 columns</p>\n",
       "</div>"
      ],
      "text/plain": [
       "                        Date  \\\n",
       "0   2022-04-17T23:55:00.000Z   \n",
       "1   2022-04-17T23:34:06.000Z   \n",
       "2   2022-04-17T23:32:34.000Z   \n",
       "3   2022-04-17T23:30:44.000Z   \n",
       "4   2022-04-17T23:28:27.000Z   \n",
       "..                       ...   \n",
       "58  2022-04-11T09:16:01.000Z   \n",
       "59  2022-04-11T08:03:28.000Z   \n",
       "60  2022-04-11T02:33:39.000Z   \n",
       "61  2022-04-11T01:45:11.000Z   \n",
       "62  2022-04-11T01:12:49.000Z   \n",
       "\n",
       "                                                Tweet  \n",
       "0   RT @girls_can: ‘Learning to live’ with #COVID ...  \n",
       "1   Both Martin and Moroz say while the booster sh...  \n",
       "2   Children aged 12 to 17 in Manitoba are now eli...  \n",
       "3   RT @PhilippineStar: Health Undersecretary Myrn...  \n",
       "4   RT @OccupyMyGov: Anti vaxxers like to ask \"how...  \n",
       "..                                                ...  \n",
       "58  @sajidjavid Whilst the sentiment of your tweet...  \n",
       "59  @econ_lauren @Natsecjeff Yea I personally don’...  \n",
       "60  RT @traceyfutures: “The virtual pinboard servi...  \n",
       "61  I address a couple of things in this article, ...  \n",
       "62  RT @NLFD_org: 🧵 @oneunderscore__ is at the “De...  \n",
       "\n",
       "[263 rows x 2 columns]"
      ]
     },
     "execution_count": 32,
     "metadata": {},
     "output_type": "execute_result"
    }
   ],
   "source": [
    "cov_shts.head(263)"
   ]
  },
  {
   "cell_type": "code",
   "execution_count": 33,
   "id": "eb155925",
   "metadata": {},
   "outputs": [
    {
     "name": "stdout",
     "output_type": "stream",
     "text": [
      "                         Date  \\\n",
      "0    2022-04-15T22:30:19.000Z   \n",
      "1    2022-04-15T13:11:56.000Z   \n",
      "2    2022-04-15T12:33:21.000Z   \n",
      "3    2022-04-15T12:01:30.000Z   \n",
      "4    2022-04-15T11:50:44.000Z   \n",
      "..                        ...   \n",
      "625  2022-04-11T09:16:01.000Z   \n",
      "626  2022-04-11T08:03:28.000Z   \n",
      "627  2022-04-11T02:33:39.000Z   \n",
      "628  2022-04-11T01:45:11.000Z   \n",
      "629  2022-04-11T01:12:49.000Z   \n",
      "\n",
      "                                                 Tweet  \n",
      "0    @DFisman Someone has to tell @MarinaGlogovac t...  \n",
      "1    @cnni Lovely sentiment, @elonmusk, but  \"maxim...  \n",
      "2    RT @netshrink: The shenanigans of India's vacc...  \n",
      "3    RT @netshrink: The shenanigans of India's vacc...  \n",
      "4    The shenanigans of India's vaccine manufacture...  \n",
      "..                                                 ...  \n",
      "625  @sajidjavid Whilst the sentiment of your tweet...  \n",
      "626  @econ_lauren @Natsecjeff Yea I personally don’...  \n",
      "627  RT @traceyfutures: “The virtual pinboard servi...  \n",
      "628  I address a couple of things in this article, ...  \n",
      "629  RT @NLFD_org: 🧵 @oneunderscore__ is at the “De...  \n",
      "\n",
      "[630 rows x 2 columns]\n"
     ]
    }
   ],
   "source": [
    "anti_masks = open(\"sentiment project/anti_masks_03_13_2022.pkl\", \"rb\")\n",
    "anti_masks_contents = pickle.load(anti_masks)\n",
    "print(anti_masks_contents)"
   ]
  },
  {
   "cell_type": "code",
   "execution_count": 34,
   "id": "7b7e1bb1",
   "metadata": {},
   "outputs": [
    {
     "data": {
      "text/html": [
       "<div>\n",
       "<style scoped>\n",
       "    .dataframe tbody tr th:only-of-type {\n",
       "        vertical-align: middle;\n",
       "    }\n",
       "\n",
       "    .dataframe tbody tr th {\n",
       "        vertical-align: top;\n",
       "    }\n",
       "\n",
       "    .dataframe thead th {\n",
       "        text-align: right;\n",
       "    }\n",
       "</style>\n",
       "<table border=\"1\" class=\"dataframe\">\n",
       "  <thead>\n",
       "    <tr style=\"text-align: right;\">\n",
       "      <th></th>\n",
       "      <th>Date</th>\n",
       "      <th>Tweet</th>\n",
       "    </tr>\n",
       "  </thead>\n",
       "  <tbody>\n",
       "    <tr>\n",
       "      <th>0</th>\n",
       "      <td>2022-04-15T22:30:19.000Z</td>\n",
       "      <td>@DFisman Someone has to tell @MarinaGlogovac t...</td>\n",
       "    </tr>\n",
       "    <tr>\n",
       "      <th>1</th>\n",
       "      <td>2022-04-15T13:11:56.000Z</td>\n",
       "      <td>@cnni Lovely sentiment, @elonmusk, but  \"maxim...</td>\n",
       "    </tr>\n",
       "    <tr>\n",
       "      <th>2</th>\n",
       "      <td>2022-04-15T12:33:21.000Z</td>\n",
       "      <td>RT @netshrink: The shenanigans of India's vacc...</td>\n",
       "    </tr>\n",
       "    <tr>\n",
       "      <th>3</th>\n",
       "      <td>2022-04-15T12:01:30.000Z</td>\n",
       "      <td>RT @netshrink: The shenanigans of India's vacc...</td>\n",
       "    </tr>\n",
       "    <tr>\n",
       "      <th>4</th>\n",
       "      <td>2022-04-15T11:50:44.000Z</td>\n",
       "      <td>The shenanigans of India's vaccine manufacture...</td>\n",
       "    </tr>\n",
       "    <tr>\n",
       "      <th>5</th>\n",
       "      <td>2022-04-14T19:12:34.000Z</td>\n",
       "      <td>@JeanBottari On se réveille ici. Les plus vacc...</td>\n",
       "    </tr>\n",
       "    <tr>\n",
       "      <th>6</th>\n",
       "      <td>2022-04-14T16:40:51.000Z</td>\n",
       "      <td>@Kristin64964637 Maybe it was the way I was sa...</td>\n",
       "    </tr>\n",
       "    <tr>\n",
       "      <th>7</th>\n",
       "      <td>2022-04-14T16:02:41.000Z</td>\n",
       "      <td>@CharonMG @JustinGTanner Why the anti-vax sent...</td>\n",
       "    </tr>\n",
       "    <tr>\n",
       "      <th>8</th>\n",
       "      <td>2022-04-14T14:20:16.000Z</td>\n",
       "      <td>@DocEMurray I agree with the sentiment but it’...</td>\n",
       "    </tr>\n",
       "    <tr>\n",
       "      <th>9</th>\n",
       "      <td>2022-04-14T14:13:16.000Z</td>\n",
       "      <td>@theJagmeetSingh I am deeply concerned about i...</td>\n",
       "    </tr>\n",
       "  </tbody>\n",
       "</table>\n",
       "</div>"
      ],
      "text/plain": [
       "                       Date                                              Tweet\n",
       "0  2022-04-15T22:30:19.000Z  @DFisman Someone has to tell @MarinaGlogovac t...\n",
       "1  2022-04-15T13:11:56.000Z  @cnni Lovely sentiment, @elonmusk, but  \"maxim...\n",
       "2  2022-04-15T12:33:21.000Z  RT @netshrink: The shenanigans of India's vacc...\n",
       "3  2022-04-15T12:01:30.000Z  RT @netshrink: The shenanigans of India's vacc...\n",
       "4  2022-04-15T11:50:44.000Z  The shenanigans of India's vaccine manufacture...\n",
       "5  2022-04-14T19:12:34.000Z  @JeanBottari On se réveille ici. Les plus vacc...\n",
       "6  2022-04-14T16:40:51.000Z  @Kristin64964637 Maybe it was the way I was sa...\n",
       "7  2022-04-14T16:02:41.000Z  @CharonMG @JustinGTanner Why the anti-vax sent...\n",
       "8  2022-04-14T14:20:16.000Z  @DocEMurray I agree with the sentiment but it’...\n",
       "9  2022-04-14T14:13:16.000Z  @theJagmeetSingh I am deeply concerned about i..."
      ]
     },
     "execution_count": 34,
     "metadata": {},
     "output_type": "execute_result"
    }
   ],
   "source": [
    "anti_masks_contents.head(10)"
   ]
  },
  {
   "cell_type": "code",
   "execution_count": 35,
   "id": "38c19ea4",
   "metadata": {},
   "outputs": [
    {
     "data": {
      "text/plain": [
       "630"
      ]
     },
     "execution_count": 35,
     "metadata": {},
     "output_type": "execute_result"
    }
   ],
   "source": [
    "len(anti_masks_contents)"
   ]
  },
  {
   "cell_type": "code",
   "execution_count": 36,
   "id": "59d67b74",
   "metadata": {},
   "outputs": [],
   "source": [
    "anti_cov = pd.concat([cov_shts,anti_masks_contents])"
   ]
  },
  {
   "cell_type": "code",
   "execution_count": 37,
   "id": "05b58c9e",
   "metadata": {},
   "outputs": [
    {
     "data": {
      "text/plain": [
       "893"
      ]
     },
     "execution_count": 37,
     "metadata": {},
     "output_type": "execute_result"
    }
   ],
   "source": [
    "len(anti_cov)"
   ]
  },
  {
   "cell_type": "code",
   "execution_count": 38,
   "id": "db89df5e",
   "metadata": {},
   "outputs": [
    {
     "data": {
      "text/html": [
       "<div>\n",
       "<style scoped>\n",
       "    .dataframe tbody tr th:only-of-type {\n",
       "        vertical-align: middle;\n",
       "    }\n",
       "\n",
       "    .dataframe tbody tr th {\n",
       "        vertical-align: top;\n",
       "    }\n",
       "\n",
       "    .dataframe thead th {\n",
       "        text-align: right;\n",
       "    }\n",
       "</style>\n",
       "<table border=\"1\" class=\"dataframe\">\n",
       "  <thead>\n",
       "    <tr style=\"text-align: right;\">\n",
       "      <th></th>\n",
       "      <th>Date</th>\n",
       "      <th>Tweet</th>\n",
       "    </tr>\n",
       "  </thead>\n",
       "  <tbody>\n",
       "    <tr>\n",
       "      <th>0</th>\n",
       "      <td>2022-04-17T23:55:00.000Z</td>\n",
       "      <td>RT @girls_can: ‘Learning to live’ with #COVID ...</td>\n",
       "    </tr>\n",
       "    <tr>\n",
       "      <th>1</th>\n",
       "      <td>2022-04-17T23:34:06.000Z</td>\n",
       "      <td>Both Martin and Moroz say while the booster sh...</td>\n",
       "    </tr>\n",
       "    <tr>\n",
       "      <th>2</th>\n",
       "      <td>2022-04-17T23:32:34.000Z</td>\n",
       "      <td>Children aged 12 to 17 in Manitoba are now eli...</td>\n",
       "    </tr>\n",
       "    <tr>\n",
       "      <th>3</th>\n",
       "      <td>2022-04-17T23:30:44.000Z</td>\n",
       "      <td>RT @PhilippineStar: Health Undersecretary Myrn...</td>\n",
       "    </tr>\n",
       "    <tr>\n",
       "      <th>4</th>\n",
       "      <td>2022-04-17T23:28:27.000Z</td>\n",
       "      <td>RT @OccupyMyGov: Anti vaxxers like to ask \"how...</td>\n",
       "    </tr>\n",
       "    <tr>\n",
       "      <th>...</th>\n",
       "      <td>...</td>\n",
       "      <td>...</td>\n",
       "    </tr>\n",
       "    <tr>\n",
       "      <th>58</th>\n",
       "      <td>2022-04-11T09:16:01.000Z</td>\n",
       "      <td>@sajidjavid Whilst the sentiment of your tweet...</td>\n",
       "    </tr>\n",
       "    <tr>\n",
       "      <th>59</th>\n",
       "      <td>2022-04-11T08:03:28.000Z</td>\n",
       "      <td>@econ_lauren @Natsecjeff Yea I personally don’...</td>\n",
       "    </tr>\n",
       "    <tr>\n",
       "      <th>60</th>\n",
       "      <td>2022-04-11T02:33:39.000Z</td>\n",
       "      <td>RT @traceyfutures: “The virtual pinboard servi...</td>\n",
       "    </tr>\n",
       "    <tr>\n",
       "      <th>61</th>\n",
       "      <td>2022-04-11T01:45:11.000Z</td>\n",
       "      <td>I address a couple of things in this article, ...</td>\n",
       "    </tr>\n",
       "    <tr>\n",
       "      <th>62</th>\n",
       "      <td>2022-04-11T01:12:49.000Z</td>\n",
       "      <td>RT @NLFD_org: 🧵 @oneunderscore__ is at the “De...</td>\n",
       "    </tr>\n",
       "  </tbody>\n",
       "</table>\n",
       "<p>263 rows × 2 columns</p>\n",
       "</div>"
      ],
      "text/plain": [
       "                        Date  \\\n",
       "0   2022-04-17T23:55:00.000Z   \n",
       "1   2022-04-17T23:34:06.000Z   \n",
       "2   2022-04-17T23:32:34.000Z   \n",
       "3   2022-04-17T23:30:44.000Z   \n",
       "4   2022-04-17T23:28:27.000Z   \n",
       "..                       ...   \n",
       "58  2022-04-11T09:16:01.000Z   \n",
       "59  2022-04-11T08:03:28.000Z   \n",
       "60  2022-04-11T02:33:39.000Z   \n",
       "61  2022-04-11T01:45:11.000Z   \n",
       "62  2022-04-11T01:12:49.000Z   \n",
       "\n",
       "                                                Tweet  \n",
       "0   RT @girls_can: ‘Learning to live’ with #COVID ...  \n",
       "1   Both Martin and Moroz say while the booster sh...  \n",
       "2   Children aged 12 to 17 in Manitoba are now eli...  \n",
       "3   RT @PhilippineStar: Health Undersecretary Myrn...  \n",
       "4   RT @OccupyMyGov: Anti vaxxers like to ask \"how...  \n",
       "..                                                ...  \n",
       "58  @sajidjavid Whilst the sentiment of your tweet...  \n",
       "59  @econ_lauren @Natsecjeff Yea I personally don’...  \n",
       "60  RT @traceyfutures: “The virtual pinboard servi...  \n",
       "61  I address a couple of things in this article, ...  \n",
       "62  RT @NLFD_org: 🧵 @oneunderscore__ is at the “De...  \n",
       "\n",
       "[263 rows x 2 columns]"
      ]
     },
     "execution_count": 38,
     "metadata": {},
     "output_type": "execute_result"
    }
   ],
   "source": [
    "anti_cov.drop_duplicates()"
   ]
  },
  {
   "cell_type": "code",
   "execution_count": 39,
   "id": "7ce460d6",
   "metadata": {},
   "outputs": [
    {
     "data": {
      "text/plain": [
       "(893, 2)"
      ]
     },
     "execution_count": 39,
     "metadata": {},
     "output_type": "execute_result"
    }
   ],
   "source": [
    "anti_cov.shape"
   ]
  },
  {
   "cell_type": "code",
   "execution_count": 40,
   "id": "aa4ed770",
   "metadata": {},
   "outputs": [
    {
     "name": "stdout",
     "output_type": "stream",
     "text": [
      "                          Date  \\\n",
      "0     2022-05-03T23:59:59.000Z   \n",
      "1     2022-05-03T23:59:59.000Z   \n",
      "2     2022-05-03T23:59:58.000Z   \n",
      "3     2022-05-03T23:59:58.000Z   \n",
      "4     2022-05-03T23:59:58.000Z   \n",
      "...                        ...   \n",
      "9995  2022-05-03T23:59:24.000Z   \n",
      "9996  2022-05-03T23:59:24.000Z   \n",
      "9997  2022-05-03T23:59:23.000Z   \n",
      "9998  2022-05-03T23:59:22.000Z   \n",
      "9999  2022-05-03T23:59:21.000Z   \n",
      "\n",
      "                                                  Tweet  \n",
      "0     Playoff hockey and hockey in general is back i...  \n",
      "1     The 2022 polls will be the most expensive in h...  \n",
      "2     RT @jodipicoult: So let me get this right: I d...  \n",
      "3     RT @SapphJack: Remember exactly two years ago ...  \n",
      "4     @bchesky Not to blow smoke up @bchesky's a$$, ...  \n",
      "...                                                 ...  \n",
      "9995  The global stagflation shock of 2022: How bad ...  \n",
      "9996  How Aspen Medical got 'paid access' to politic...  \n",
      "9997  @NathanNobis @bgblueeyes @richardmarx Especial...  \n",
      "9998  RT @TristanSnell: The Supreme Court won’t forc...  \n",
      "9999  @covidmeetupscom @LucyofL It’s honestly scary....  \n",
      "\n",
      "[10000 rows x 2 columns]\n"
     ]
    }
   ],
   "source": [
    "pandemic_05 = open(\"pandemic_05_4_2022.pkl\", \"rb\")\n",
    "pandemic_05_contents = pickle.load(pandemic_05)\n",
    "print(pandemic_05_contents)"
   ]
  },
  {
   "cell_type": "code",
   "execution_count": 41,
   "id": "ecfafe6c",
   "metadata": {},
   "outputs": [
    {
     "data": {
      "text/html": [
       "<div>\n",
       "<style scoped>\n",
       "    .dataframe tbody tr th:only-of-type {\n",
       "        vertical-align: middle;\n",
       "    }\n",
       "\n",
       "    .dataframe tbody tr th {\n",
       "        vertical-align: top;\n",
       "    }\n",
       "\n",
       "    .dataframe thead th {\n",
       "        text-align: right;\n",
       "    }\n",
       "</style>\n",
       "<table border=\"1\" class=\"dataframe\">\n",
       "  <thead>\n",
       "    <tr style=\"text-align: right;\">\n",
       "      <th></th>\n",
       "      <th>Date</th>\n",
       "      <th>Tweet</th>\n",
       "    </tr>\n",
       "  </thead>\n",
       "  <tbody>\n",
       "    <tr>\n",
       "      <th>0</th>\n",
       "      <td>2022-05-03T23:59:59.000Z</td>\n",
       "      <td>Playoff hockey and hockey in general is back i...</td>\n",
       "    </tr>\n",
       "    <tr>\n",
       "      <th>1</th>\n",
       "      <td>2022-05-03T23:59:59.000Z</td>\n",
       "      <td>The 2022 polls will be the most expensive in h...</td>\n",
       "    </tr>\n",
       "    <tr>\n",
       "      <th>2</th>\n",
       "      <td>2022-05-03T23:59:58.000Z</td>\n",
       "      <td>RT @jodipicoult: So let me get this right: I d...</td>\n",
       "    </tr>\n",
       "    <tr>\n",
       "      <th>3</th>\n",
       "      <td>2022-05-03T23:59:58.000Z</td>\n",
       "      <td>RT @SapphJack: Remember exactly two years ago ...</td>\n",
       "    </tr>\n",
       "    <tr>\n",
       "      <th>4</th>\n",
       "      <td>2022-05-03T23:59:58.000Z</td>\n",
       "      <td>@bchesky Not to blow smoke up @bchesky's a$$, ...</td>\n",
       "    </tr>\n",
       "  </tbody>\n",
       "</table>\n",
       "</div>"
      ],
      "text/plain": [
       "                       Date                                              Tweet\n",
       "0  2022-05-03T23:59:59.000Z  Playoff hockey and hockey in general is back i...\n",
       "1  2022-05-03T23:59:59.000Z  The 2022 polls will be the most expensive in h...\n",
       "2  2022-05-03T23:59:58.000Z  RT @jodipicoult: So let me get this right: I d...\n",
       "3  2022-05-03T23:59:58.000Z  RT @SapphJack: Remember exactly two years ago ...\n",
       "4  2022-05-03T23:59:58.000Z  @bchesky Not to blow smoke up @bchesky's a$$, ..."
      ]
     },
     "execution_count": 41,
     "metadata": {},
     "output_type": "execute_result"
    }
   ],
   "source": [
    "pandemic_05_contents.head()"
   ]
  },
  {
   "cell_type": "code",
   "execution_count": 42,
   "id": "96eafb33",
   "metadata": {},
   "outputs": [
    {
     "data": {
      "text/plain": [
       "(10000, 2)"
      ]
     },
     "execution_count": 42,
     "metadata": {},
     "output_type": "execute_result"
    }
   ],
   "source": [
    "pandemic_05_contents.shape"
   ]
  },
  {
   "cell_type": "code",
   "execution_count": 43,
   "id": "cf1618c1",
   "metadata": {},
   "outputs": [
    {
     "data": {
      "text/html": [
       "<div>\n",
       "<style scoped>\n",
       "    .dataframe tbody tr th:only-of-type {\n",
       "        vertical-align: middle;\n",
       "    }\n",
       "\n",
       "    .dataframe tbody tr th {\n",
       "        vertical-align: top;\n",
       "    }\n",
       "\n",
       "    .dataframe thead th {\n",
       "        text-align: right;\n",
       "    }\n",
       "</style>\n",
       "<table border=\"1\" class=\"dataframe\">\n",
       "  <thead>\n",
       "    <tr style=\"text-align: right;\">\n",
       "      <th></th>\n",
       "      <th>Date</th>\n",
       "      <th>Tweet</th>\n",
       "    </tr>\n",
       "  </thead>\n",
       "  <tbody>\n",
       "    <tr>\n",
       "      <th>0</th>\n",
       "      <td>2022-05-03T23:59:59.000Z</td>\n",
       "      <td>Playoff hockey and hockey in general is back i...</td>\n",
       "    </tr>\n",
       "    <tr>\n",
       "      <th>1</th>\n",
       "      <td>2022-05-03T23:59:59.000Z</td>\n",
       "      <td>The 2022 polls will be the most expensive in h...</td>\n",
       "    </tr>\n",
       "    <tr>\n",
       "      <th>2</th>\n",
       "      <td>2022-05-03T23:59:58.000Z</td>\n",
       "      <td>RT @jodipicoult: So let me get this right: I d...</td>\n",
       "    </tr>\n",
       "    <tr>\n",
       "      <th>3</th>\n",
       "      <td>2022-05-03T23:59:58.000Z</td>\n",
       "      <td>RT @SapphJack: Remember exactly two years ago ...</td>\n",
       "    </tr>\n",
       "    <tr>\n",
       "      <th>4</th>\n",
       "      <td>2022-05-03T23:59:58.000Z</td>\n",
       "      <td>@bchesky Not to blow smoke up @bchesky's a$$, ...</td>\n",
       "    </tr>\n",
       "    <tr>\n",
       "      <th>...</th>\n",
       "      <td>...</td>\n",
       "      <td>...</td>\n",
       "    </tr>\n",
       "    <tr>\n",
       "      <th>95</th>\n",
       "      <td>2022-05-03T23:59:24.000Z</td>\n",
       "      <td>The global stagflation shock of 2022: How bad ...</td>\n",
       "    </tr>\n",
       "    <tr>\n",
       "      <th>96</th>\n",
       "      <td>2022-05-03T23:59:24.000Z</td>\n",
       "      <td>How Aspen Medical got 'paid access' to politic...</td>\n",
       "    </tr>\n",
       "    <tr>\n",
       "      <th>97</th>\n",
       "      <td>2022-05-03T23:59:23.000Z</td>\n",
       "      <td>@NathanNobis @bgblueeyes @richardmarx Especial...</td>\n",
       "    </tr>\n",
       "    <tr>\n",
       "      <th>98</th>\n",
       "      <td>2022-05-03T23:59:22.000Z</td>\n",
       "      <td>RT @TristanSnell: The Supreme Court won’t forc...</td>\n",
       "    </tr>\n",
       "    <tr>\n",
       "      <th>99</th>\n",
       "      <td>2022-05-03T23:59:21.000Z</td>\n",
       "      <td>@covidmeetupscom @LucyofL It’s honestly scary....</td>\n",
       "    </tr>\n",
       "  </tbody>\n",
       "</table>\n",
       "<p>95 rows × 2 columns</p>\n",
       "</div>"
      ],
      "text/plain": [
       "                        Date  \\\n",
       "0   2022-05-03T23:59:59.000Z   \n",
       "1   2022-05-03T23:59:59.000Z   \n",
       "2   2022-05-03T23:59:58.000Z   \n",
       "3   2022-05-03T23:59:58.000Z   \n",
       "4   2022-05-03T23:59:58.000Z   \n",
       "..                       ...   \n",
       "95  2022-05-03T23:59:24.000Z   \n",
       "96  2022-05-03T23:59:24.000Z   \n",
       "97  2022-05-03T23:59:23.000Z   \n",
       "98  2022-05-03T23:59:22.000Z   \n",
       "99  2022-05-03T23:59:21.000Z   \n",
       "\n",
       "                                                Tweet  \n",
       "0   Playoff hockey and hockey in general is back i...  \n",
       "1   The 2022 polls will be the most expensive in h...  \n",
       "2   RT @jodipicoult: So let me get this right: I d...  \n",
       "3   RT @SapphJack: Remember exactly two years ago ...  \n",
       "4   @bchesky Not to blow smoke up @bchesky's a$$, ...  \n",
       "..                                                ...  \n",
       "95  The global stagflation shock of 2022: How bad ...  \n",
       "96  How Aspen Medical got 'paid access' to politic...  \n",
       "97  @NathanNobis @bgblueeyes @richardmarx Especial...  \n",
       "98  RT @TristanSnell: The Supreme Court won’t forc...  \n",
       "99  @covidmeetupscom @LucyofL It’s honestly scary....  \n",
       "\n",
       "[95 rows x 2 columns]"
      ]
     },
     "execution_count": 43,
     "metadata": {},
     "output_type": "execute_result"
    }
   ],
   "source": [
    "pandemic_05_contents.drop_duplicates()"
   ]
  },
  {
   "cell_type": "code",
   "execution_count": 44,
   "id": "35931529",
   "metadata": {},
   "outputs": [
    {
     "name": "stdout",
     "output_type": "stream",
     "text": [
      "                          Date  \\\n",
      "0     2022-05-03T23:59:58.000Z   \n",
      "1     2022-05-03T23:59:49.000Z   \n",
      "2     2022-05-03T23:59:44.000Z   \n",
      "3     2022-05-03T23:59:38.000Z   \n",
      "4     2022-05-03T23:59:37.000Z   \n",
      "...                        ...   \n",
      "9995  2022-05-03T23:53:31.000Z   \n",
      "9996  2022-05-03T23:53:28.000Z   \n",
      "9997  2022-05-03T23:53:23.000Z   \n",
      "9998  2022-05-03T23:53:23.000Z   \n",
      "9999  2022-05-03T23:53:22.000Z   \n",
      "\n",
      "                                                  Tweet  \n",
      "0     RT @lcoutinho: Como certa vez disse o ex-presi...  \n",
      "1     RT @BMG_Bund: Wer sich mit dem #Coronavirus in...  \n",
      "2     Pfizer Hopes to Submit Little-Kid Vaccine Data...  \n",
      "3     💉 ARGENTINA | Vacunas contra el coronavirus: C...  \n",
      "4     Mel received 25 mortgage responses for £100,00...  \n",
      "...                                                 ...  \n",
      "9995  @ccarballo5O https://t.co/kp48yFo8q1\\nTendrias...  \n",
      "9996  theo tava me contando que essa boss do cuphead...  \n",
      "9997  RT @bworldph: K-pop band ATEEZ played London’s...  \n",
      "9998  RT @OficAdmPuertoC2: Si aún no te has inmuniza...  \n",
      "9999  RT @bworldph: K-pop band ATEEZ played London’s...  \n",
      "\n",
      "[10000 rows x 2 columns]\n"
     ]
    }
   ],
   "source": [
    "coronavirus_05 = open(\"coronavirus_05_4_2022.pkl\", \"rb\")\n",
    "coronavirus_05_contents = pickle.load(coronavirus_05)\n",
    "print(coronavirus_05_contents)"
   ]
  },
  {
   "cell_type": "code",
   "execution_count": 45,
   "id": "9bda6a33",
   "metadata": {},
   "outputs": [
    {
     "data": {
      "text/html": [
       "<div>\n",
       "<style scoped>\n",
       "    .dataframe tbody tr th:only-of-type {\n",
       "        vertical-align: middle;\n",
       "    }\n",
       "\n",
       "    .dataframe tbody tr th {\n",
       "        vertical-align: top;\n",
       "    }\n",
       "\n",
       "    .dataframe thead th {\n",
       "        text-align: right;\n",
       "    }\n",
       "</style>\n",
       "<table border=\"1\" class=\"dataframe\">\n",
       "  <thead>\n",
       "    <tr style=\"text-align: right;\">\n",
       "      <th></th>\n",
       "      <th>Date</th>\n",
       "      <th>Tweet</th>\n",
       "    </tr>\n",
       "  </thead>\n",
       "  <tbody>\n",
       "    <tr>\n",
       "      <th>0</th>\n",
       "      <td>2022-05-03T23:59:58.000Z</td>\n",
       "      <td>RT @lcoutinho: Como certa vez disse o ex-presi...</td>\n",
       "    </tr>\n",
       "    <tr>\n",
       "      <th>1</th>\n",
       "      <td>2022-05-03T23:59:49.000Z</td>\n",
       "      <td>RT @BMG_Bund: Wer sich mit dem #Coronavirus in...</td>\n",
       "    </tr>\n",
       "    <tr>\n",
       "      <th>2</th>\n",
       "      <td>2022-05-03T23:59:44.000Z</td>\n",
       "      <td>Pfizer Hopes to Submit Little-Kid Vaccine Data...</td>\n",
       "    </tr>\n",
       "    <tr>\n",
       "      <th>3</th>\n",
       "      <td>2022-05-03T23:59:38.000Z</td>\n",
       "      <td>💉 ARGENTINA | Vacunas contra el coronavirus: C...</td>\n",
       "    </tr>\n",
       "    <tr>\n",
       "      <th>4</th>\n",
       "      <td>2022-05-03T23:59:37.000Z</td>\n",
       "      <td>Mel received 25 mortgage responses for £100,00...</td>\n",
       "    </tr>\n",
       "    <tr>\n",
       "      <th>...</th>\n",
       "      <td>...</td>\n",
       "      <td>...</td>\n",
       "    </tr>\n",
       "    <tr>\n",
       "      <th>95</th>\n",
       "      <td>2022-05-03T23:53:31.000Z</td>\n",
       "      <td>@ccarballo5O https://t.co/kp48yFo8q1\\nTendrias...</td>\n",
       "    </tr>\n",
       "    <tr>\n",
       "      <th>96</th>\n",
       "      <td>2022-05-03T23:53:28.000Z</td>\n",
       "      <td>theo tava me contando que essa boss do cuphead...</td>\n",
       "    </tr>\n",
       "    <tr>\n",
       "      <th>97</th>\n",
       "      <td>2022-05-03T23:53:23.000Z</td>\n",
       "      <td>RT @bworldph: K-pop band ATEEZ played London’s...</td>\n",
       "    </tr>\n",
       "    <tr>\n",
       "      <th>98</th>\n",
       "      <td>2022-05-03T23:53:23.000Z</td>\n",
       "      <td>RT @OficAdmPuertoC2: Si aún no te has inmuniza...</td>\n",
       "    </tr>\n",
       "    <tr>\n",
       "      <th>99</th>\n",
       "      <td>2022-05-03T23:53:22.000Z</td>\n",
       "      <td>RT @bworldph: K-pop band ATEEZ played London’s...</td>\n",
       "    </tr>\n",
       "  </tbody>\n",
       "</table>\n",
       "<p>99 rows × 2 columns</p>\n",
       "</div>"
      ],
      "text/plain": [
       "                        Date  \\\n",
       "0   2022-05-03T23:59:58.000Z   \n",
       "1   2022-05-03T23:59:49.000Z   \n",
       "2   2022-05-03T23:59:44.000Z   \n",
       "3   2022-05-03T23:59:38.000Z   \n",
       "4   2022-05-03T23:59:37.000Z   \n",
       "..                       ...   \n",
       "95  2022-05-03T23:53:31.000Z   \n",
       "96  2022-05-03T23:53:28.000Z   \n",
       "97  2022-05-03T23:53:23.000Z   \n",
       "98  2022-05-03T23:53:23.000Z   \n",
       "99  2022-05-03T23:53:22.000Z   \n",
       "\n",
       "                                                Tweet  \n",
       "0   RT @lcoutinho: Como certa vez disse o ex-presi...  \n",
       "1   RT @BMG_Bund: Wer sich mit dem #Coronavirus in...  \n",
       "2   Pfizer Hopes to Submit Little-Kid Vaccine Data...  \n",
       "3   💉 ARGENTINA | Vacunas contra el coronavirus: C...  \n",
       "4   Mel received 25 mortgage responses for £100,00...  \n",
       "..                                                ...  \n",
       "95  @ccarballo5O https://t.co/kp48yFo8q1\\nTendrias...  \n",
       "96  theo tava me contando que essa boss do cuphead...  \n",
       "97  RT @bworldph: K-pop band ATEEZ played London’s...  \n",
       "98  RT @OficAdmPuertoC2: Si aún no te has inmuniza...  \n",
       "99  RT @bworldph: K-pop band ATEEZ played London’s...  \n",
       "\n",
       "[99 rows x 2 columns]"
      ]
     },
     "execution_count": 45,
     "metadata": {},
     "output_type": "execute_result"
    }
   ],
   "source": [
    "coronavirus_05_contents.drop_duplicates()"
   ]
  },
  {
   "cell_type": "code",
   "execution_count": 46,
   "id": "4b47fee1",
   "metadata": {},
   "outputs": [
    {
     "name": "stdout",
     "output_type": "stream",
     "text": [
      "                          Date  \\\n",
      "0     2022-05-03T23:59:11.000Z   \n",
      "1     2022-05-03T23:58:10.000Z   \n",
      "2     2022-05-03T23:57:37.000Z   \n",
      "3     2022-05-03T23:57:35.000Z   \n",
      "4     2022-05-03T23:56:27.000Z   \n",
      "...                        ...   \n",
      "9995  2022-05-03T23:12:07.000Z   \n",
      "9996  2022-05-03T23:12:00.000Z   \n",
      "9997  2022-05-03T23:11:58.000Z   \n",
      "9998  2022-05-03T23:11:44.000Z   \n",
      "9999  2022-05-03T23:10:33.000Z   \n",
      "\n",
      "                                                  Tweet  \n",
      "0     RT @profesterman: Interesting article\\nhttps:/...  \n",
      "1     @VPrasadMDMPH #CovidIsAirborne Where's your ad...  \n",
      "2     RT @CNN: BA.2.12.1, which is growing about 25%...  \n",
      "3     Imagine being infected with HIV, healing then ...  \n",
      "4     Also there’s still a pandemic, and the new var...  \n",
      "...                                                 ...  \n",
      "9995  RT @sciam: Nose Spray Vaccines Could Quash COV...  \n",
      "9996  RT @GVDBossche: Geert Vanden Bossche Predictio...  \n",
      "9997                            https://t.co/AfPapjwl55  \n",
      "9998  RT @profesterman: Interesting article\\nhttps:/...  \n",
      "9999                            https://t.co/ljLZ0T7Y12  \n",
      "\n",
      "[10000 rows x 2 columns]\n"
     ]
    }
   ],
   "source": [
    "covid_variants_05 = open(\"covid_variants_05_4_2022.pkl\", \"rb\")\n",
    "covid_variants_05_contents = pickle.load(covid_variants_05)\n",
    "print(covid_variants_05_contents)"
   ]
  },
  {
   "cell_type": "code",
   "execution_count": 47,
   "id": "0fc3dd15",
   "metadata": {},
   "outputs": [
    {
     "data": {
      "text/html": [
       "<div>\n",
       "<style scoped>\n",
       "    .dataframe tbody tr th:only-of-type {\n",
       "        vertical-align: middle;\n",
       "    }\n",
       "\n",
       "    .dataframe tbody tr th {\n",
       "        vertical-align: top;\n",
       "    }\n",
       "\n",
       "    .dataframe thead th {\n",
       "        text-align: right;\n",
       "    }\n",
       "</style>\n",
       "<table border=\"1\" class=\"dataframe\">\n",
       "  <thead>\n",
       "    <tr style=\"text-align: right;\">\n",
       "      <th></th>\n",
       "      <th>Date</th>\n",
       "      <th>Tweet</th>\n",
       "    </tr>\n",
       "  </thead>\n",
       "  <tbody>\n",
       "    <tr>\n",
       "      <th>0</th>\n",
       "      <td>2022-05-03T23:59:11.000Z</td>\n",
       "      <td>RT @profesterman: Interesting article\\nhttps:/...</td>\n",
       "    </tr>\n",
       "    <tr>\n",
       "      <th>1</th>\n",
       "      <td>2022-05-03T23:58:10.000Z</td>\n",
       "      <td>@VPrasadMDMPH #CovidIsAirborne Where's your ad...</td>\n",
       "    </tr>\n",
       "    <tr>\n",
       "      <th>2</th>\n",
       "      <td>2022-05-03T23:57:37.000Z</td>\n",
       "      <td>RT @CNN: BA.2.12.1, which is growing about 25%...</td>\n",
       "    </tr>\n",
       "    <tr>\n",
       "      <th>3</th>\n",
       "      <td>2022-05-03T23:57:35.000Z</td>\n",
       "      <td>Imagine being infected with HIV, healing then ...</td>\n",
       "    </tr>\n",
       "    <tr>\n",
       "      <th>4</th>\n",
       "      <td>2022-05-03T23:56:27.000Z</td>\n",
       "      <td>Also there’s still a pandemic, and the new var...</td>\n",
       "    </tr>\n",
       "    <tr>\n",
       "      <th>...</th>\n",
       "      <td>...</td>\n",
       "      <td>...</td>\n",
       "    </tr>\n",
       "    <tr>\n",
       "      <th>96</th>\n",
       "      <td>2022-05-03T23:12:00.000Z</td>\n",
       "      <td>RT @GVDBossche: Geert Vanden Bossche Predictio...</td>\n",
       "    </tr>\n",
       "    <tr>\n",
       "      <th>97</th>\n",
       "      <td>2022-05-03T23:11:58.000Z</td>\n",
       "      <td>https://t.co/AfPapjwl55</td>\n",
       "    </tr>\n",
       "    <tr>\n",
       "      <th>98</th>\n",
       "      <td>2022-05-03T23:11:44.000Z</td>\n",
       "      <td>RT @profesterman: Interesting article\\nhttps:/...</td>\n",
       "    </tr>\n",
       "    <tr>\n",
       "      <th>99</th>\n",
       "      <td>2022-05-03T23:10:33.000Z</td>\n",
       "      <td>https://t.co/ljLZ0T7Y12</td>\n",
       "    </tr>\n",
       "    <tr>\n",
       "      <th>599</th>\n",
       "      <td>2022-05-03T23:09:47.000Z</td>\n",
       "      <td>RT @medrivaAU: COVID Australia Update:\\n\\nThe ...</td>\n",
       "    </tr>\n",
       "  </tbody>\n",
       "</table>\n",
       "<p>100 rows × 2 columns</p>\n",
       "</div>"
      ],
      "text/plain": [
       "                         Date  \\\n",
       "0    2022-05-03T23:59:11.000Z   \n",
       "1    2022-05-03T23:58:10.000Z   \n",
       "2    2022-05-03T23:57:37.000Z   \n",
       "3    2022-05-03T23:57:35.000Z   \n",
       "4    2022-05-03T23:56:27.000Z   \n",
       "..                        ...   \n",
       "96   2022-05-03T23:12:00.000Z   \n",
       "97   2022-05-03T23:11:58.000Z   \n",
       "98   2022-05-03T23:11:44.000Z   \n",
       "99   2022-05-03T23:10:33.000Z   \n",
       "599  2022-05-03T23:09:47.000Z   \n",
       "\n",
       "                                                 Tweet  \n",
       "0    RT @profesterman: Interesting article\\nhttps:/...  \n",
       "1    @VPrasadMDMPH #CovidIsAirborne Where's your ad...  \n",
       "2    RT @CNN: BA.2.12.1, which is growing about 25%...  \n",
       "3    Imagine being infected with HIV, healing then ...  \n",
       "4    Also there’s still a pandemic, and the new var...  \n",
       "..                                                 ...  \n",
       "96   RT @GVDBossche: Geert Vanden Bossche Predictio...  \n",
       "97                             https://t.co/AfPapjwl55  \n",
       "98   RT @profesterman: Interesting article\\nhttps:/...  \n",
       "99                             https://t.co/ljLZ0T7Y12  \n",
       "599  RT @medrivaAU: COVID Australia Update:\\n\\nThe ...  \n",
       "\n",
       "[100 rows x 2 columns]"
      ]
     },
     "execution_count": 47,
     "metadata": {},
     "output_type": "execute_result"
    }
   ],
   "source": [
    "covid_variants_05_contents.drop_duplicates()"
   ]
  },
  {
   "cell_type": "code",
   "execution_count": 48,
   "id": "cd710eb2",
   "metadata": {},
   "outputs": [
    {
     "name": "stdout",
     "output_type": "stream",
     "text": [
      "                          Date  \\\n",
      "0     2022-05-03T23:59:55.000Z   \n",
      "1     2022-05-03T23:59:38.000Z   \n",
      "2     2022-05-03T23:59:36.000Z   \n",
      "3     2022-05-03T23:59:31.000Z   \n",
      "4     2022-05-03T23:59:27.000Z   \n",
      "...                        ...   \n",
      "9895  2022-05-03T23:46:32.000Z   \n",
      "9896  2022-05-03T23:45:50.000Z   \n",
      "9897  2022-05-03T23:45:44.000Z   \n",
      "9898  2022-05-03T23:45:35.000Z   \n",
      "9899  2022-05-03T23:45:32.000Z   \n",
      "\n",
      "                                                  Tweet  \n",
      "0     RT @Tim32335015: Having read The Real Anthony ...  \n",
      "1     RT @GunumunSozu: ABD Ulusal Alerji ve Bulaşıcı...  \n",
      "2     @SpicyPurritos @TheFuglyFrog @brent_kellogg @M...  \n",
      "3     RT @Deimon40: Dr Mike Yeadon ex empleado de Pf...  \n",
      "4     A hospital administrator told me: “Fauci is th...  \n",
      "...                                                 ...  \n",
      "9895  RT @CerebrosDreams: @DrEricDing @whca @maxwell...  \n",
      "9896  RT @IAMINUNISON: Remember Pfizer and Fauci  ha...  \n",
      "9897  NIH Confirms Fauci Lied on multiple occassions...  \n",
      "9898  Let's start the day with a movie~\\n\\nhttps://t...  \n",
      "9899  RT @E_got_tweets: I hope Fauci rots in prison ...  \n",
      "\n",
      "[9900 rows x 2 columns]\n"
     ]
    }
   ],
   "source": [
    "fauci_05 = open(\"fauci_05_4_2022.pkl\", \"rb\")\n",
    "fauci_05_contents = pickle.load(fauci_05)\n",
    "print(fauci_05_contents)"
   ]
  },
  {
   "cell_type": "code",
   "execution_count": 49,
   "id": "6ada7abb",
   "metadata": {},
   "outputs": [
    {
     "data": {
      "text/html": [
       "<div>\n",
       "<style scoped>\n",
       "    .dataframe tbody tr th:only-of-type {\n",
       "        vertical-align: middle;\n",
       "    }\n",
       "\n",
       "    .dataframe tbody tr th {\n",
       "        vertical-align: top;\n",
       "    }\n",
       "\n",
       "    .dataframe thead th {\n",
       "        text-align: right;\n",
       "    }\n",
       "</style>\n",
       "<table border=\"1\" class=\"dataframe\">\n",
       "  <thead>\n",
       "    <tr style=\"text-align: right;\">\n",
       "      <th></th>\n",
       "      <th>Date</th>\n",
       "      <th>Tweet</th>\n",
       "    </tr>\n",
       "  </thead>\n",
       "  <tbody>\n",
       "    <tr>\n",
       "      <th>0</th>\n",
       "      <td>2022-05-03T23:59:55.000Z</td>\n",
       "      <td>RT @Tim32335015: Having read The Real Anthony ...</td>\n",
       "    </tr>\n",
       "    <tr>\n",
       "      <th>1</th>\n",
       "      <td>2022-05-03T23:59:38.000Z</td>\n",
       "      <td>RT @GunumunSozu: ABD Ulusal Alerji ve Bulaşıcı...</td>\n",
       "    </tr>\n",
       "    <tr>\n",
       "      <th>2</th>\n",
       "      <td>2022-05-03T23:59:36.000Z</td>\n",
       "      <td>@SpicyPurritos @TheFuglyFrog @brent_kellogg @M...</td>\n",
       "    </tr>\n",
       "    <tr>\n",
       "      <th>3</th>\n",
       "      <td>2022-05-03T23:59:31.000Z</td>\n",
       "      <td>RT @Deimon40: Dr Mike Yeadon ex empleado de Pf...</td>\n",
       "    </tr>\n",
       "    <tr>\n",
       "      <th>4</th>\n",
       "      <td>2022-05-03T23:59:27.000Z</td>\n",
       "      <td>A hospital administrator told me: “Fauci is th...</td>\n",
       "    </tr>\n",
       "    <tr>\n",
       "      <th>...</th>\n",
       "      <td>...</td>\n",
       "      <td>...</td>\n",
       "    </tr>\n",
       "    <tr>\n",
       "      <th>94</th>\n",
       "      <td>2022-05-03T23:46:32.000Z</td>\n",
       "      <td>RT @CerebrosDreams: @DrEricDing @whca @maxwell...</td>\n",
       "    </tr>\n",
       "    <tr>\n",
       "      <th>95</th>\n",
       "      <td>2022-05-03T23:45:50.000Z</td>\n",
       "      <td>RT @IAMINUNISON: Remember Pfizer and Fauci  ha...</td>\n",
       "    </tr>\n",
       "    <tr>\n",
       "      <th>96</th>\n",
       "      <td>2022-05-03T23:45:44.000Z</td>\n",
       "      <td>NIH Confirms Fauci Lied on multiple occassions...</td>\n",
       "    </tr>\n",
       "    <tr>\n",
       "      <th>97</th>\n",
       "      <td>2022-05-03T23:45:35.000Z</td>\n",
       "      <td>Let's start the day with a movie~\\n\\nhttps://t...</td>\n",
       "    </tr>\n",
       "    <tr>\n",
       "      <th>98</th>\n",
       "      <td>2022-05-03T23:45:32.000Z</td>\n",
       "      <td>RT @E_got_tweets: I hope Fauci rots in prison ...</td>\n",
       "    </tr>\n",
       "  </tbody>\n",
       "</table>\n",
       "<p>99 rows × 2 columns</p>\n",
       "</div>"
      ],
      "text/plain": [
       "                        Date  \\\n",
       "0   2022-05-03T23:59:55.000Z   \n",
       "1   2022-05-03T23:59:38.000Z   \n",
       "2   2022-05-03T23:59:36.000Z   \n",
       "3   2022-05-03T23:59:31.000Z   \n",
       "4   2022-05-03T23:59:27.000Z   \n",
       "..                       ...   \n",
       "94  2022-05-03T23:46:32.000Z   \n",
       "95  2022-05-03T23:45:50.000Z   \n",
       "96  2022-05-03T23:45:44.000Z   \n",
       "97  2022-05-03T23:45:35.000Z   \n",
       "98  2022-05-03T23:45:32.000Z   \n",
       "\n",
       "                                                Tweet  \n",
       "0   RT @Tim32335015: Having read The Real Anthony ...  \n",
       "1   RT @GunumunSozu: ABD Ulusal Alerji ve Bulaşıcı...  \n",
       "2   @SpicyPurritos @TheFuglyFrog @brent_kellogg @M...  \n",
       "3   RT @Deimon40: Dr Mike Yeadon ex empleado de Pf...  \n",
       "4   A hospital administrator told me: “Fauci is th...  \n",
       "..                                                ...  \n",
       "94  RT @CerebrosDreams: @DrEricDing @whca @maxwell...  \n",
       "95  RT @IAMINUNISON: Remember Pfizer and Fauci  ha...  \n",
       "96  NIH Confirms Fauci Lied on multiple occassions...  \n",
       "97  Let's start the day with a movie~\\n\\nhttps://t...  \n",
       "98  RT @E_got_tweets: I hope Fauci rots in prison ...  \n",
       "\n",
       "[99 rows x 2 columns]"
      ]
     },
     "execution_count": 49,
     "metadata": {},
     "output_type": "execute_result"
    }
   ],
   "source": [
    "fauci_05_contents.drop_duplicates()"
   ]
  },
  {
   "cell_type": "code",
   "execution_count": 50,
   "id": "4634d59b",
   "metadata": {},
   "outputs": [
    {
     "data": {
      "text/html": [
       "<div>\n",
       "<style scoped>\n",
       "    .dataframe tbody tr th:only-of-type {\n",
       "        vertical-align: middle;\n",
       "    }\n",
       "\n",
       "    .dataframe tbody tr th {\n",
       "        vertical-align: top;\n",
       "    }\n",
       "\n",
       "    .dataframe thead th {\n",
       "        text-align: right;\n",
       "    }\n",
       "</style>\n",
       "<table border=\"1\" class=\"dataframe\">\n",
       "  <thead>\n",
       "    <tr style=\"text-align: right;\">\n",
       "      <th></th>\n",
       "      <th>Date</th>\n",
       "      <th>Tweet</th>\n",
       "    </tr>\n",
       "  </thead>\n",
       "  <tbody>\n",
       "    <tr>\n",
       "      <th>0</th>\n",
       "      <td>2022-05-03T23:59:55.000Z</td>\n",
       "      <td>RT @Tim32335015: Having read The Real Anthony ...</td>\n",
       "    </tr>\n",
       "    <tr>\n",
       "      <th>1</th>\n",
       "      <td>2022-05-03T23:59:38.000Z</td>\n",
       "      <td>RT @GunumunSozu: ABD Ulusal Alerji ve Bulaşıcı...</td>\n",
       "    </tr>\n",
       "    <tr>\n",
       "      <th>2</th>\n",
       "      <td>2022-05-03T23:59:36.000Z</td>\n",
       "      <td>@SpicyPurritos @TheFuglyFrog @brent_kellogg @M...</td>\n",
       "    </tr>\n",
       "    <tr>\n",
       "      <th>3</th>\n",
       "      <td>2022-05-03T23:59:31.000Z</td>\n",
       "      <td>RT @Deimon40: Dr Mike Yeadon ex empleado de Pf...</td>\n",
       "    </tr>\n",
       "    <tr>\n",
       "      <th>4</th>\n",
       "      <td>2022-05-03T23:59:27.000Z</td>\n",
       "      <td>A hospital administrator told me: “Fauci is th...</td>\n",
       "    </tr>\n",
       "    <tr>\n",
       "      <th>...</th>\n",
       "      <td>...</td>\n",
       "      <td>...</td>\n",
       "    </tr>\n",
       "    <tr>\n",
       "      <th>94</th>\n",
       "      <td>2022-05-03T23:46:32.000Z</td>\n",
       "      <td>RT @CerebrosDreams: @DrEricDing @whca @maxwell...</td>\n",
       "    </tr>\n",
       "    <tr>\n",
       "      <th>95</th>\n",
       "      <td>2022-05-03T23:45:50.000Z</td>\n",
       "      <td>RT @IAMINUNISON: Remember Pfizer and Fauci  ha...</td>\n",
       "    </tr>\n",
       "    <tr>\n",
       "      <th>96</th>\n",
       "      <td>2022-05-03T23:45:44.000Z</td>\n",
       "      <td>NIH Confirms Fauci Lied on multiple occassions...</td>\n",
       "    </tr>\n",
       "    <tr>\n",
       "      <th>97</th>\n",
       "      <td>2022-05-03T23:45:35.000Z</td>\n",
       "      <td>Let's start the day with a movie~\\n\\nhttps://t...</td>\n",
       "    </tr>\n",
       "    <tr>\n",
       "      <th>98</th>\n",
       "      <td>2022-05-03T23:45:32.000Z</td>\n",
       "      <td>RT @E_got_tweets: I hope Fauci rots in prison ...</td>\n",
       "    </tr>\n",
       "  </tbody>\n",
       "</table>\n",
       "<p>99 rows × 2 columns</p>\n",
       "</div>"
      ],
      "text/plain": [
       "                        Date  \\\n",
       "0   2022-05-03T23:59:55.000Z   \n",
       "1   2022-05-03T23:59:38.000Z   \n",
       "2   2022-05-03T23:59:36.000Z   \n",
       "3   2022-05-03T23:59:31.000Z   \n",
       "4   2022-05-03T23:59:27.000Z   \n",
       "..                       ...   \n",
       "94  2022-05-03T23:46:32.000Z   \n",
       "95  2022-05-03T23:45:50.000Z   \n",
       "96  2022-05-03T23:45:44.000Z   \n",
       "97  2022-05-03T23:45:35.000Z   \n",
       "98  2022-05-03T23:45:32.000Z   \n",
       "\n",
       "                                                Tweet  \n",
       "0   RT @Tim32335015: Having read The Real Anthony ...  \n",
       "1   RT @GunumunSozu: ABD Ulusal Alerji ve Bulaşıcı...  \n",
       "2   @SpicyPurritos @TheFuglyFrog @brent_kellogg @M...  \n",
       "3   RT @Deimon40: Dr Mike Yeadon ex empleado de Pf...  \n",
       "4   A hospital administrator told me: “Fauci is th...  \n",
       "..                                                ...  \n",
       "94  RT @CerebrosDreams: @DrEricDing @whca @maxwell...  \n",
       "95  RT @IAMINUNISON: Remember Pfizer and Fauci  ha...  \n",
       "96  NIH Confirms Fauci Lied on multiple occassions...  \n",
       "97  Let's start the day with a movie~\\n\\nhttps://t...  \n",
       "98  RT @E_got_tweets: I hope Fauci rots in prison ...  \n",
       "\n",
       "[99 rows x 2 columns]"
      ]
     },
     "execution_count": 50,
     "metadata": {},
     "output_type": "execute_result"
    }
   ],
   "source": [
    "import pandas as pd\n",
    "pd.DataFrame(fauci_05_contents.drop_duplicates())"
   ]
  },
  {
   "cell_type": "code",
   "execution_count": 51,
   "id": "08ed4796",
   "metadata": {},
   "outputs": [
    {
     "name": "stdout",
     "output_type": "stream",
     "text": [
      "                          Date  \\\n",
      "0     2022-05-03T22:53:02.000Z   \n",
      "1     2022-05-03T22:47:00.000Z   \n",
      "2     2022-05-03T22:03:05.000Z   \n",
      "3     2022-05-03T18:29:38.000Z   \n",
      "4     2022-05-03T17:16:44.000Z   \n",
      "...                        ...   \n",
      "9995  2022-04-30T08:57:33.000Z   \n",
      "9996  2022-04-30T07:37:06.000Z   \n",
      "9997  2022-04-30T07:23:46.000Z   \n",
      "9998  2022-04-30T07:18:00.000Z   \n",
      "9999  2022-04-30T02:03:07.000Z   \n",
      "\n",
      "                                                  Tweet  \n",
      "0     Association found between mild #COVID19 cases ...  \n",
      "1     #Airfield #Pavement #Rehab #Resilient #LongLif...  \n",
      "2     RT @pierrech: 6/n\\nSo yeah... after #FlattenTh...  \n",
      "3     @DonPismeoff @PolitiBunny I’m not buying the s...  \n",
      "4     Don't forget that fresh air is important. Open...  \n",
      "...                                                 ...  \n",
      "9995  @f_schaeffler Wie hätten längst ein #Flattenth...  \n",
      "9996  RT @markumei: #Corona-Verlangsamung/\"#FlattenT...  \n",
      "9997  RT @markumei: #Corona-Verlangsamung/\"#FlattenT...  \n",
      "9998  #Corona-Verlangsamung/\"#FlattenTheCurve\" war p...  \n",
      "9999  RT @HealthNagaland: #COVID19 Bulletin #Nagalan...  \n",
      "\n",
      "[10000 rows x 2 columns]\n"
     ]
    }
   ],
   "source": [
    "flat_curv = open(\"flat_curv_05_4_2022.pkl\", \"rb\")\n",
    "flat_curv_contents = pickle.load(flat_curv)\n",
    "print(flat_curv_contents)"
   ]
  },
  {
   "cell_type": "code",
   "execution_count": 52,
   "id": "e07e24a9",
   "metadata": {},
   "outputs": [
    {
     "data": {
      "text/html": [
       "<div>\n",
       "<style scoped>\n",
       "    .dataframe tbody tr th:only-of-type {\n",
       "        vertical-align: middle;\n",
       "    }\n",
       "\n",
       "    .dataframe tbody tr th {\n",
       "        vertical-align: top;\n",
       "    }\n",
       "\n",
       "    .dataframe thead th {\n",
       "        text-align: right;\n",
       "    }\n",
       "</style>\n",
       "<table border=\"1\" class=\"dataframe\">\n",
       "  <thead>\n",
       "    <tr style=\"text-align: right;\">\n",
       "      <th></th>\n",
       "      <th>Date</th>\n",
       "      <th>Tweet</th>\n",
       "    </tr>\n",
       "  </thead>\n",
       "  <tbody>\n",
       "    <tr>\n",
       "      <th>0</th>\n",
       "      <td>2022-05-03T22:53:02.000Z</td>\n",
       "      <td>Association found between mild #COVID19 cases ...</td>\n",
       "    </tr>\n",
       "    <tr>\n",
       "      <th>1</th>\n",
       "      <td>2022-05-03T22:47:00.000Z</td>\n",
       "      <td>#Airfield #Pavement #Rehab #Resilient #LongLif...</td>\n",
       "    </tr>\n",
       "    <tr>\n",
       "      <th>2</th>\n",
       "      <td>2022-05-03T22:03:05.000Z</td>\n",
       "      <td>RT @pierrech: 6/n\\nSo yeah... after #FlattenTh...</td>\n",
       "    </tr>\n",
       "    <tr>\n",
       "      <th>3</th>\n",
       "      <td>2022-05-03T18:29:38.000Z</td>\n",
       "      <td>@DonPismeoff @PolitiBunny I’m not buying the s...</td>\n",
       "    </tr>\n",
       "    <tr>\n",
       "      <th>4</th>\n",
       "      <td>2022-05-03T17:16:44.000Z</td>\n",
       "      <td>Don't forget that fresh air is important. Open...</td>\n",
       "    </tr>\n",
       "    <tr>\n",
       "      <th>...</th>\n",
       "      <td>...</td>\n",
       "      <td>...</td>\n",
       "    </tr>\n",
       "    <tr>\n",
       "      <th>95</th>\n",
       "      <td>2022-04-30T08:57:33.000Z</td>\n",
       "      <td>@f_schaeffler Wie hätten längst ein #Flattenth...</td>\n",
       "    </tr>\n",
       "    <tr>\n",
       "      <th>96</th>\n",
       "      <td>2022-04-30T07:37:06.000Z</td>\n",
       "      <td>RT @markumei: #Corona-Verlangsamung/\"#FlattenT...</td>\n",
       "    </tr>\n",
       "    <tr>\n",
       "      <th>97</th>\n",
       "      <td>2022-04-30T07:23:46.000Z</td>\n",
       "      <td>RT @markumei: #Corona-Verlangsamung/\"#FlattenT...</td>\n",
       "    </tr>\n",
       "    <tr>\n",
       "      <th>98</th>\n",
       "      <td>2022-04-30T07:18:00.000Z</td>\n",
       "      <td>#Corona-Verlangsamung/\"#FlattenTheCurve\" war p...</td>\n",
       "    </tr>\n",
       "    <tr>\n",
       "      <th>99</th>\n",
       "      <td>2022-04-30T02:03:07.000Z</td>\n",
       "      <td>RT @HealthNagaland: #COVID19 Bulletin #Nagalan...</td>\n",
       "    </tr>\n",
       "  </tbody>\n",
       "</table>\n",
       "<p>100 rows × 2 columns</p>\n",
       "</div>"
      ],
      "text/plain": [
       "                        Date  \\\n",
       "0   2022-05-03T22:53:02.000Z   \n",
       "1   2022-05-03T22:47:00.000Z   \n",
       "2   2022-05-03T22:03:05.000Z   \n",
       "3   2022-05-03T18:29:38.000Z   \n",
       "4   2022-05-03T17:16:44.000Z   \n",
       "..                       ...   \n",
       "95  2022-04-30T08:57:33.000Z   \n",
       "96  2022-04-30T07:37:06.000Z   \n",
       "97  2022-04-30T07:23:46.000Z   \n",
       "98  2022-04-30T07:18:00.000Z   \n",
       "99  2022-04-30T02:03:07.000Z   \n",
       "\n",
       "                                                Tweet  \n",
       "0   Association found between mild #COVID19 cases ...  \n",
       "1   #Airfield #Pavement #Rehab #Resilient #LongLif...  \n",
       "2   RT @pierrech: 6/n\\nSo yeah... after #FlattenTh...  \n",
       "3   @DonPismeoff @PolitiBunny I’m not buying the s...  \n",
       "4   Don't forget that fresh air is important. Open...  \n",
       "..                                                ...  \n",
       "95  @f_schaeffler Wie hätten längst ein #Flattenth...  \n",
       "96  RT @markumei: #Corona-Verlangsamung/\"#FlattenT...  \n",
       "97  RT @markumei: #Corona-Verlangsamung/\"#FlattenT...  \n",
       "98  #Corona-Verlangsamung/\"#FlattenTheCurve\" war p...  \n",
       "99  RT @HealthNagaland: #COVID19 Bulletin #Nagalan...  \n",
       "\n",
       "[100 rows x 2 columns]"
      ]
     },
     "execution_count": 52,
     "metadata": {},
     "output_type": "execute_result"
    }
   ],
   "source": [
    "flat_curv_contents.drop_duplicates()"
   ]
  },
  {
   "cell_type": "code",
   "execution_count": 53,
   "id": "ac341a6b",
   "metadata": {},
   "outputs": [
    {
     "name": "stdout",
     "output_type": "stream",
     "text": [
      "                          Date  \\\n",
      "0     2022-05-03T23:58:18.000Z   \n",
      "1     2022-05-03T22:59:14.000Z   \n",
      "2     2022-05-03T22:35:59.000Z   \n",
      "3     2022-05-03T21:43:59.000Z   \n",
      "4     2022-05-03T21:33:05.000Z   \n",
      "...                        ...   \n",
      "9995  2022-05-02T23:49:50.000Z   \n",
      "9996  2022-05-02T23:37:54.000Z   \n",
      "9997  2022-05-02T23:23:27.000Z   \n",
      "9998  2022-05-02T23:16:47.000Z   \n",
      "9999  2022-05-02T23:15:14.000Z   \n",
      "\n",
      "                                                  Tweet  \n",
      "0     @debivice @WeAreCanProud Canadian military int...  \n",
      "1     RT @GundamNorthrop: How #China's communist reg...  \n",
      "2     @Rosemar34213914 @AmandiOnAir I didn’t know tr...  \n",
      "3     @ZEROlowerBOUND7 @TimMurtaugh Trump didn’t los...  \n",
      "4     RT @yolaene: El covid19 se identificó por prim...  \n",
      "...                                                 ...  \n",
      "9995  This is at least 50x crazier sounding than whe...  \n",
      "9996  RT @_WorldSolutions: #CoronavirusOutbreak,#cor...  \n",
      "9997  Now that people are no longer willing to accep...  \n",
      "9998  China is obsessed with disinfection against Co...  \n",
      "9999  RT @apocalypseos: They use all three of these ...  \n",
      "\n",
      "[10000 rows x 2 columns]\n"
     ]
    }
   ],
   "source": [
    "wu_labs = open(\"wu_labs_05_4_2022.pkl\", \"rb\")\n",
    "wu_labs_contents = pickle.load(wu_labs)\n",
    "print(wu_labs_contents)"
   ]
  },
  {
   "cell_type": "code",
   "execution_count": 54,
   "id": "15fd6db7",
   "metadata": {},
   "outputs": [
    {
     "data": {
      "text/html": [
       "<div>\n",
       "<style scoped>\n",
       "    .dataframe tbody tr th:only-of-type {\n",
       "        vertical-align: middle;\n",
       "    }\n",
       "\n",
       "    .dataframe tbody tr th {\n",
       "        vertical-align: top;\n",
       "    }\n",
       "\n",
       "    .dataframe thead th {\n",
       "        text-align: right;\n",
       "    }\n",
       "</style>\n",
       "<table border=\"1\" class=\"dataframe\">\n",
       "  <thead>\n",
       "    <tr style=\"text-align: right;\">\n",
       "      <th></th>\n",
       "      <th>Date</th>\n",
       "      <th>Tweet</th>\n",
       "    </tr>\n",
       "  </thead>\n",
       "  <tbody>\n",
       "    <tr>\n",
       "      <th>0</th>\n",
       "      <td>2022-05-03T23:58:18.000Z</td>\n",
       "      <td>@debivice @WeAreCanProud Canadian military int...</td>\n",
       "    </tr>\n",
       "    <tr>\n",
       "      <th>1</th>\n",
       "      <td>2022-05-03T22:59:14.000Z</td>\n",
       "      <td>RT @GundamNorthrop: How #China's communist reg...</td>\n",
       "    </tr>\n",
       "    <tr>\n",
       "      <th>2</th>\n",
       "      <td>2022-05-03T22:35:59.000Z</td>\n",
       "      <td>@Rosemar34213914 @AmandiOnAir I didn’t know tr...</td>\n",
       "    </tr>\n",
       "    <tr>\n",
       "      <th>3</th>\n",
       "      <td>2022-05-03T21:43:59.000Z</td>\n",
       "      <td>@ZEROlowerBOUND7 @TimMurtaugh Trump didn’t los...</td>\n",
       "    </tr>\n",
       "    <tr>\n",
       "      <th>4</th>\n",
       "      <td>2022-05-03T21:33:05.000Z</td>\n",
       "      <td>RT @yolaene: El covid19 se identificó por prim...</td>\n",
       "    </tr>\n",
       "    <tr>\n",
       "      <th>...</th>\n",
       "      <td>...</td>\n",
       "      <td>...</td>\n",
       "    </tr>\n",
       "    <tr>\n",
       "      <th>95</th>\n",
       "      <td>2022-05-02T23:49:50.000Z</td>\n",
       "      <td>This is at least 50x crazier sounding than whe...</td>\n",
       "    </tr>\n",
       "    <tr>\n",
       "      <th>96</th>\n",
       "      <td>2022-05-02T23:37:54.000Z</td>\n",
       "      <td>RT @_WorldSolutions: #CoronavirusOutbreak,#cor...</td>\n",
       "    </tr>\n",
       "    <tr>\n",
       "      <th>97</th>\n",
       "      <td>2022-05-02T23:23:27.000Z</td>\n",
       "      <td>Now that people are no longer willing to accep...</td>\n",
       "    </tr>\n",
       "    <tr>\n",
       "      <th>98</th>\n",
       "      <td>2022-05-02T23:16:47.000Z</td>\n",
       "      <td>China is obsessed with disinfection against Co...</td>\n",
       "    </tr>\n",
       "    <tr>\n",
       "      <th>99</th>\n",
       "      <td>2022-05-02T23:15:14.000Z</td>\n",
       "      <td>RT @apocalypseos: They use all three of these ...</td>\n",
       "    </tr>\n",
       "  </tbody>\n",
       "</table>\n",
       "<p>100 rows × 2 columns</p>\n",
       "</div>"
      ],
      "text/plain": [
       "                        Date  \\\n",
       "0   2022-05-03T23:58:18.000Z   \n",
       "1   2022-05-03T22:59:14.000Z   \n",
       "2   2022-05-03T22:35:59.000Z   \n",
       "3   2022-05-03T21:43:59.000Z   \n",
       "4   2022-05-03T21:33:05.000Z   \n",
       "..                       ...   \n",
       "95  2022-05-02T23:49:50.000Z   \n",
       "96  2022-05-02T23:37:54.000Z   \n",
       "97  2022-05-02T23:23:27.000Z   \n",
       "98  2022-05-02T23:16:47.000Z   \n",
       "99  2022-05-02T23:15:14.000Z   \n",
       "\n",
       "                                                Tweet  \n",
       "0   @debivice @WeAreCanProud Canadian military int...  \n",
       "1   RT @GundamNorthrop: How #China's communist reg...  \n",
       "2   @Rosemar34213914 @AmandiOnAir I didn’t know tr...  \n",
       "3   @ZEROlowerBOUND7 @TimMurtaugh Trump didn’t los...  \n",
       "4   RT @yolaene: El covid19 se identificó por prim...  \n",
       "..                                                ...  \n",
       "95  This is at least 50x crazier sounding than whe...  \n",
       "96  RT @_WorldSolutions: #CoronavirusOutbreak,#cor...  \n",
       "97  Now that people are no longer willing to accep...  \n",
       "98  China is obsessed with disinfection against Co...  \n",
       "99  RT @apocalypseos: They use all three of these ...  \n",
       "\n",
       "[100 rows x 2 columns]"
      ]
     },
     "execution_count": 54,
     "metadata": {},
     "output_type": "execute_result"
    }
   ],
   "source": [
    "wu_labs_contents.drop_duplicates()"
   ]
  },
  {
   "cell_type": "code",
   "execution_count": 55,
   "id": "b94fab30",
   "metadata": {},
   "outputs": [
    {
     "name": "stdout",
     "output_type": "stream",
     "text": [
      "                          Date  \\\n",
      "0     2022-05-03T23:59:58.000Z   \n",
      "1     2022-05-03T23:59:57.000Z   \n",
      "2     2022-05-03T23:59:55.000Z   \n",
      "3     2022-05-03T23:59:52.000Z   \n",
      "4     2022-05-03T23:59:48.000Z   \n",
      "...                        ...   \n",
      "9995  2022-05-03T23:52:23.000Z   \n",
      "9996  2022-05-03T23:52:21.000Z   \n",
      "9997  2022-05-03T23:52:18.000Z   \n",
      "9998  2022-05-03T23:52:05.000Z   \n",
      "9999  2022-05-03T23:51:57.000Z   \n",
      "\n",
      "                                                  Tweet  \n",
      "0     RT @Jim_Jordan: Democrats:\\n\\n-Spy on a presid...  \n",
      "1     RT @Jim_Jordan: Democrats:\\n\\n-Spy on a presid...  \n",
      "2     RT @Jim_Jordan: Democrats:\\n\\n-Spy on a presid...  \n",
      "3     RT @Jim_Jordan: Democrats:\\n\\n-Spy on a presid...  \n",
      "4     RT @villainpinks: .@KarolG shares that she wou...  \n",
      "...                                                 ...  \n",
      "9995  RT @Jim_Jordan: Democrats:\\n\\n-Spy on a presid...  \n",
      "9996  RT @Jim_Jordan: Democrats:\\n\\n-Spy on a presid...  \n",
      "9997  RT @Jim_Jordan: Democrats:\\n\\n-Spy on a presid...  \n",
      "9998  RT @villainpinks: .@KarolG shares that she wou...  \n",
      "9999  RT @dwnews: Thousands of Muslims in Indonesia ...  \n",
      "\n",
      "[10000 rows x 2 columns]\n"
     ]
    }
   ],
   "source": [
    "cov_restr = open(\"cov_restr_05_4_2022.pkl\", \"rb\")\n",
    "cov_restr_contents = pickle.load(cov_restr)\n",
    "print(cov_restr_contents)"
   ]
  },
  {
   "cell_type": "code",
   "execution_count": 56,
   "id": "3140222d",
   "metadata": {},
   "outputs": [
    {
     "data": {
      "text/html": [
       "<div>\n",
       "<style scoped>\n",
       "    .dataframe tbody tr th:only-of-type {\n",
       "        vertical-align: middle;\n",
       "    }\n",
       "\n",
       "    .dataframe tbody tr th {\n",
       "        vertical-align: top;\n",
       "    }\n",
       "\n",
       "    .dataframe thead th {\n",
       "        text-align: right;\n",
       "    }\n",
       "</style>\n",
       "<table border=\"1\" class=\"dataframe\">\n",
       "  <thead>\n",
       "    <tr style=\"text-align: right;\">\n",
       "      <th></th>\n",
       "      <th>Date</th>\n",
       "      <th>Tweet</th>\n",
       "    </tr>\n",
       "  </thead>\n",
       "  <tbody>\n",
       "    <tr>\n",
       "      <th>0</th>\n",
       "      <td>2022-05-03T23:59:58.000Z</td>\n",
       "      <td>RT @Jim_Jordan: Democrats:\\n\\n-Spy on a presid...</td>\n",
       "    </tr>\n",
       "    <tr>\n",
       "      <th>1</th>\n",
       "      <td>2022-05-03T23:59:57.000Z</td>\n",
       "      <td>RT @Jim_Jordan: Democrats:\\n\\n-Spy on a presid...</td>\n",
       "    </tr>\n",
       "    <tr>\n",
       "      <th>2</th>\n",
       "      <td>2022-05-03T23:59:55.000Z</td>\n",
       "      <td>RT @Jim_Jordan: Democrats:\\n\\n-Spy on a presid...</td>\n",
       "    </tr>\n",
       "    <tr>\n",
       "      <th>3</th>\n",
       "      <td>2022-05-03T23:59:52.000Z</td>\n",
       "      <td>RT @Jim_Jordan: Democrats:\\n\\n-Spy on a presid...</td>\n",
       "    </tr>\n",
       "    <tr>\n",
       "      <th>4</th>\n",
       "      <td>2022-05-03T23:59:48.000Z</td>\n",
       "      <td>RT @villainpinks: .@KarolG shares that she wou...</td>\n",
       "    </tr>\n",
       "    <tr>\n",
       "      <th>...</th>\n",
       "      <td>...</td>\n",
       "      <td>...</td>\n",
       "    </tr>\n",
       "    <tr>\n",
       "      <th>95</th>\n",
       "      <td>2022-05-03T23:52:23.000Z</td>\n",
       "      <td>RT @Jim_Jordan: Democrats:\\n\\n-Spy on a presid...</td>\n",
       "    </tr>\n",
       "    <tr>\n",
       "      <th>96</th>\n",
       "      <td>2022-05-03T23:52:21.000Z</td>\n",
       "      <td>RT @Jim_Jordan: Democrats:\\n\\n-Spy on a presid...</td>\n",
       "    </tr>\n",
       "    <tr>\n",
       "      <th>97</th>\n",
       "      <td>2022-05-03T23:52:18.000Z</td>\n",
       "      <td>RT @Jim_Jordan: Democrats:\\n\\n-Spy on a presid...</td>\n",
       "    </tr>\n",
       "    <tr>\n",
       "      <th>98</th>\n",
       "      <td>2022-05-03T23:52:05.000Z</td>\n",
       "      <td>RT @villainpinks: .@KarolG shares that she wou...</td>\n",
       "    </tr>\n",
       "    <tr>\n",
       "      <th>99</th>\n",
       "      <td>2022-05-03T23:51:57.000Z</td>\n",
       "      <td>RT @dwnews: Thousands of Muslims in Indonesia ...</td>\n",
       "    </tr>\n",
       "  </tbody>\n",
       "</table>\n",
       "<p>94 rows × 2 columns</p>\n",
       "</div>"
      ],
      "text/plain": [
       "                        Date  \\\n",
       "0   2022-05-03T23:59:58.000Z   \n",
       "1   2022-05-03T23:59:57.000Z   \n",
       "2   2022-05-03T23:59:55.000Z   \n",
       "3   2022-05-03T23:59:52.000Z   \n",
       "4   2022-05-03T23:59:48.000Z   \n",
       "..                       ...   \n",
       "95  2022-05-03T23:52:23.000Z   \n",
       "96  2022-05-03T23:52:21.000Z   \n",
       "97  2022-05-03T23:52:18.000Z   \n",
       "98  2022-05-03T23:52:05.000Z   \n",
       "99  2022-05-03T23:51:57.000Z   \n",
       "\n",
       "                                                Tweet  \n",
       "0   RT @Jim_Jordan: Democrats:\\n\\n-Spy on a presid...  \n",
       "1   RT @Jim_Jordan: Democrats:\\n\\n-Spy on a presid...  \n",
       "2   RT @Jim_Jordan: Democrats:\\n\\n-Spy on a presid...  \n",
       "3   RT @Jim_Jordan: Democrats:\\n\\n-Spy on a presid...  \n",
       "4   RT @villainpinks: .@KarolG shares that she wou...  \n",
       "..                                                ...  \n",
       "95  RT @Jim_Jordan: Democrats:\\n\\n-Spy on a presid...  \n",
       "96  RT @Jim_Jordan: Democrats:\\n\\n-Spy on a presid...  \n",
       "97  RT @Jim_Jordan: Democrats:\\n\\n-Spy on a presid...  \n",
       "98  RT @villainpinks: .@KarolG shares that she wou...  \n",
       "99  RT @dwnews: Thousands of Muslims in Indonesia ...  \n",
       "\n",
       "[94 rows x 2 columns]"
      ]
     },
     "execution_count": 56,
     "metadata": {},
     "output_type": "execute_result"
    }
   ],
   "source": [
    "cov_restr_contents.drop_duplicates()"
   ]
  },
  {
   "cell_type": "code",
   "execution_count": 57,
   "id": "f65bea06",
   "metadata": {},
   "outputs": [],
   "source": [
    "total_list = pd.concat([anti_cov,cov_restr_contents,wu_labs_contents,flat_curv_contents,fauci_05_contents,covid_variants_05_contents,pandemic_05_contents])"
   ]
  },
  {
   "cell_type": "code",
   "execution_count": 58,
   "id": "34f12fda",
   "metadata": {},
   "outputs": [
    {
     "data": {
      "text/plain": [
       "(60793, 2)"
      ]
     },
     "execution_count": 58,
     "metadata": {},
     "output_type": "execute_result"
    }
   ],
   "source": [
    "total_list.shape"
   ]
  },
  {
   "cell_type": "code",
   "execution_count": 59,
   "id": "8ad505d0",
   "metadata": {},
   "outputs": [
    {
     "data": {
      "text/plain": [
       "60793"
      ]
     },
     "execution_count": 59,
     "metadata": {},
     "output_type": "execute_result"
    }
   ],
   "source": [
    "len(total_list)"
   ]
  },
  {
   "cell_type": "code",
   "execution_count": 60,
   "id": "bb41992b",
   "metadata": {},
   "outputs": [],
   "source": [
    "# I first have to pickle the file\n",
    "total_list.to_pickle('total_list.pkl')"
   ]
  },
  {
   "cell_type": "code",
   "execution_count": 61,
   "id": "2962ca31",
   "metadata": {},
   "outputs": [
    {
     "name": "stdout",
     "output_type": "stream",
     "text": [
      "                          Date  \\\n",
      "0     2022-04-17T23:55:00.000Z   \n",
      "1     2022-04-17T23:34:06.000Z   \n",
      "2     2022-04-17T23:32:34.000Z   \n",
      "3     2022-04-17T23:30:44.000Z   \n",
      "4     2022-04-17T23:28:27.000Z   \n",
      "...                        ...   \n",
      "9995  2022-05-03T23:59:24.000Z   \n",
      "9996  2022-05-03T23:59:24.000Z   \n",
      "9997  2022-05-03T23:59:23.000Z   \n",
      "9998  2022-05-03T23:59:22.000Z   \n",
      "9999  2022-05-03T23:59:21.000Z   \n",
      "\n",
      "                                                  Tweet  \n",
      "0     RT @girls_can: ‘Learning to live’ with #COVID ...  \n",
      "1     Both Martin and Moroz say while the booster sh...  \n",
      "2     Children aged 12 to 17 in Manitoba are now eli...  \n",
      "3     RT @PhilippineStar: Health Undersecretary Myrn...  \n",
      "4     RT @OccupyMyGov: Anti vaxxers like to ask \"how...  \n",
      "...                                                 ...  \n",
      "9995  The global stagflation shock of 2022: How bad ...  \n",
      "9996  How Aspen Medical got 'paid access' to politic...  \n",
      "9997  @NathanNobis @bgblueeyes @richardmarx Especial...  \n",
      "9998  RT @TristanSnell: The Supreme Court won’t forc...  \n",
      "9999  @covidmeetupscom @LucyofL It’s honestly scary....  \n",
      "\n",
      "[60793 rows x 2 columns]\n"
     ]
    }
   ],
   "source": [
    "# this line of code unpickles the file...\n",
    "total_list = open(\"total_list.pkl\", \"rb\")\n",
    "total_list_contents = pickle.load(total_list)\n",
    "print(total_list_contents)"
   ]
  },
  {
   "cell_type": "code",
   "execution_count": 62,
   "id": "448d0125",
   "metadata": {},
   "outputs": [],
   "source": [
    "#Can't de-duplicate because total_list has a unhashable type: 'dict' ie. Dictionary\n",
    "total_list_contents.drop_duplicates(inplace=True)"
   ]
  },
  {
   "cell_type": "code",
   "execution_count": 63,
   "id": "80f60c39",
   "metadata": {},
   "outputs": [],
   "source": [
    "total_list_contents.drop('index', axis=1, inplace=True, errors='ignore')"
   ]
  },
  {
   "cell_type": "code",
   "execution_count": 64,
   "id": "19988d08",
   "metadata": {},
   "outputs": [],
   "source": [
    "total_list_contents.reset_index(inplace=True)"
   ]
  },
  {
   "cell_type": "code",
   "execution_count": 65,
   "id": "aecd1344",
   "metadata": {},
   "outputs": [
    {
     "data": {
      "text/html": [
       "<div>\n",
       "<style scoped>\n",
       "    .dataframe tbody tr th:only-of-type {\n",
       "        vertical-align: middle;\n",
       "    }\n",
       "\n",
       "    .dataframe tbody tr th {\n",
       "        vertical-align: top;\n",
       "    }\n",
       "\n",
       "    .dataframe thead th {\n",
       "        text-align: right;\n",
       "    }\n",
       "</style>\n",
       "<table border=\"1\" class=\"dataframe\">\n",
       "  <thead>\n",
       "    <tr style=\"text-align: right;\">\n",
       "      <th></th>\n",
       "      <th>index</th>\n",
       "      <th>Date</th>\n",
       "      <th>Tweet</th>\n",
       "    </tr>\n",
       "  </thead>\n",
       "  <tbody>\n",
       "    <tr>\n",
       "      <th>0</th>\n",
       "      <td>0</td>\n",
       "      <td>2022-04-17T23:55:00.000Z</td>\n",
       "      <td>RT @girls_can: ‘Learning to live’ with #COVID ...</td>\n",
       "    </tr>\n",
       "    <tr>\n",
       "      <th>1</th>\n",
       "      <td>1</td>\n",
       "      <td>2022-04-17T23:34:06.000Z</td>\n",
       "      <td>Both Martin and Moroz say while the booster sh...</td>\n",
       "    </tr>\n",
       "    <tr>\n",
       "      <th>2</th>\n",
       "      <td>2</td>\n",
       "      <td>2022-04-17T23:32:34.000Z</td>\n",
       "      <td>Children aged 12 to 17 in Manitoba are now eli...</td>\n",
       "    </tr>\n",
       "    <tr>\n",
       "      <th>3</th>\n",
       "      <td>3</td>\n",
       "      <td>2022-04-17T23:30:44.000Z</td>\n",
       "      <td>RT @PhilippineStar: Health Undersecretary Myrn...</td>\n",
       "    </tr>\n",
       "    <tr>\n",
       "      <th>4</th>\n",
       "      <td>4</td>\n",
       "      <td>2022-04-17T23:28:27.000Z</td>\n",
       "      <td>RT @OccupyMyGov: Anti vaxxers like to ask \"how...</td>\n",
       "    </tr>\n",
       "  </tbody>\n",
       "</table>\n",
       "</div>"
      ],
      "text/plain": [
       "   index                      Date  \\\n",
       "0      0  2022-04-17T23:55:00.000Z   \n",
       "1      1  2022-04-17T23:34:06.000Z   \n",
       "2      2  2022-04-17T23:32:34.000Z   \n",
       "3      3  2022-04-17T23:30:44.000Z   \n",
       "4      4  2022-04-17T23:28:27.000Z   \n",
       "\n",
       "                                               Tweet  \n",
       "0  RT @girls_can: ‘Learning to live’ with #COVID ...  \n",
       "1  Both Martin and Moroz say while the booster sh...  \n",
       "2  Children aged 12 to 17 in Manitoba are now eli...  \n",
       "3  RT @PhilippineStar: Health Undersecretary Myrn...  \n",
       "4  RT @OccupyMyGov: Anti vaxxers like to ask \"how...  "
      ]
     },
     "execution_count": 65,
     "metadata": {},
     "output_type": "execute_result"
    }
   ],
   "source": [
    "total_list_contents.head()"
   ]
  },
  {
   "cell_type": "code",
   "execution_count": 66,
   "id": "5d7278c8",
   "metadata": {},
   "outputs": [
    {
     "data": {
      "text/plain": [
       "851"
      ]
     },
     "execution_count": 66,
     "metadata": {},
     "output_type": "execute_result"
    }
   ],
   "source": [
    "len(total_list_contents)"
   ]
  },
  {
   "cell_type": "code",
   "execution_count": null,
   "id": "46ee93ed",
   "metadata": {},
   "outputs": [],
   "source": []
  },
  {
   "cell_type": "code",
   "execution_count": 67,
   "id": "b64a37b8",
   "metadata": {},
   "outputs": [],
   "source": [
    "from vaderSentiment.vaderSentiment import SentimentIntensityAnalyzer"
   ]
  },
  {
   "cell_type": "code",
   "execution_count": 68,
   "id": "555cdf27",
   "metadata": {},
   "outputs": [],
   "source": [
    "sia = SentimentIntensityAnalyzer()"
   ]
  },
  {
   "cell_type": "code",
   "execution_count": 69,
   "id": "6cebdb9a",
   "metadata": {},
   "outputs": [],
   "source": [
    "def get_polarity(tweets):\n",
    "    senti_dict = sia.polarity_scores(tweets)\n",
    "    return senti_dict['compound']*100\n",
    "\n",
    "    #print(senti_dict['tweets']*100, \"% Tweet\")\n",
    "    #print(senti_dict['date']*100)\n",
    "    #print(\"Overall sentiment dictionary is : \", senti_dict)\n",
    "    #print(\"sentence was rated as \", senti_dict['neg']*100, \"% Negative\")\n",
    "    #print(\"sentence was rated as \", senti_dict['neu']*100, \"% Neutral\")\n",
    "    #print(\"sentence was rated as \", senti_dict['pos']*100, \"% Positive\")print(\"sentence was rated as \",\n",
    "    #print(senti_dict['compound']*100, \"% Compound\")\n",
    "    #return senti_dict['compound']*100\n",
    "    #print(\"Sentence Overall Rated As\", end = \" \")\n",
    "\n",
    "    "
   ]
  },
  {
   "cell_type": "code",
   "execution_count": 70,
   "id": "3439ff13",
   "metadata": {},
   "outputs": [
    {
     "data": {
      "text/plain": [
       "0       0.00\n",
       "1      68.08\n",
       "2     -42.15\n",
       "3       0.00\n",
       "4       5.16\n",
       "       ...  \n",
       "846   -72.69\n",
       "847     0.00\n",
       "848   -42.36\n",
       "849    31.82\n",
       "850   -19.91\n",
       "Name: Tweet, Length: 851, dtype: float64"
      ]
     },
     "execution_count": 70,
     "metadata": {},
     "output_type": "execute_result"
    }
   ],
   "source": [
    "import pandas as pd\n",
    "tot = total_list_contents[\"Tweet\"].apply(get_polarity)\n",
    "tot\n"
   ]
  },
  {
   "cell_type": "code",
   "execution_count": 71,
   "id": "e7e3d3db",
   "metadata": {},
   "outputs": [
    {
     "data": {
      "text/plain": [
       "pandas.core.series.Series"
      ]
     },
     "execution_count": 71,
     "metadata": {},
     "output_type": "execute_result"
    }
   ],
   "source": [
    "type(tot)"
   ]
  },
  {
   "cell_type": "code",
   "execution_count": 72,
   "id": "acc7966d",
   "metadata": {},
   "outputs": [
    {
     "data": {
      "text/plain": [
       "851"
      ]
     },
     "execution_count": 72,
     "metadata": {},
     "output_type": "execute_result"
    }
   ],
   "source": [
    "len(tot)"
   ]
  },
  {
   "cell_type": "code",
   "execution_count": 73,
   "id": "ff12bf47",
   "metadata": {},
   "outputs": [],
   "source": [
    "total_list_contents['compound'] = tot"
   ]
  },
  {
   "cell_type": "code",
   "execution_count": 74,
   "id": "2fe3e2a4",
   "metadata": {},
   "outputs": [
    {
     "data": {
      "text/html": [
       "<div>\n",
       "<style scoped>\n",
       "    .dataframe tbody tr th:only-of-type {\n",
       "        vertical-align: middle;\n",
       "    }\n",
       "\n",
       "    .dataframe tbody tr th {\n",
       "        vertical-align: top;\n",
       "    }\n",
       "\n",
       "    .dataframe thead th {\n",
       "        text-align: right;\n",
       "    }\n",
       "</style>\n",
       "<table border=\"1\" class=\"dataframe\">\n",
       "  <thead>\n",
       "    <tr style=\"text-align: right;\">\n",
       "      <th></th>\n",
       "      <th>index</th>\n",
       "      <th>Date</th>\n",
       "      <th>Tweet</th>\n",
       "      <th>compound</th>\n",
       "    </tr>\n",
       "  </thead>\n",
       "  <tbody>\n",
       "    <tr>\n",
       "      <th>0</th>\n",
       "      <td>0</td>\n",
       "      <td>2022-04-17T23:55:00.000Z</td>\n",
       "      <td>RT @girls_can: ‘Learning to live’ with #COVID ...</td>\n",
       "      <td>0.00</td>\n",
       "    </tr>\n",
       "    <tr>\n",
       "      <th>1</th>\n",
       "      <td>1</td>\n",
       "      <td>2022-04-17T23:34:06.000Z</td>\n",
       "      <td>Both Martin and Moroz say while the booster sh...</td>\n",
       "      <td>68.08</td>\n",
       "    </tr>\n",
       "    <tr>\n",
       "      <th>2</th>\n",
       "      <td>2</td>\n",
       "      <td>2022-04-17T23:32:34.000Z</td>\n",
       "      <td>Children aged 12 to 17 in Manitoba are now eli...</td>\n",
       "      <td>-42.15</td>\n",
       "    </tr>\n",
       "    <tr>\n",
       "      <th>3</th>\n",
       "      <td>3</td>\n",
       "      <td>2022-04-17T23:30:44.000Z</td>\n",
       "      <td>RT @PhilippineStar: Health Undersecretary Myrn...</td>\n",
       "      <td>0.00</td>\n",
       "    </tr>\n",
       "    <tr>\n",
       "      <th>4</th>\n",
       "      <td>4</td>\n",
       "      <td>2022-04-17T23:28:27.000Z</td>\n",
       "      <td>RT @OccupyMyGov: Anti vaxxers like to ask \"how...</td>\n",
       "      <td>5.16</td>\n",
       "    </tr>\n",
       "  </tbody>\n",
       "</table>\n",
       "</div>"
      ],
      "text/plain": [
       "   index                      Date  \\\n",
       "0      0  2022-04-17T23:55:00.000Z   \n",
       "1      1  2022-04-17T23:34:06.000Z   \n",
       "2      2  2022-04-17T23:32:34.000Z   \n",
       "3      3  2022-04-17T23:30:44.000Z   \n",
       "4      4  2022-04-17T23:28:27.000Z   \n",
       "\n",
       "                                               Tweet  compound  \n",
       "0  RT @girls_can: ‘Learning to live’ with #COVID ...      0.00  \n",
       "1  Both Martin and Moroz say while the booster sh...     68.08  \n",
       "2  Children aged 12 to 17 in Manitoba are now eli...    -42.15  \n",
       "3  RT @PhilippineStar: Health Undersecretary Myrn...      0.00  \n",
       "4  RT @OccupyMyGov: Anti vaxxers like to ask \"how...      5.16  "
      ]
     },
     "execution_count": 74,
     "metadata": {},
     "output_type": "execute_result"
    }
   ],
   "source": [
    "total_list_contents.head()"
   ]
  },
  {
   "cell_type": "code",
   "execution_count": 75,
   "id": "1fba5de6",
   "metadata": {},
   "outputs": [],
   "source": [
    "tot = []\n",
    "tot=pd.DataFrame(tot, columns=['Compound'])"
   ]
  },
  {
   "cell_type": "code",
   "execution_count": 76,
   "id": "9e763e0b",
   "metadata": {},
   "outputs": [],
   "source": [
    "tot.to_pickle('tot.pkl')"
   ]
  },
  {
   "cell_type": "code",
   "execution_count": 77,
   "id": "e4ab78a8",
   "metadata": {},
   "outputs": [],
   "source": [
    "unpickle_tot = pd.read_pickle('tot.pkl')"
   ]
  },
  {
   "cell_type": "code",
   "execution_count": 78,
   "id": "c926a8d3",
   "metadata": {},
   "outputs": [
    {
     "data": {
      "text/html": [
       "<div>\n",
       "<style scoped>\n",
       "    .dataframe tbody tr th:only-of-type {\n",
       "        vertical-align: middle;\n",
       "    }\n",
       "\n",
       "    .dataframe tbody tr th {\n",
       "        vertical-align: top;\n",
       "    }\n",
       "\n",
       "    .dataframe thead th {\n",
       "        text-align: right;\n",
       "    }\n",
       "</style>\n",
       "<table border=\"1\" class=\"dataframe\">\n",
       "  <thead>\n",
       "    <tr style=\"text-align: right;\">\n",
       "      <th></th>\n",
       "      <th>Compound</th>\n",
       "    </tr>\n",
       "  </thead>\n",
       "  <tbody>\n",
       "  </tbody>\n",
       "</table>\n",
       "</div>"
      ],
      "text/plain": [
       "Empty DataFrame\n",
       "Columns: [Compound]\n",
       "Index: []"
      ]
     },
     "execution_count": 78,
     "metadata": {},
     "output_type": "execute_result"
    }
   ],
   "source": [
    "unpickle_tot.head()"
   ]
  },
  {
   "cell_type": "code",
   "execution_count": 79,
   "id": "3991906b",
   "metadata": {},
   "outputs": [
    {
     "data": {
      "text/html": [
       "<div>\n",
       "<style scoped>\n",
       "    .dataframe tbody tr th:only-of-type {\n",
       "        vertical-align: middle;\n",
       "    }\n",
       "\n",
       "    .dataframe tbody tr th {\n",
       "        vertical-align: top;\n",
       "    }\n",
       "\n",
       "    .dataframe thead th {\n",
       "        text-align: right;\n",
       "    }\n",
       "</style>\n",
       "<table border=\"1\" class=\"dataframe\">\n",
       "  <thead>\n",
       "    <tr style=\"text-align: right;\">\n",
       "      <th></th>\n",
       "      <th>Compound</th>\n",
       "    </tr>\n",
       "  </thead>\n",
       "  <tbody>\n",
       "  </tbody>\n",
       "</table>\n",
       "</div>"
      ],
      "text/plain": [
       "Empty DataFrame\n",
       "Columns: [Compound]\n",
       "Index: []"
      ]
     },
     "execution_count": 79,
     "metadata": {},
     "output_type": "execute_result"
    }
   ],
   "source": [
    "tot.head(5)"
   ]
  },
  {
   "cell_type": "code",
   "execution_count": 80,
   "id": "4e05f889",
   "metadata": {},
   "outputs": [
    {
     "data": {
      "text/html": [
       "<div>\n",
       "<style scoped>\n",
       "    .dataframe tbody tr th:only-of-type {\n",
       "        vertical-align: middle;\n",
       "    }\n",
       "\n",
       "    .dataframe tbody tr th {\n",
       "        vertical-align: top;\n",
       "    }\n",
       "\n",
       "    .dataframe thead th {\n",
       "        text-align: right;\n",
       "    }\n",
       "</style>\n",
       "<table border=\"1\" class=\"dataframe\">\n",
       "  <thead>\n",
       "    <tr style=\"text-align: right;\">\n",
       "      <th></th>\n",
       "      <th>index</th>\n",
       "      <th>Date</th>\n",
       "      <th>Tweet</th>\n",
       "      <th>compound</th>\n",
       "    </tr>\n",
       "  </thead>\n",
       "  <tbody>\n",
       "    <tr>\n",
       "      <th>0</th>\n",
       "      <td>0</td>\n",
       "      <td>2022-04-17T23:55:00.000Z</td>\n",
       "      <td>RT @girls_can: ‘Learning to live’ with #COVID ...</td>\n",
       "      <td>0.00</td>\n",
       "    </tr>\n",
       "    <tr>\n",
       "      <th>1</th>\n",
       "      <td>1</td>\n",
       "      <td>2022-04-17T23:34:06.000Z</td>\n",
       "      <td>Both Martin and Moroz say while the booster sh...</td>\n",
       "      <td>68.08</td>\n",
       "    </tr>\n",
       "    <tr>\n",
       "      <th>2</th>\n",
       "      <td>2</td>\n",
       "      <td>2022-04-17T23:32:34.000Z</td>\n",
       "      <td>Children aged 12 to 17 in Manitoba are now eli...</td>\n",
       "      <td>-42.15</td>\n",
       "    </tr>\n",
       "    <tr>\n",
       "      <th>3</th>\n",
       "      <td>3</td>\n",
       "      <td>2022-04-17T23:30:44.000Z</td>\n",
       "      <td>RT @PhilippineStar: Health Undersecretary Myrn...</td>\n",
       "      <td>0.00</td>\n",
       "    </tr>\n",
       "    <tr>\n",
       "      <th>4</th>\n",
       "      <td>4</td>\n",
       "      <td>2022-04-17T23:28:27.000Z</td>\n",
       "      <td>RT @OccupyMyGov: Anti vaxxers like to ask \"how...</td>\n",
       "      <td>5.16</td>\n",
       "    </tr>\n",
       "    <tr>\n",
       "      <th>...</th>\n",
       "      <td>...</td>\n",
       "      <td>...</td>\n",
       "      <td>...</td>\n",
       "      <td>...</td>\n",
       "    </tr>\n",
       "    <tr>\n",
       "      <th>846</th>\n",
       "      <td>95</td>\n",
       "      <td>2022-05-03T23:59:24.000Z</td>\n",
       "      <td>The global stagflation shock of 2022: How bad ...</td>\n",
       "      <td>-72.69</td>\n",
       "    </tr>\n",
       "    <tr>\n",
       "      <th>847</th>\n",
       "      <td>96</td>\n",
       "      <td>2022-05-03T23:59:24.000Z</td>\n",
       "      <td>How Aspen Medical got 'paid access' to politic...</td>\n",
       "      <td>0.00</td>\n",
       "    </tr>\n",
       "    <tr>\n",
       "      <th>848</th>\n",
       "      <td>97</td>\n",
       "      <td>2022-05-03T23:59:23.000Z</td>\n",
       "      <td>@NathanNobis @bgblueeyes @richardmarx Especial...</td>\n",
       "      <td>-42.36</td>\n",
       "    </tr>\n",
       "    <tr>\n",
       "      <th>849</th>\n",
       "      <td>98</td>\n",
       "      <td>2022-05-03T23:59:22.000Z</td>\n",
       "      <td>RT @TristanSnell: The Supreme Court won’t forc...</td>\n",
       "      <td>31.82</td>\n",
       "    </tr>\n",
       "    <tr>\n",
       "      <th>850</th>\n",
       "      <td>99</td>\n",
       "      <td>2022-05-03T23:59:21.000Z</td>\n",
       "      <td>@covidmeetupscom @LucyofL It’s honestly scary....</td>\n",
       "      <td>-19.91</td>\n",
       "    </tr>\n",
       "  </tbody>\n",
       "</table>\n",
       "<p>851 rows × 4 columns</p>\n",
       "</div>"
      ],
      "text/plain": [
       "     index                      Date  \\\n",
       "0        0  2022-04-17T23:55:00.000Z   \n",
       "1        1  2022-04-17T23:34:06.000Z   \n",
       "2        2  2022-04-17T23:32:34.000Z   \n",
       "3        3  2022-04-17T23:30:44.000Z   \n",
       "4        4  2022-04-17T23:28:27.000Z   \n",
       "..     ...                       ...   \n",
       "846     95  2022-05-03T23:59:24.000Z   \n",
       "847     96  2022-05-03T23:59:24.000Z   \n",
       "848     97  2022-05-03T23:59:23.000Z   \n",
       "849     98  2022-05-03T23:59:22.000Z   \n",
       "850     99  2022-05-03T23:59:21.000Z   \n",
       "\n",
       "                                                 Tweet  compound  \n",
       "0    RT @girls_can: ‘Learning to live’ with #COVID ...      0.00  \n",
       "1    Both Martin and Moroz say while the booster sh...     68.08  \n",
       "2    Children aged 12 to 17 in Manitoba are now eli...    -42.15  \n",
       "3    RT @PhilippineStar: Health Undersecretary Myrn...      0.00  \n",
       "4    RT @OccupyMyGov: Anti vaxxers like to ask \"how...      5.16  \n",
       "..                                                 ...       ...  \n",
       "846  The global stagflation shock of 2022: How bad ...    -72.69  \n",
       "847  How Aspen Medical got 'paid access' to politic...      0.00  \n",
       "848  @NathanNobis @bgblueeyes @richardmarx Especial...    -42.36  \n",
       "849  RT @TristanSnell: The Supreme Court won’t forc...     31.82  \n",
       "850  @covidmeetupscom @LucyofL It’s honestly scary....    -19.91  \n",
       "\n",
       "[851 rows x 4 columns]"
      ]
     },
     "execution_count": 80,
     "metadata": {},
     "output_type": "execute_result"
    }
   ],
   "source": [
    "total_list_contents.drop_duplicates()"
   ]
  },
  {
   "cell_type": "code",
   "execution_count": 81,
   "id": "09d5868e",
   "metadata": {},
   "outputs": [],
   "source": [
    "def get_polarity(tweet):\n",
    "    return sia.polarity_scores(tweet)\n"
   ]
  },
  {
   "cell_type": "code",
   "execution_count": null,
   "id": "75f3f9cd",
   "metadata": {},
   "outputs": [],
   "source": []
  },
  {
   "cell_type": "code",
   "execution_count": null,
   "id": "81b64277",
   "metadata": {},
   "outputs": [],
   "source": []
  },
  {
   "cell_type": "code",
   "execution_count": null,
   "id": "ff2e9860",
   "metadata": {},
   "outputs": [],
   "source": []
  },
  {
   "cell_type": "code",
   "execution_count": 84,
   "id": "3e57606b",
   "metadata": {},
   "outputs": [
    {
     "ename": "AttributeError",
     "evalue": "'str' object has no attribute 'pop'",
     "output_type": "error",
     "traceback": [
      "\u001b[1;31m---------------------------------------------------------------------------\u001b[0m",
      "\u001b[1;31mAttributeError\u001b[0m                            Traceback (most recent call last)",
      "\u001b[1;32m~\\AppData\\Local\\Temp/ipykernel_22168/65107391.py\u001b[0m in \u001b[0;36m<module>\u001b[1;34m\u001b[0m\n\u001b[0;32m      1\u001b[0m \u001b[1;31m# remove neg, neu, and pos from\u001b[0m\u001b[1;33m\u001b[0m\u001b[1;33m\u001b[0m\u001b[0m\n\u001b[0;32m      2\u001b[0m \u001b[1;32mfor\u001b[0m \u001b[0mt\u001b[0m \u001b[1;32min\u001b[0m \u001b[0mtot\u001b[0m\u001b[1;33m:\u001b[0m\u001b[1;33m\u001b[0m\u001b[1;33m\u001b[0m\u001b[0m\n\u001b[1;32m----> 3\u001b[1;33m     \u001b[0mremove_key\u001b[0m\u001b[1;33m=\u001b[0m\u001b[0mt\u001b[0m\u001b[1;33m.\u001b[0m\u001b[0mpop\u001b[0m\u001b[1;33m[\u001b[0m\u001b[1;34m'neg'\u001b[0m\u001b[1;33m,\u001b[0m\u001b[1;34m'neu'\u001b[0m\u001b[1;33m]\u001b[0m\u001b[1;33m\u001b[0m\u001b[1;33m\u001b[0m\u001b[0m\n\u001b[0m\u001b[0;32m      4\u001b[0m     \u001b[0mprint\u001b[0m\u001b[1;33m(\u001b[0m\u001b[1;34m'neg,neu,&pos was removed from the {} Tweet.'\u001b[0m\u001b[1;33m.\u001b[0m\u001b[0mformat\u001b[0m\u001b[1;33m(\u001b[0m\u001b[0mt\u001b[0m\u001b[1;33m[\u001b[0m\u001b[1;34m'compound'\u001b[0m\u001b[1;33m]\u001b[0m\u001b[1;33m)\u001b[0m\u001b[1;33m)\u001b[0m\u001b[1;33m\u001b[0m\u001b[1;33m\u001b[0m\u001b[0m\n\u001b[0;32m      5\u001b[0m \u001b[1;33m\u001b[0m\u001b[0m\n",
      "\u001b[1;31mAttributeError\u001b[0m: 'str' object has no attribute 'pop'"
     ]
    }
   ],
   "source": [
    "# remove neg, neu, and pos from \n",
    "for t in tot:\n",
    "    remove_key=t.pop['neg','neu']\n",
    "    print('neg,neu,&pos was removed from the {} Tweet.'.format(t['compound']))\n",
    "    "
   ]
  },
  {
   "cell_type": "code",
   "execution_count": null,
   "id": "d7cef281",
   "metadata": {},
   "outputs": [],
   "source": [
    "remove_key = pd.DataFrame(columns=['compound'])"
   ]
  },
  {
   "cell_type": "code",
   "execution_count": null,
   "id": "faff3cd9",
   "metadata": {},
   "outputs": [],
   "source": [
    "remove_key.head()"
   ]
  },
  {
   "cell_type": "code",
   "execution_count": null,
   "id": "dc9741f7",
   "metadata": {},
   "outputs": [],
   "source": [
    "def get_compound_score(tweet):\n",
    "    return "
   ]
  },
  {
   "cell_type": "code",
   "execution_count": null,
   "id": "2c4687f5",
   "metadata": {},
   "outputs": [],
   "source": []
  },
  {
   "cell_type": "code",
   "execution_count": null,
   "id": "25d58715",
   "metadata": {},
   "outputs": [],
   "source": [
    "# I have to de-duplicate total_list\n"
   ]
  },
  {
   "cell_type": "code",
   "execution_count": null,
   "id": "62b5b3a2",
   "metadata": {},
   "outputs": [],
   "source": [
    "TNT.reset_index(inplace=True)"
   ]
  },
  {
   "cell_type": "code",
   "execution_count": null,
   "id": "de3dc8b0",
   "metadata": {},
   "outputs": [],
   "source": [
    "TNT.tail()"
   ]
  },
  {
   "cell_type": "code",
   "execution_count": null,
   "id": "f907fd95",
   "metadata": {},
   "outputs": [],
   "source": [
    "TNT.head()"
   ]
  },
  {
   "cell_type": "code",
   "execution_count": null,
   "id": "0084669e",
   "metadata": {},
   "outputs": [],
   "source": [
    "#df = pd.DataFrame(TNT, columns=['Date', 'Tweet', 'Compound'])"
   ]
  },
  {
   "cell_type": "code",
   "execution_count": null,
   "id": "4efcd3d9",
   "metadata": {},
   "outputs": [],
   "source": []
  },
  {
   "cell_type": "code",
   "execution_count": null,
   "id": "16753239",
   "metadata": {},
   "outputs": [],
   "source": [
    "#df.to_pickle('TNT')"
   ]
  },
  {
   "cell_type": "code",
   "execution_count": null,
   "id": "82b7c178",
   "metadata": {},
   "outputs": [],
   "source": [
    "#TNT = open(\"TNT.pkl\", \"rb\")\n",
    "#TNT_contents = pickle.load(TNT)\n",
    "#print(TNT_contents)"
   ]
  },
  {
   "cell_type": "code",
   "execution_count": null,
   "id": "fcfcebfd",
   "metadata": {},
   "outputs": [],
   "source": [
    "output = []"
   ]
  },
  {
   "cell_type": "code",
   "execution_count": null,
   "id": "a0e2b6b4",
   "metadata": {},
   "outputs": [],
   "source": [
    "df = pd.DataFrame(output, columns=['Date', 'Tweet', 'Compound'])"
   ]
  },
  {
   "cell_type": "code",
   "execution_count": null,
   "id": "5e5a15b3",
   "metadata": {},
   "outputs": [],
   "source": [
    "df.head()"
   ]
  },
  {
   "cell_type": "code",
   "execution_count": null,
   "id": "4a663b03",
   "metadata": {},
   "outputs": [],
   "source": [
    "df.to_pickle('TNT')"
   ]
  },
  {
   "cell_type": "code",
   "execution_count": null,
   "id": "c44bcda3",
   "metadata": {},
   "outputs": [],
   "source": [
    "unpickle_df = pd.read_pickle('TNT')\n",
    "df.head()"
   ]
  },
  {
   "cell_type": "code",
   "execution_count": null,
   "id": "d01c8efd",
   "metadata": {},
   "outputs": [],
   "source": [
    "df.shape"
   ]
  },
  {
   "cell_type": "markdown",
   "id": "81dce167",
   "metadata": {},
   "source": [
    "# pip installed Vader Sentiment"
   ]
  },
  {
   "cell_type": "code",
   "execution_count": 85,
   "id": "b1199a59",
   "metadata": {},
   "outputs": [],
   "source": [
    "from vaderSentiment.vaderSentiment import SentimentIntensityAnalyzer"
   ]
  },
  {
   "cell_type": "code",
   "execution_count": 86,
   "id": "60f7d10e",
   "metadata": {},
   "outputs": [],
   "source": [
    "sia = SentimentIntensityAnalyzer()"
   ]
  },
  {
   "cell_type": "code",
   "execution_count": 87,
   "id": "ca89e50f",
   "metadata": {},
   "outputs": [],
   "source": [
    "def get_polarity(tweet):\n",
    "    return sia.polarity_score(tweet)"
   ]
  },
  {
   "cell_type": "code",
   "execution_count": 88,
   "id": "d8067cb9",
   "metadata": {},
   "outputs": [
    {
     "ename": "AttributeError",
     "evalue": "'SentimentIntensityAnalyzer' object has no attribute 'polarity_score'",
     "output_type": "error",
     "traceback": [
      "\u001b[1;31m---------------------------------------------------------------------------\u001b[0m",
      "\u001b[1;31mAttributeError\u001b[0m                            Traceback (most recent call last)",
      "\u001b[1;32m~\\AppData\\Local\\Temp/ipykernel_22168/2021427108.py\u001b[0m in \u001b[0;36m<module>\u001b[1;34m\u001b[0m\n\u001b[1;32m----> 1\u001b[1;33m \u001b[0manti_cov\u001b[0m\u001b[1;33m[\u001b[0m\u001b[1;34m'Tweet'\u001b[0m\u001b[1;33m]\u001b[0m\u001b[1;33m.\u001b[0m\u001b[0mapply\u001b[0m\u001b[1;33m(\u001b[0m\u001b[0mget_polarity\u001b[0m\u001b[1;33m)\u001b[0m\u001b[1;33m\u001b[0m\u001b[1;33m\u001b[0m\u001b[0m\n\u001b[0m",
      "\u001b[1;32m~\\anaconda3\\lib\\site-packages\\pandas\\core\\series.py\u001b[0m in \u001b[0;36mapply\u001b[1;34m(self, func, convert_dtype, args, **kwargs)\u001b[0m\n\u001b[0;32m   4355\u001b[0m         \u001b[0mdtype\u001b[0m\u001b[1;33m:\u001b[0m \u001b[0mfloat64\u001b[0m\u001b[1;33m\u001b[0m\u001b[1;33m\u001b[0m\u001b[0m\n\u001b[0;32m   4356\u001b[0m         \"\"\"\n\u001b[1;32m-> 4357\u001b[1;33m         \u001b[1;32mreturn\u001b[0m \u001b[0mSeriesApply\u001b[0m\u001b[1;33m(\u001b[0m\u001b[0mself\u001b[0m\u001b[1;33m,\u001b[0m \u001b[0mfunc\u001b[0m\u001b[1;33m,\u001b[0m \u001b[0mconvert_dtype\u001b[0m\u001b[1;33m,\u001b[0m \u001b[0margs\u001b[0m\u001b[1;33m,\u001b[0m \u001b[0mkwargs\u001b[0m\u001b[1;33m)\u001b[0m\u001b[1;33m.\u001b[0m\u001b[0mapply\u001b[0m\u001b[1;33m(\u001b[0m\u001b[1;33m)\u001b[0m\u001b[1;33m\u001b[0m\u001b[1;33m\u001b[0m\u001b[0m\n\u001b[0m\u001b[0;32m   4358\u001b[0m \u001b[1;33m\u001b[0m\u001b[0m\n\u001b[0;32m   4359\u001b[0m     def _reduce(\n",
      "\u001b[1;32m~\\anaconda3\\lib\\site-packages\\pandas\\core\\apply.py\u001b[0m in \u001b[0;36mapply\u001b[1;34m(self)\u001b[0m\n\u001b[0;32m   1041\u001b[0m             \u001b[1;32mreturn\u001b[0m \u001b[0mself\u001b[0m\u001b[1;33m.\u001b[0m\u001b[0mapply_str\u001b[0m\u001b[1;33m(\u001b[0m\u001b[1;33m)\u001b[0m\u001b[1;33m\u001b[0m\u001b[1;33m\u001b[0m\u001b[0m\n\u001b[0;32m   1042\u001b[0m \u001b[1;33m\u001b[0m\u001b[0m\n\u001b[1;32m-> 1043\u001b[1;33m         \u001b[1;32mreturn\u001b[0m \u001b[0mself\u001b[0m\u001b[1;33m.\u001b[0m\u001b[0mapply_standard\u001b[0m\u001b[1;33m(\u001b[0m\u001b[1;33m)\u001b[0m\u001b[1;33m\u001b[0m\u001b[1;33m\u001b[0m\u001b[0m\n\u001b[0m\u001b[0;32m   1044\u001b[0m \u001b[1;33m\u001b[0m\u001b[0m\n\u001b[0;32m   1045\u001b[0m     \u001b[1;32mdef\u001b[0m \u001b[0magg\u001b[0m\u001b[1;33m(\u001b[0m\u001b[0mself\u001b[0m\u001b[1;33m)\u001b[0m\u001b[1;33m:\u001b[0m\u001b[1;33m\u001b[0m\u001b[1;33m\u001b[0m\u001b[0m\n",
      "\u001b[1;32m~\\anaconda3\\lib\\site-packages\\pandas\\core\\apply.py\u001b[0m in \u001b[0;36mapply_standard\u001b[1;34m(self)\u001b[0m\n\u001b[0;32m   1096\u001b[0m                 \u001b[1;31m# List[Union[Callable[..., Any], str]]]]]\"; expected\u001b[0m\u001b[1;33m\u001b[0m\u001b[1;33m\u001b[0m\u001b[0m\n\u001b[0;32m   1097\u001b[0m                 \u001b[1;31m# \"Callable[[Any], Any]\"\u001b[0m\u001b[1;33m\u001b[0m\u001b[1;33m\u001b[0m\u001b[0m\n\u001b[1;32m-> 1098\u001b[1;33m                 mapped = lib.map_infer(\n\u001b[0m\u001b[0;32m   1099\u001b[0m                     \u001b[0mvalues\u001b[0m\u001b[1;33m,\u001b[0m\u001b[1;33m\u001b[0m\u001b[1;33m\u001b[0m\u001b[0m\n\u001b[0;32m   1100\u001b[0m                     \u001b[0mf\u001b[0m\u001b[1;33m,\u001b[0m  \u001b[1;31m# type: ignore[arg-type]\u001b[0m\u001b[1;33m\u001b[0m\u001b[1;33m\u001b[0m\u001b[0m\n",
      "\u001b[1;32m~\\anaconda3\\lib\\site-packages\\pandas\\_libs\\lib.pyx\u001b[0m in \u001b[0;36mpandas._libs.lib.map_infer\u001b[1;34m()\u001b[0m\n",
      "\u001b[1;32m~\\AppData\\Local\\Temp/ipykernel_22168/1634247740.py\u001b[0m in \u001b[0;36mget_polarity\u001b[1;34m(tweet)\u001b[0m\n\u001b[0;32m      1\u001b[0m \u001b[1;32mdef\u001b[0m \u001b[0mget_polarity\u001b[0m\u001b[1;33m(\u001b[0m\u001b[0mtweet\u001b[0m\u001b[1;33m)\u001b[0m\u001b[1;33m:\u001b[0m\u001b[1;33m\u001b[0m\u001b[1;33m\u001b[0m\u001b[0m\n\u001b[1;32m----> 2\u001b[1;33m     \u001b[1;32mreturn\u001b[0m \u001b[0msia\u001b[0m\u001b[1;33m.\u001b[0m\u001b[0mpolarity_score\u001b[0m\u001b[1;33m(\u001b[0m\u001b[0mtweet\u001b[0m\u001b[1;33m)\u001b[0m\u001b[1;33m\u001b[0m\u001b[1;33m\u001b[0m\u001b[0m\n\u001b[0m",
      "\u001b[1;31mAttributeError\u001b[0m: 'SentimentIntensityAnalyzer' object has no attribute 'polarity_score'"
     ]
    }
   ],
   "source": [
    "anti_cov['Tweet'].apply(get_polarity)"
   ]
  },
  {
   "cell_type": "code",
   "execution_count": 89,
   "id": "6ceac784",
   "metadata": {},
   "outputs": [
    {
     "ename": "SyntaxError",
     "evalue": "invalid syntax (Temp/ipykernel_22168/326316924.py, line 1)",
     "output_type": "error",
     "traceback": [
      "\u001b[1;36m  File \u001b[1;32m\"C:\\Users\\wakil\\AppData\\Local\\Temp/ipykernel_22168/326316924.py\"\u001b[1;36m, line \u001b[1;32m1\u001b[0m\n\u001b[1;33m    print(get'compound')\u001b[0m\n\u001b[1;37m             ^\u001b[0m\n\u001b[1;31mSyntaxError\u001b[0m\u001b[1;31m:\u001b[0m invalid syntax\n"
     ]
    }
   ],
   "source": [
    "print(get'compound')"
   ]
  },
  {
   "cell_type": "code",
   "execution_count": 90,
   "id": "bd908683",
   "metadata": {},
   "outputs": [
    {
     "ename": "AttributeError",
     "evalue": "'SentimentIntensityAnalyzer' object has no attribute 'polarity_score'",
     "output_type": "error",
     "traceback": [
      "\u001b[1;31m---------------------------------------------------------------------------\u001b[0m",
      "\u001b[1;31mAttributeError\u001b[0m                            Traceback (most recent call last)",
      "\u001b[1;32m~\\AppData\\Local\\Temp/ipykernel_22168/2205032515.py\u001b[0m in \u001b[0;36m<module>\u001b[1;34m\u001b[0m\n\u001b[0;32m      1\u001b[0m \u001b[1;31m#anti_cov['Polarity Scores']\u001b[0m\u001b[1;33m\u001b[0m\u001b[1;33m\u001b[0m\u001b[0m\n\u001b[1;32m----> 2\u001b[1;33m \u001b[0manti_cov\u001b[0m\u001b[1;33m[\u001b[0m\u001b[1;34m'Polarity'\u001b[0m\u001b[1;33m]\u001b[0m \u001b[1;33m=\u001b[0m \u001b[0manti_cov\u001b[0m\u001b[1;33m[\u001b[0m\u001b[1;34m\"Tweet\"\u001b[0m\u001b[1;33m]\u001b[0m\u001b[1;33m.\u001b[0m\u001b[0mapply\u001b[0m\u001b[1;33m(\u001b[0m\u001b[0mget_polarity\u001b[0m\u001b[1;33m)\u001b[0m\u001b[1;33m\u001b[0m\u001b[1;33m\u001b[0m\u001b[0m\n\u001b[0m",
      "\u001b[1;32m~\\anaconda3\\lib\\site-packages\\pandas\\core\\series.py\u001b[0m in \u001b[0;36mapply\u001b[1;34m(self, func, convert_dtype, args, **kwargs)\u001b[0m\n\u001b[0;32m   4355\u001b[0m         \u001b[0mdtype\u001b[0m\u001b[1;33m:\u001b[0m \u001b[0mfloat64\u001b[0m\u001b[1;33m\u001b[0m\u001b[1;33m\u001b[0m\u001b[0m\n\u001b[0;32m   4356\u001b[0m         \"\"\"\n\u001b[1;32m-> 4357\u001b[1;33m         \u001b[1;32mreturn\u001b[0m \u001b[0mSeriesApply\u001b[0m\u001b[1;33m(\u001b[0m\u001b[0mself\u001b[0m\u001b[1;33m,\u001b[0m \u001b[0mfunc\u001b[0m\u001b[1;33m,\u001b[0m \u001b[0mconvert_dtype\u001b[0m\u001b[1;33m,\u001b[0m \u001b[0margs\u001b[0m\u001b[1;33m,\u001b[0m \u001b[0mkwargs\u001b[0m\u001b[1;33m)\u001b[0m\u001b[1;33m.\u001b[0m\u001b[0mapply\u001b[0m\u001b[1;33m(\u001b[0m\u001b[1;33m)\u001b[0m\u001b[1;33m\u001b[0m\u001b[1;33m\u001b[0m\u001b[0m\n\u001b[0m\u001b[0;32m   4358\u001b[0m \u001b[1;33m\u001b[0m\u001b[0m\n\u001b[0;32m   4359\u001b[0m     def _reduce(\n",
      "\u001b[1;32m~\\anaconda3\\lib\\site-packages\\pandas\\core\\apply.py\u001b[0m in \u001b[0;36mapply\u001b[1;34m(self)\u001b[0m\n\u001b[0;32m   1041\u001b[0m             \u001b[1;32mreturn\u001b[0m \u001b[0mself\u001b[0m\u001b[1;33m.\u001b[0m\u001b[0mapply_str\u001b[0m\u001b[1;33m(\u001b[0m\u001b[1;33m)\u001b[0m\u001b[1;33m\u001b[0m\u001b[1;33m\u001b[0m\u001b[0m\n\u001b[0;32m   1042\u001b[0m \u001b[1;33m\u001b[0m\u001b[0m\n\u001b[1;32m-> 1043\u001b[1;33m         \u001b[1;32mreturn\u001b[0m \u001b[0mself\u001b[0m\u001b[1;33m.\u001b[0m\u001b[0mapply_standard\u001b[0m\u001b[1;33m(\u001b[0m\u001b[1;33m)\u001b[0m\u001b[1;33m\u001b[0m\u001b[1;33m\u001b[0m\u001b[0m\n\u001b[0m\u001b[0;32m   1044\u001b[0m \u001b[1;33m\u001b[0m\u001b[0m\n\u001b[0;32m   1045\u001b[0m     \u001b[1;32mdef\u001b[0m \u001b[0magg\u001b[0m\u001b[1;33m(\u001b[0m\u001b[0mself\u001b[0m\u001b[1;33m)\u001b[0m\u001b[1;33m:\u001b[0m\u001b[1;33m\u001b[0m\u001b[1;33m\u001b[0m\u001b[0m\n",
      "\u001b[1;32m~\\anaconda3\\lib\\site-packages\\pandas\\core\\apply.py\u001b[0m in \u001b[0;36mapply_standard\u001b[1;34m(self)\u001b[0m\n\u001b[0;32m   1096\u001b[0m                 \u001b[1;31m# List[Union[Callable[..., Any], str]]]]]\"; expected\u001b[0m\u001b[1;33m\u001b[0m\u001b[1;33m\u001b[0m\u001b[0m\n\u001b[0;32m   1097\u001b[0m                 \u001b[1;31m# \"Callable[[Any], Any]\"\u001b[0m\u001b[1;33m\u001b[0m\u001b[1;33m\u001b[0m\u001b[0m\n\u001b[1;32m-> 1098\u001b[1;33m                 mapped = lib.map_infer(\n\u001b[0m\u001b[0;32m   1099\u001b[0m                     \u001b[0mvalues\u001b[0m\u001b[1;33m,\u001b[0m\u001b[1;33m\u001b[0m\u001b[1;33m\u001b[0m\u001b[0m\n\u001b[0;32m   1100\u001b[0m                     \u001b[0mf\u001b[0m\u001b[1;33m,\u001b[0m  \u001b[1;31m# type: ignore[arg-type]\u001b[0m\u001b[1;33m\u001b[0m\u001b[1;33m\u001b[0m\u001b[0m\n",
      "\u001b[1;32m~\\anaconda3\\lib\\site-packages\\pandas\\_libs\\lib.pyx\u001b[0m in \u001b[0;36mpandas._libs.lib.map_infer\u001b[1;34m()\u001b[0m\n",
      "\u001b[1;32m~\\AppData\\Local\\Temp/ipykernel_22168/1634247740.py\u001b[0m in \u001b[0;36mget_polarity\u001b[1;34m(tweet)\u001b[0m\n\u001b[0;32m      1\u001b[0m \u001b[1;32mdef\u001b[0m \u001b[0mget_polarity\u001b[0m\u001b[1;33m(\u001b[0m\u001b[0mtweet\u001b[0m\u001b[1;33m)\u001b[0m\u001b[1;33m:\u001b[0m\u001b[1;33m\u001b[0m\u001b[1;33m\u001b[0m\u001b[0m\n\u001b[1;32m----> 2\u001b[1;33m     \u001b[1;32mreturn\u001b[0m \u001b[0msia\u001b[0m\u001b[1;33m.\u001b[0m\u001b[0mpolarity_score\u001b[0m\u001b[1;33m(\u001b[0m\u001b[0mtweet\u001b[0m\u001b[1;33m)\u001b[0m\u001b[1;33m\u001b[0m\u001b[1;33m\u001b[0m\u001b[0m\n\u001b[0m",
      "\u001b[1;31mAttributeError\u001b[0m: 'SentimentIntensityAnalyzer' object has no attribute 'polarity_score'"
     ]
    }
   ],
   "source": [
    "#anti_cov['Polarity Scores']\n",
    "anti_cov['Polarity'] = anti_cov[\"Tweet\"].apply(get_polarity)"
   ]
  },
  {
   "cell_type": "code",
   "execution_count": 91,
   "id": "667b8d26",
   "metadata": {},
   "outputs": [
    {
     "data": {
      "text/html": [
       "<div>\n",
       "<style scoped>\n",
       "    .dataframe tbody tr th:only-of-type {\n",
       "        vertical-align: middle;\n",
       "    }\n",
       "\n",
       "    .dataframe tbody tr th {\n",
       "        vertical-align: top;\n",
       "    }\n",
       "\n",
       "    .dataframe thead th {\n",
       "        text-align: right;\n",
       "    }\n",
       "</style>\n",
       "<table border=\"1\" class=\"dataframe\">\n",
       "  <thead>\n",
       "    <tr style=\"text-align: right;\">\n",
       "      <th></th>\n",
       "      <th>Date</th>\n",
       "      <th>Tweet</th>\n",
       "    </tr>\n",
       "  </thead>\n",
       "  <tbody>\n",
       "    <tr>\n",
       "      <th>0</th>\n",
       "      <td>2022-04-17T23:55:00.000Z</td>\n",
       "      <td>RT @girls_can: ‘Learning to live’ with #COVID ...</td>\n",
       "    </tr>\n",
       "    <tr>\n",
       "      <th>1</th>\n",
       "      <td>2022-04-17T23:34:06.000Z</td>\n",
       "      <td>Both Martin and Moroz say while the booster sh...</td>\n",
       "    </tr>\n",
       "    <tr>\n",
       "      <th>2</th>\n",
       "      <td>2022-04-17T23:32:34.000Z</td>\n",
       "      <td>Children aged 12 to 17 in Manitoba are now eli...</td>\n",
       "    </tr>\n",
       "    <tr>\n",
       "      <th>3</th>\n",
       "      <td>2022-04-17T23:30:44.000Z</td>\n",
       "      <td>RT @PhilippineStar: Health Undersecretary Myrn...</td>\n",
       "    </tr>\n",
       "    <tr>\n",
       "      <th>4</th>\n",
       "      <td>2022-04-17T23:28:27.000Z</td>\n",
       "      <td>RT @OccupyMyGov: Anti vaxxers like to ask \"how...</td>\n",
       "    </tr>\n",
       "  </tbody>\n",
       "</table>\n",
       "</div>"
      ],
      "text/plain": [
       "                       Date                                              Tweet\n",
       "0  2022-04-17T23:55:00.000Z  RT @girls_can: ‘Learning to live’ with #COVID ...\n",
       "1  2022-04-17T23:34:06.000Z  Both Martin and Moroz say while the booster sh...\n",
       "2  2022-04-17T23:32:34.000Z  Children aged 12 to 17 in Manitoba are now eli...\n",
       "3  2022-04-17T23:30:44.000Z  RT @PhilippineStar: Health Undersecretary Myrn...\n",
       "4  2022-04-17T23:28:27.000Z  RT @OccupyMyGov: Anti vaxxers like to ask \"how..."
      ]
     },
     "execution_count": 91,
     "metadata": {},
     "output_type": "execute_result"
    }
   ],
   "source": [
    "anti_cov.head()"
   ]
  },
  {
   "cell_type": "code",
   "execution_count": 92,
   "id": "c101dd03",
   "metadata": {},
   "outputs": [],
   "source": [
    "dict = anti_cov\n",
    "def com_po(tweet):\n",
    "    return sia.compound_scores(tweet)"
   ]
  },
  {
   "cell_type": "code",
   "execution_count": 93,
   "id": "688e1380",
   "metadata": {},
   "outputs": [
    {
     "ename": "AttributeError",
     "evalue": "'SentimentIntensityAnalyzer' object has no attribute 'compound_scores'",
     "output_type": "error",
     "traceback": [
      "\u001b[1;31m---------------------------------------------------------------------------\u001b[0m",
      "\u001b[1;31mAttributeError\u001b[0m                            Traceback (most recent call last)",
      "\u001b[1;32m~\\AppData\\Local\\Temp/ipykernel_22168/1642753579.py\u001b[0m in \u001b[0;36m<module>\u001b[1;34m\u001b[0m\n\u001b[1;32m----> 1\u001b[1;33m \u001b[0manti_cov\u001b[0m\u001b[1;33m[\u001b[0m\u001b[1;34m'Tweet'\u001b[0m\u001b[1;33m]\u001b[0m\u001b[1;33m.\u001b[0m\u001b[0mapply\u001b[0m\u001b[1;33m(\u001b[0m\u001b[0mcom_po\u001b[0m\u001b[1;33m)\u001b[0m\u001b[1;33m\u001b[0m\u001b[1;33m\u001b[0m\u001b[0m\n\u001b[0m",
      "\u001b[1;32m~\\anaconda3\\lib\\site-packages\\pandas\\core\\series.py\u001b[0m in \u001b[0;36mapply\u001b[1;34m(self, func, convert_dtype, args, **kwargs)\u001b[0m\n\u001b[0;32m   4355\u001b[0m         \u001b[0mdtype\u001b[0m\u001b[1;33m:\u001b[0m \u001b[0mfloat64\u001b[0m\u001b[1;33m\u001b[0m\u001b[1;33m\u001b[0m\u001b[0m\n\u001b[0;32m   4356\u001b[0m         \"\"\"\n\u001b[1;32m-> 4357\u001b[1;33m         \u001b[1;32mreturn\u001b[0m \u001b[0mSeriesApply\u001b[0m\u001b[1;33m(\u001b[0m\u001b[0mself\u001b[0m\u001b[1;33m,\u001b[0m \u001b[0mfunc\u001b[0m\u001b[1;33m,\u001b[0m \u001b[0mconvert_dtype\u001b[0m\u001b[1;33m,\u001b[0m \u001b[0margs\u001b[0m\u001b[1;33m,\u001b[0m \u001b[0mkwargs\u001b[0m\u001b[1;33m)\u001b[0m\u001b[1;33m.\u001b[0m\u001b[0mapply\u001b[0m\u001b[1;33m(\u001b[0m\u001b[1;33m)\u001b[0m\u001b[1;33m\u001b[0m\u001b[1;33m\u001b[0m\u001b[0m\n\u001b[0m\u001b[0;32m   4358\u001b[0m \u001b[1;33m\u001b[0m\u001b[0m\n\u001b[0;32m   4359\u001b[0m     def _reduce(\n",
      "\u001b[1;32m~\\anaconda3\\lib\\site-packages\\pandas\\core\\apply.py\u001b[0m in \u001b[0;36mapply\u001b[1;34m(self)\u001b[0m\n\u001b[0;32m   1041\u001b[0m             \u001b[1;32mreturn\u001b[0m \u001b[0mself\u001b[0m\u001b[1;33m.\u001b[0m\u001b[0mapply_str\u001b[0m\u001b[1;33m(\u001b[0m\u001b[1;33m)\u001b[0m\u001b[1;33m\u001b[0m\u001b[1;33m\u001b[0m\u001b[0m\n\u001b[0;32m   1042\u001b[0m \u001b[1;33m\u001b[0m\u001b[0m\n\u001b[1;32m-> 1043\u001b[1;33m         \u001b[1;32mreturn\u001b[0m \u001b[0mself\u001b[0m\u001b[1;33m.\u001b[0m\u001b[0mapply_standard\u001b[0m\u001b[1;33m(\u001b[0m\u001b[1;33m)\u001b[0m\u001b[1;33m\u001b[0m\u001b[1;33m\u001b[0m\u001b[0m\n\u001b[0m\u001b[0;32m   1044\u001b[0m \u001b[1;33m\u001b[0m\u001b[0m\n\u001b[0;32m   1045\u001b[0m     \u001b[1;32mdef\u001b[0m \u001b[0magg\u001b[0m\u001b[1;33m(\u001b[0m\u001b[0mself\u001b[0m\u001b[1;33m)\u001b[0m\u001b[1;33m:\u001b[0m\u001b[1;33m\u001b[0m\u001b[1;33m\u001b[0m\u001b[0m\n",
      "\u001b[1;32m~\\anaconda3\\lib\\site-packages\\pandas\\core\\apply.py\u001b[0m in \u001b[0;36mapply_standard\u001b[1;34m(self)\u001b[0m\n\u001b[0;32m   1096\u001b[0m                 \u001b[1;31m# List[Union[Callable[..., Any], str]]]]]\"; expected\u001b[0m\u001b[1;33m\u001b[0m\u001b[1;33m\u001b[0m\u001b[0m\n\u001b[0;32m   1097\u001b[0m                 \u001b[1;31m# \"Callable[[Any], Any]\"\u001b[0m\u001b[1;33m\u001b[0m\u001b[1;33m\u001b[0m\u001b[0m\n\u001b[1;32m-> 1098\u001b[1;33m                 mapped = lib.map_infer(\n\u001b[0m\u001b[0;32m   1099\u001b[0m                     \u001b[0mvalues\u001b[0m\u001b[1;33m,\u001b[0m\u001b[1;33m\u001b[0m\u001b[1;33m\u001b[0m\u001b[0m\n\u001b[0;32m   1100\u001b[0m                     \u001b[0mf\u001b[0m\u001b[1;33m,\u001b[0m  \u001b[1;31m# type: ignore[arg-type]\u001b[0m\u001b[1;33m\u001b[0m\u001b[1;33m\u001b[0m\u001b[0m\n",
      "\u001b[1;32m~\\anaconda3\\lib\\site-packages\\pandas\\_libs\\lib.pyx\u001b[0m in \u001b[0;36mpandas._libs.lib.map_infer\u001b[1;34m()\u001b[0m\n",
      "\u001b[1;32m~\\AppData\\Local\\Temp/ipykernel_22168/1396365952.py\u001b[0m in \u001b[0;36mcom_po\u001b[1;34m(tweet)\u001b[0m\n\u001b[0;32m      1\u001b[0m \u001b[0mdict\u001b[0m \u001b[1;33m=\u001b[0m \u001b[0manti_cov\u001b[0m\u001b[1;33m\u001b[0m\u001b[1;33m\u001b[0m\u001b[0m\n\u001b[0;32m      2\u001b[0m \u001b[1;32mdef\u001b[0m \u001b[0mcom_po\u001b[0m\u001b[1;33m(\u001b[0m\u001b[0mtweet\u001b[0m\u001b[1;33m)\u001b[0m\u001b[1;33m:\u001b[0m\u001b[1;33m\u001b[0m\u001b[1;33m\u001b[0m\u001b[0m\n\u001b[1;32m----> 3\u001b[1;33m     \u001b[1;32mreturn\u001b[0m \u001b[0msia\u001b[0m\u001b[1;33m.\u001b[0m\u001b[0mcompound_scores\u001b[0m\u001b[1;33m(\u001b[0m\u001b[0mtweet\u001b[0m\u001b[1;33m)\u001b[0m\u001b[1;33m\u001b[0m\u001b[1;33m\u001b[0m\u001b[0m\n\u001b[0m",
      "\u001b[1;31mAttributeError\u001b[0m: 'SentimentIntensityAnalyzer' object has no attribute 'compound_scores'"
     ]
    }
   ],
   "source": [
    "anti_cov['Tweet'].apply(com_po)"
   ]
  },
  {
   "cell_type": "code",
   "execution_count": null,
   "id": "dbda4565",
   "metadata": {},
   "outputs": [],
   "source": []
  },
  {
   "cell_type": "code",
   "execution_count": null,
   "id": "ec45849b",
   "metadata": {},
   "outputs": [],
   "source": []
  },
  {
   "cell_type": "code",
   "execution_count": null,
   "id": "ecfb107f",
   "metadata": {},
   "outputs": [],
   "source": []
  },
  {
   "cell_type": "code",
   "execution_count": null,
   "id": "485ccadb",
   "metadata": {},
   "outputs": [],
   "source": []
  },
  {
   "cell_type": "markdown",
   "id": "0c21ea69",
   "metadata": {},
   "source": [
    "(a data type)Dictionary = D, key(s)=1value, call a value from the polarity scores dictionary\n",
    "\n",
    "write a new def Function  using -->named (get_compound_score) which will be a dictionary because I will be passing in things\n",
    "a new funtion that will take in a dictionary and return a value from a key in the dictionary and then add to polarity column"
   ]
  },
  {
   "cell_type": "code",
   "execution_count": null,
   "id": "2eee63c2",
   "metadata": {},
   "outputs": [],
   "source": [
    "def get_compound(tweet):\n",
    "    return sia.{'compound':'value1'}(tweet)"
   ]
  },
  {
   "cell_type": "code",
   "execution_count": null,
   "id": "30c56f57",
   "metadata": {},
   "outputs": [],
   "source": [
    "anti_cov['Tweet'].apply(get_compound)"
   ]
  },
  {
   "cell_type": "code",
   "execution_count": null,
   "id": "6bf506a6",
   "metadata": {},
   "outputs": [],
   "source": [
    "D = {'key1':'value1'}"
   ]
  },
  {
   "cell_type": "code",
   "execution_count": null,
   "id": "d02439e1",
   "metadata": {},
   "outputs": [],
   "source": [
    "D['key1']"
   ]
  },
  {
   "cell_type": "code",
   "execution_count": 94,
   "id": "eb8a846d",
   "metadata": {},
   "outputs": [
    {
     "data": {
      "text/html": [
       "<div>\n",
       "<style scoped>\n",
       "    .dataframe tbody tr th:only-of-type {\n",
       "        vertical-align: middle;\n",
       "    }\n",
       "\n",
       "    .dataframe tbody tr th {\n",
       "        vertical-align: top;\n",
       "    }\n",
       "\n",
       "    .dataframe thead th {\n",
       "        text-align: right;\n",
       "    }\n",
       "</style>\n",
       "<table border=\"1\" class=\"dataframe\">\n",
       "  <thead>\n",
       "    <tr style=\"text-align: right;\">\n",
       "      <th></th>\n",
       "      <th>index</th>\n",
       "      <th>Date</th>\n",
       "      <th>Tweet</th>\n",
       "      <th>compound</th>\n",
       "    </tr>\n",
       "  </thead>\n",
       "  <tbody>\n",
       "    <tr>\n",
       "      <th>0</th>\n",
       "      <td>0</td>\n",
       "      <td>2022-04-17T23:55:00.000Z</td>\n",
       "      <td>RT @girls_can: ‘Learning to live’ with #COVID ...</td>\n",
       "      <td>0.00</td>\n",
       "    </tr>\n",
       "    <tr>\n",
       "      <th>1</th>\n",
       "      <td>1</td>\n",
       "      <td>2022-04-17T23:34:06.000Z</td>\n",
       "      <td>Both Martin and Moroz say while the booster sh...</td>\n",
       "      <td>68.08</td>\n",
       "    </tr>\n",
       "    <tr>\n",
       "      <th>2</th>\n",
       "      <td>2</td>\n",
       "      <td>2022-04-17T23:32:34.000Z</td>\n",
       "      <td>Children aged 12 to 17 in Manitoba are now eli...</td>\n",
       "      <td>-42.15</td>\n",
       "    </tr>\n",
       "    <tr>\n",
       "      <th>3</th>\n",
       "      <td>3</td>\n",
       "      <td>2022-04-17T23:30:44.000Z</td>\n",
       "      <td>RT @PhilippineStar: Health Undersecretary Myrn...</td>\n",
       "      <td>0.00</td>\n",
       "    </tr>\n",
       "    <tr>\n",
       "      <th>4</th>\n",
       "      <td>4</td>\n",
       "      <td>2022-04-17T23:28:27.000Z</td>\n",
       "      <td>RT @OccupyMyGov: Anti vaxxers like to ask \"how...</td>\n",
       "      <td>5.16</td>\n",
       "    </tr>\n",
       "  </tbody>\n",
       "</table>\n",
       "</div>"
      ],
      "text/plain": [
       "   index                      Date  \\\n",
       "0      0  2022-04-17T23:55:00.000Z   \n",
       "1      1  2022-04-17T23:34:06.000Z   \n",
       "2      2  2022-04-17T23:32:34.000Z   \n",
       "3      3  2022-04-17T23:30:44.000Z   \n",
       "4      4  2022-04-17T23:28:27.000Z   \n",
       "\n",
       "                                               Tweet  compound  \n",
       "0  RT @girls_can: ‘Learning to live’ with #COVID ...      0.00  \n",
       "1  Both Martin and Moroz say while the booster sh...     68.08  \n",
       "2  Children aged 12 to 17 in Manitoba are now eli...    -42.15  \n",
       "3  RT @PhilippineStar: Health Undersecretary Myrn...      0.00  \n",
       "4  RT @OccupyMyGov: Anti vaxxers like to ask \"how...      5.16  "
      ]
     },
     "execution_count": 94,
     "metadata": {},
     "output_type": "execute_result"
    }
   ],
   "source": [
    "total_list_contents.head()"
   ]
  },
  {
   "cell_type": "code",
   "execution_count": 95,
   "id": "afb62dee",
   "metadata": {},
   "outputs": [],
   "source": [
    "import seaborn as sns"
   ]
  },
  {
   "cell_type": "code",
   "execution_count": 96,
   "id": "4e4699ad",
   "metadata": {},
   "outputs": [],
   "source": [
    "import datetime\n",
    " "
   ]
  },
  {
   "cell_type": "code",
   "execution_count": 118,
   "id": "d2de0ed2",
   "metadata": {},
   "outputs": [
    {
     "name": "stdout",
     "output_type": "stream",
     "text": [
      "Collecting pyspark\n",
      "  Downloading pyspark-3.2.1.tar.gz (281.4 MB)\n",
      "Collecting py4j==0.10.9.3\n",
      "  Downloading py4j-0.10.9.3-py2.py3-none-any.whl (198 kB)\n",
      "Building wheels for collected packages: pyspark\n",
      "  Building wheel for pyspark (setup.py): started\n",
      "  Building wheel for pyspark (setup.py): finished with status 'done'\n",
      "  Created wheel for pyspark: filename=pyspark-3.2.1-py2.py3-none-any.whl size=281853642 sha256=b21fac1f2cd7f7401e916388fb6261f8f09fb4f35b9780281224b7dc9e277aed\n",
      "  Stored in directory: c:\\users\\wakil\\appdata\\local\\pip\\cache\\wheels\\52\\45\\50\\69db7b6e1da74a1b9fcc097827db9185cb8627117de852731e\n",
      "Successfully built pyspark\n",
      "Installing collected packages: py4j, pyspark\n",
      "Successfully installed py4j-0.10.9.3 pyspark-3.2.1\n"
     ]
    }
   ],
   "source": [
    "!pip install pyspark"
   ]
  },
  {
   "cell_type": "code",
   "execution_count": 119,
   "id": "05ea6663",
   "metadata": {},
   "outputs": [],
   "source": [
    "import pyspark"
   ]
  },
  {
   "cell_type": "code",
   "execution_count": 117,
   "id": "9b5267da",
   "metadata": {},
   "outputs": [
    {
     "ename": "ModuleNotFoundError",
     "evalue": "No module named 'SparkSession'",
     "output_type": "error",
     "traceback": [
      "\u001b[1;31m---------------------------------------------------------------------------\u001b[0m",
      "\u001b[1;31mModuleNotFoundError\u001b[0m                       Traceback (most recent call last)",
      "\u001b[1;32m~\\AppData\\Local\\Temp/ipykernel_22168/4150206519.py\u001b[0m in \u001b[0;36m<module>\u001b[1;34m\u001b[0m\n\u001b[1;32m----> 1\u001b[1;33m \u001b[1;32mimport\u001b[0m \u001b[0mSparkSession\u001b[0m\u001b[1;33m\u001b[0m\u001b[1;33m\u001b[0m\u001b[0m\n\u001b[0m",
      "\u001b[1;31mModuleNotFoundError\u001b[0m: No module named 'SparkSession'"
     ]
    }
   ],
   "source": [
    "import "
   ]
  },
  {
   "cell_type": "code",
   "execution_count": 107,
   "id": "7fd6c78b",
   "metadata": {},
   "outputs": [],
   "source": [
    "import matplotlib.pyplot as plt"
   ]
  },
  {
   "cell_type": "code",
   "execution_count": 120,
   "id": "96feb92d",
   "metadata": {},
   "outputs": [],
   "source": [
    "from pyspark.sql import SparkSession"
   ]
  },
  {
   "cell_type": "code",
   "execution_count": 109,
   "id": "25743c4c",
   "metadata": {},
   "outputs": [],
   "source": [
    "pd.plotting.register_matplotlib_converters()\n",
    "import matplotlib.pyplot as plt\n",
    "%matplotlib inline"
   ]
  },
  {
   "cell_type": "code",
   "execution_count": 97,
   "id": "911ad16b",
   "metadata": {},
   "outputs": [],
   "source": [
    "from dateutil import parser"
   ]
  },
  {
   "cell_type": "code",
   "execution_count": 98,
   "id": "25e46d80",
   "metadata": {},
   "outputs": [],
   "source": [
    "from datetime import datetime\n",
    "shortDate = datetime.today().strftime('%Y-%m-%d')"
   ]
  },
  {
   "cell_type": "code",
   "execution_count": 99,
   "id": "b7896d95",
   "metadata": {},
   "outputs": [],
   "source": [
    "def get_date(d):\n",
    "    date = parser.parse(d)\n",
    "    ymd = date.strftime('%Y-%m-%d')\n",
    "    return ymd"
   ]
  },
  {
   "cell_type": "code",
   "execution_count": 100,
   "id": "49d73e15",
   "metadata": {},
   "outputs": [],
   "source": [
    "ymd = total_list_contents[\"Date\"].apply(get_date)"
   ]
  },
  {
   "cell_type": "code",
   "execution_count": 101,
   "id": "0cd0f00f",
   "metadata": {},
   "outputs": [
    {
     "name": "stdout",
     "output_type": "stream",
     "text": [
      "0      2022-04-17\n",
      "1      2022-04-17\n",
      "2      2022-04-17\n",
      "3      2022-04-17\n",
      "4      2022-04-17\n",
      "          ...    \n",
      "846    2022-05-03\n",
      "847    2022-05-03\n",
      "848    2022-05-03\n",
      "849    2022-05-03\n",
      "850    2022-05-03\n",
      "Name: Date, Length: 851, dtype: object\n"
     ]
    }
   ],
   "source": [
    "print (ymd)"
   ]
  },
  {
   "cell_type": "code",
   "execution_count": 102,
   "id": "49b3ffa7",
   "metadata": {},
   "outputs": [],
   "source": [
    "total_list_contents['YMD'] = ymd"
   ]
  },
  {
   "cell_type": "code",
   "execution_count": 103,
   "id": "03dd1783",
   "metadata": {},
   "outputs": [
    {
     "data": {
      "text/html": [
       "<div>\n",
       "<style scoped>\n",
       "    .dataframe tbody tr th:only-of-type {\n",
       "        vertical-align: middle;\n",
       "    }\n",
       "\n",
       "    .dataframe tbody tr th {\n",
       "        vertical-align: top;\n",
       "    }\n",
       "\n",
       "    .dataframe thead th {\n",
       "        text-align: right;\n",
       "    }\n",
       "</style>\n",
       "<table border=\"1\" class=\"dataframe\">\n",
       "  <thead>\n",
       "    <tr style=\"text-align: right;\">\n",
       "      <th></th>\n",
       "      <th>index</th>\n",
       "      <th>Date</th>\n",
       "      <th>Tweet</th>\n",
       "      <th>compound</th>\n",
       "      <th>YMD</th>\n",
       "    </tr>\n",
       "  </thead>\n",
       "  <tbody>\n",
       "    <tr>\n",
       "      <th>0</th>\n",
       "      <td>0</td>\n",
       "      <td>2022-04-17T23:55:00.000Z</td>\n",
       "      <td>RT @girls_can: ‘Learning to live’ with #COVID ...</td>\n",
       "      <td>0.00</td>\n",
       "      <td>2022-04-17</td>\n",
       "    </tr>\n",
       "    <tr>\n",
       "      <th>1</th>\n",
       "      <td>1</td>\n",
       "      <td>2022-04-17T23:34:06.000Z</td>\n",
       "      <td>Both Martin and Moroz say while the booster sh...</td>\n",
       "      <td>68.08</td>\n",
       "      <td>2022-04-17</td>\n",
       "    </tr>\n",
       "    <tr>\n",
       "      <th>2</th>\n",
       "      <td>2</td>\n",
       "      <td>2022-04-17T23:32:34.000Z</td>\n",
       "      <td>Children aged 12 to 17 in Manitoba are now eli...</td>\n",
       "      <td>-42.15</td>\n",
       "      <td>2022-04-17</td>\n",
       "    </tr>\n",
       "    <tr>\n",
       "      <th>3</th>\n",
       "      <td>3</td>\n",
       "      <td>2022-04-17T23:30:44.000Z</td>\n",
       "      <td>RT @PhilippineStar: Health Undersecretary Myrn...</td>\n",
       "      <td>0.00</td>\n",
       "      <td>2022-04-17</td>\n",
       "    </tr>\n",
       "    <tr>\n",
       "      <th>4</th>\n",
       "      <td>4</td>\n",
       "      <td>2022-04-17T23:28:27.000Z</td>\n",
       "      <td>RT @OccupyMyGov: Anti vaxxers like to ask \"how...</td>\n",
       "      <td>5.16</td>\n",
       "      <td>2022-04-17</td>\n",
       "    </tr>\n",
       "  </tbody>\n",
       "</table>\n",
       "</div>"
      ],
      "text/plain": [
       "   index                      Date  \\\n",
       "0      0  2022-04-17T23:55:00.000Z   \n",
       "1      1  2022-04-17T23:34:06.000Z   \n",
       "2      2  2022-04-17T23:32:34.000Z   \n",
       "3      3  2022-04-17T23:30:44.000Z   \n",
       "4      4  2022-04-17T23:28:27.000Z   \n",
       "\n",
       "                                               Tweet  compound         YMD  \n",
       "0  RT @girls_can: ‘Learning to live’ with #COVID ...      0.00  2022-04-17  \n",
       "1  Both Martin and Moroz say while the booster sh...     68.08  2022-04-17  \n",
       "2  Children aged 12 to 17 in Manitoba are now eli...    -42.15  2022-04-17  \n",
       "3  RT @PhilippineStar: Health Undersecretary Myrn...      0.00  2022-04-17  \n",
       "4  RT @OccupyMyGov: Anti vaxxers like to ask \"how...      5.16  2022-04-17  "
      ]
     },
     "execution_count": 103,
     "metadata": {},
     "output_type": "execute_result"
    }
   ],
   "source": [
    "total_list_contents.head()"
   ]
  },
  {
   "cell_type": "code",
   "execution_count": 110,
   "id": "52b92c2c",
   "metadata": {},
   "outputs": [
    {
     "data": {
      "text/plain": [
       "<AxesSubplot:xlabel='Date', ylabel='compound'>"
      ]
     },
     "execution_count": 110,
     "metadata": {},
     "output_type": "execute_result"
    },
    {
     "data": {
      "image/png": "[encoded data removed]",
      "text/plain": [
       "<Figure size 1152x432 with 1 Axes>"
      ]
     },
     "metadata": {
      "needs_background": "light"
     },
     "output_type": "display_data"
    }
   ],
   "source": [
    "#sns.set(rc = {'figure.figsize':(16,8)})\n",
    "plt.figure(figsize=(16,6))\n",
    "sns.lineplot(data=total_list_contents.head(), x=\"Date\", y=\"compound\")\n"
   ]
  },
  {
   "cell_type": "code",
   "execution_count": 105,
   "id": "857fab86",
   "metadata": {},
   "outputs": [
    {
     "name": "stdout",
     "output_type": "stream",
     "text": [
      "<class 'str'>\n",
      "<class 'str'>\n",
      "<class 'str'>\n",
      "<class 'str'>\n",
      "<class 'str'>\n"
     ]
    }
   ],
   "source": [
    "for element in total_list_contents[\"Date\"].head():\n",
    "    print (type(element))"
   ]
  },
  {
   "cell_type": "code",
   "execution_count": 121,
   "id": "d858c83c",
   "metadata": {},
   "outputs": [
    {
     "ename": "AttributeError",
     "evalue": "'DataFrame' object has no attribute 'groupBy'",
     "output_type": "error",
     "traceback": [
      "\u001b[1;31m---------------------------------------------------------------------------\u001b[0m",
      "\u001b[1;31mAttributeError\u001b[0m                            Traceback (most recent call last)",
      "\u001b[1;32m~\\AppData\\Local\\Temp/ipykernel_22168/2113383301.py\u001b[0m in \u001b[0;36m<module>\u001b[1;34m\u001b[0m\n\u001b[1;32m----> 1\u001b[1;33m \u001b[0mtotal_list_contents\u001b[0m\u001b[1;33m.\u001b[0m\u001b[0mgroupBy\u001b[0m\u001b[1;33m(\u001b[0m\u001b[1;34m'Date'\u001b[0m\u001b[1;33m)\u001b[0m\u001b[1;33m\u001b[0m\u001b[1;33m\u001b[0m\u001b[0m\n\u001b[0m",
      "\u001b[1;32m~\\anaconda3\\lib\\site-packages\\pandas\\core\\generic.py\u001b[0m in \u001b[0;36m__getattr__\u001b[1;34m(self, name)\u001b[0m\n\u001b[0;32m   5485\u001b[0m         ):\n\u001b[0;32m   5486\u001b[0m             \u001b[1;32mreturn\u001b[0m \u001b[0mself\u001b[0m\u001b[1;33m[\u001b[0m\u001b[0mname\u001b[0m\u001b[1;33m]\u001b[0m\u001b[1;33m\u001b[0m\u001b[1;33m\u001b[0m\u001b[0m\n\u001b[1;32m-> 5487\u001b[1;33m         \u001b[1;32mreturn\u001b[0m \u001b[0mobject\u001b[0m\u001b[1;33m.\u001b[0m\u001b[0m__getattribute__\u001b[0m\u001b[1;33m(\u001b[0m\u001b[0mself\u001b[0m\u001b[1;33m,\u001b[0m \u001b[0mname\u001b[0m\u001b[1;33m)\u001b[0m\u001b[1;33m\u001b[0m\u001b[1;33m\u001b[0m\u001b[0m\n\u001b[0m\u001b[0;32m   5488\u001b[0m \u001b[1;33m\u001b[0m\u001b[0m\n\u001b[0;32m   5489\u001b[0m     \u001b[1;32mdef\u001b[0m \u001b[0m__setattr__\u001b[0m\u001b[1;33m(\u001b[0m\u001b[0mself\u001b[0m\u001b[1;33m,\u001b[0m \u001b[0mname\u001b[0m\u001b[1;33m:\u001b[0m \u001b[0mstr\u001b[0m\u001b[1;33m,\u001b[0m \u001b[0mvalue\u001b[0m\u001b[1;33m)\u001b[0m \u001b[1;33m->\u001b[0m \u001b[1;32mNone\u001b[0m\u001b[1;33m:\u001b[0m\u001b[1;33m\u001b[0m\u001b[1;33m\u001b[0m\u001b[0m\n",
      "\u001b[1;31mAttributeError\u001b[0m: 'DataFrame' object has no attribute 'groupBy'"
     ]
    }
   ],
   "source": [
    "total_list_contents.groupBy('Date')"
   ]
  },
  {
   "cell_type": "code",
   "execution_count": null,
   "id": "cf8195f0",
   "metadata": {},
   "outputs": [],
   "source": []
  }
 ],
 "metadata": {
  "kernelspec": {
   "display_name": "Python 3 (ipykernel)",
   "language": "python",
   "name": "python3"
  },
  "language_info": {
   "codemirror_mode": {
    "name": "ipython",
    "version": 3
   },
   "file_extension": ".py",
   "mimetype": "text/x-python",
   "name": "python",
   "nbconvert_exporter": "python",
   "pygments_lexer": "ipython3",
   "version": "3.9.7"
  }
 },
 "nbformat": 4,
 "nbformat_minor": 5
}
